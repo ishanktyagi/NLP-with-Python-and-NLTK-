{
 "cells": [
  {
   "cell_type": "code",
   "execution_count": 1,
   "metadata": {},
   "outputs": [],
   "source": [
    "import nltk"
   ]
  },
  {
   "cell_type": "code",
   "execution_count": 2,
   "metadata": {},
   "outputs": [],
   "source": [
    "import sys\n",
    "import sklearn"
   ]
  },
  {
   "cell_type": "code",
   "execution_count": 3,
   "metadata": {},
   "outputs": [
    {
     "name": "stdout",
     "output_type": "stream",
     "text": [
      "Python : 3.5.6 |Anaconda custom (64-bit)| (default, Aug 26 2018, 16:05:27) [MSC v.1900 64 bit (AMD64)]\n",
      "nltk : 3.3\n",
      "sklearn : 0.20.0\n"
     ]
    }
   ],
   "source": [
    "print('Python : {}'.format(sys.version))\n",
    "print('nltk : {}'.format(nltk.__version__))\n",
    "print('sklearn : {}'.format(sklearn.__version__))"
   ]
  },
  {
   "cell_type": "markdown",
   "metadata": {},
   "source": [
    "## Sentence and Word tokenizing"
   ]
  },
  {
   "cell_type": "code",
   "execution_count": 4,
   "metadata": {},
   "outputs": [
    {
     "name": "stdout",
     "output_type": "stream",
     "text": [
      "['Hii there !', 'this is ISHANK TYAGI and I am Awesome.', 'PE PA PA PARAPPA']\n"
     ]
    }
   ],
   "source": [
    "from nltk.tokenize import sent_tokenize, word_tokenize\n",
    "text = 'Hii there ! this is ISHANK TYAGI and I am Awesome. PE PA PA PARAPPA  '\n",
    "print(sent_tokenize(text))"
   ]
  },
  {
   "cell_type": "code",
   "execution_count": 5,
   "metadata": {},
   "outputs": [
    {
     "name": "stdout",
     "output_type": "stream",
     "text": [
      "['Hii', 'there', '!', 'this', 'is', 'ISHANK', 'TYAGI', 'and', 'I', 'am', 'Awesome', '.', 'PE', 'PA', 'PA', 'PARAPPA']\n"
     ]
    }
   ],
   "source": [
    "print(word_tokenize(text))"
   ]
  },
  {
   "cell_type": "markdown",
   "metadata": {},
   "source": [
    "## Removing stopwords"
   ]
  },
  {
   "cell_type": "code",
   "execution_count": 6,
   "metadata": {},
   "outputs": [
    {
     "name": "stdout",
     "output_type": "stream",
     "text": [
      "{'should', 'themselves', 'with', 'few', 'which', 'yourself', 'is', 'my', \"wasn't\", 'both', 'he', \"mustn't\", \"you'll\", 'isn', 'or', 'didn', 'has', \"doesn't\", 'only', \"shan't\", 'don', 'under', 'just', 'mustn', 'our', 'about', 'into', 'its', \"you've\", 'her', 'now', 'been', 'having', 'such', 'on', \"needn't\", 'if', 'any', 'while', 'over', 'against', 'as', 'them', \"mightn't\", 'and', 'yours', 'each', 'shan', 'some', 've', 'these', \"you're\", 'once', \"wouldn't\", 'then', 'itself', 'where', 'no', \"haven't\", \"won't\", 'she', 'but', 'not', 'that', 'by', \"weren't\", 'your', 'do', 'again', 'd', 'when', 'too', 'wouldn', 'being', 'can', \"she's\", 'most', 'nor', 'be', 'needn', 'weren', 'theirs', 'all', 'they', 'below', 'in', 'above', 'will', 'won', 'had', 'ourselves', 'what', 'there', 'further', 'aren', 'himself', 'hadn', 'y', \"you'd\", 'how', 'doesn', 'because', 'so', 'down', 'at', 'ma', 'of', 't', 'through', 'am', 'during', 'own', 'why', 'hasn', 'for', 'did', \"aren't\", 'this', \"should've\", 'from', \"hasn't\", 'more', \"that'll\", 'those', 'me', 'an', 'you', 'have', 'here', 'him', \"hadn't\", 'does', 'were', 'are', 'who', 'other', 'hers', 'whom', 'a', 'ours', 'was', 's', \"shouldn't\", 'm', 'shouldn', 'up', 'couldn', 'after', 'off', \"don't\", 'until', \"didn't\", 'it', 'll', 'to', 'between', 'than', \"couldn't\", \"it's\", \"isn't\", 'mightn', 'herself', 'ain', 'myself', 'same', 'we', 'o', 'very', 'wasn', 'haven', 're', 'yourselves', 'i', 'their', 'doing', 'the', 'out', 'his', 'before'}\n"
     ]
    }
   ],
   "source": [
    "# removing stop words -useless data\n",
    "from nltk.corpus import stopwords\n",
    "print(set(stopwords.words('english')))"
   ]
  },
  {
   "cell_type": "code",
   "execution_count": 7,
   "metadata": {},
   "outputs": [],
   "source": [
    "example = 'This is some sample text showing stopword filtration'\n",
    "stop_words = set(stopwords.words('english'))\n",
    "word_tokens = word_tokenize(example)\n",
    "filtered_tokens = [w for w in word_tokens if not w in stop_words]"
   ]
  },
  {
   "cell_type": "code",
   "execution_count": 8,
   "metadata": {},
   "outputs": [
    {
     "name": "stdout",
     "output_type": "stream",
     "text": [
      "['This', 'sample', 'text', 'showing', 'stopword', 'filtration']\n"
     ]
    }
   ],
   "source": [
    "print(filtered_tokens)"
   ]
  },
  {
   "cell_type": "markdown",
   "metadata": {},
   "source": [
    "## Stemming"
   ]
  },
  {
   "cell_type": "code",
   "execution_count": 9,
   "metadata": {},
   "outputs": [],
   "source": [
    "# Stemming words with NLTK -- normslizing\n",
    "from nltk.stem import PorterStemmer\n",
    "ps = PorterStemmer()\n",
    "example_words = ['ride', 'rider', 'riding', 'rides']\n",
    "stems = [ps.stem(w) for w in example_words ]"
   ]
  },
  {
   "cell_type": "code",
   "execution_count": 10,
   "metadata": {},
   "outputs": [
    {
     "name": "stdout",
     "output_type": "stream",
     "text": [
      "['ride', 'rider', 'ride', 'ride']\n"
     ]
    }
   ],
   "source": [
    "print(stems)"
   ]
  },
  {
   "cell_type": "code",
   "execution_count": 11,
   "metadata": {},
   "outputs": [
    {
     "name": "stdout",
     "output_type": "stream",
     "text": [
      "['when', 'rider', 'are', 'ride', 'their', 'hors', ',', 'they', 'often', 'think', 'of', 'how', 'cowboy', 'rode', 'hors']\n"
     ]
    }
   ],
   "source": [
    "# Stemming an entire sentence\n",
    "new_text = 'When riders are riding their horses, they often think of how cowboys rode horses'\n",
    "words = word_tokenize(new_text)\n",
    "stem_words = [ps.stem(w) for w in words]\n",
    "print(stem_words)\n"
   ]
  },
  {
   "cell_type": "markdown",
   "metadata": {},
   "source": [
    "## POS"
   ]
  },
  {
   "cell_type": "code",
   "execution_count": 12,
   "metadata": {},
   "outputs": [
    {
     "name": "stdout",
     "output_type": "stream",
     "text": [
      "Universal Declaration of Human Rights\n",
      "Preamble\n",
      "Whereas recognition of the inherent dignity and of the equal and inalienable rights of all members of the human family is the foundation of freedom, justice and peace in the world, \n",
      "\n",
      "Whereas disregard and contempt for human rights have resulted in barbarous acts which have outraged the conscience of mankind, and the advent of a world in which human beings shall enjoy freedom of speech and belief and freedom from fear and want has been proclaimed as the highest aspiration of the common people, \n",
      "\n",
      "Whereas it is essential, if man is not to be compelled to have recourse, as a last resort, to rebellion against tyranny and oppression, that human rights should be protected by the rule of law, \n",
      "\n",
      "Whereas it is essential to promote the development of friendly relations between nations, \n",
      "\n",
      "Whereas the peoples of the United Nations have in the Charter reaffirmed their faith in fundamental human rights, in the dignity and worth of the human person and in the equal rights of men and women and have determined to promote social progress and better standards of life in larger freedom, \n",
      "\n",
      "Whereas Member States have pledged themselves to achieve, in cooperation with the United Nations, the promotion of universal respect for and observance of human rights and fundamental freedoms, \n",
      "\n",
      "Whereas a common understanding of these rights and freedoms is of the greatest importance for the full realization of this pledge, \n",
      "\n",
      "Now, therefore, \n",
      "\n",
      "The General Assembly, \n",
      "\n",
      "Proclaims this Universal Declaration of Human Rights as a common standard of achievement for all peoples and all nations, to the end that every individual and every organ of society, keeping this Declaration constantly in mind, shall strive by teaching and education to promote respect for these rights and freedoms and by progressive measures, national and international, to secure their universal and effective recognition and observance, both among the peoples of Member States themselves and among the peoples of territories under their jurisdiction. \n",
      "\n",
      "Article 1 \n",
      "All human beings are born free and equal in dignity and rights. They are endowed with reason and conscience and should act towards one another in a spirit of brotherhood. \n",
      "\n",
      "Article 2 \n",
      "Everyone is entitled to all the rights and freedoms set forth in this Declaration, without distinction of any kind, such as race, colour, sex, language, religion, political or other opinion, national or social origin, property, birth or other status. \n",
      "\n",
      "Furthermore, no distinction shall be made on the basis of the political, jurisdictional or international status of the country or territory to which a person belongs, whether it be independent, trust, non-self-governing or under any other limitation of sovereignty. \n",
      "\n",
      "Article 3 \n",
      "Everyone has the right to life, liberty and security of person. \n",
      "\n",
      "Article 4 \n",
      "No one shall be held in slavery or servitude; slavery and the slave trade shall be prohibited in all their forms. \n",
      "\n",
      "Article 5 \n",
      "No one shall be subjected to torture or to cruel, inhuman or degrading treatment or punishment. \n",
      "\n",
      "Article 6 \n",
      "Everyone has the right to recognition everywhere as a person before the law. \n",
      "\n",
      "Article 7 \n",
      "All are equal before the law and are entitled without any discrimination to equal protection of the law. All are entitled to equal protection against any discrimination in violation of this Declaration and against any incitement to such discrimination. \n",
      "\n",
      "Article 8 \n",
      "Everyone has the right to an effective remedy by the competent national tribunals for acts violating the fundamental rights granted him by the constitution or by law. \n",
      "\n",
      "Article 9 \n",
      "No one shall be subjected to arbitrary arrest, detention or exile. \n",
      "\n",
      "Article 10 \n",
      "Everyone is entitled in full equality to a fair and public hearing by an independent and impartial tribunal, in the determination of his rights and obligations and of any criminal charge against him. \n",
      "\n",
      "Article 11 \n",
      "Everyone charged with a penal offence has the right to be presumed innocent until proved guilty according to law in a public trial at which he has had all the guarantees necessary for his defence. \n",
      "No one shall be held guilty of any penal offence on account of any act or omission which did not constitute a penal offence, under national or international law, at the time when it was committed. Nor shall a heavier penalty be imposed than the one that was applicable at the time the penal offence was committed. \n",
      "Article 12 \n",
      "No one shall be subjected to arbitrary interference with his privacy, family, home or correspondence, nor to attacks upon his honour and reputation. Everyone has the right to the protection of the law against such interference or attacks. \n",
      "\n",
      "Article 13 \n",
      "Everyone has the right to freedom of movement and residence within the borders of each State. \n",
      "Everyone has the right to leave any country, including his own, and to return to his country. \n",
      "Article 14 \n",
      "Everyone has the right to seek and to enjoy in other countries asylum from persecution. \n",
      "This right may not be invoked in the case of prosecutions genuinely arising from non-political crimes or from acts contrary to the purposes and principles of the United Nations. \n",
      "Article 15 \n",
      "Everyone has the right to a nationality. \n",
      "No one shall be arbitrarily deprived of his nationality nor denied the right to change his nationality. \n",
      "Article 16 \n",
      "Men and women of full age, without any limitation due to race, nationality or religion, have the right to marry and to found a family. They are entitled to equal rights as to marriage, during marriage and at its dissolution. \n",
      "Marriage shall be entered into only with the free and full consent of the intending spouses. \n",
      "The family is the natural and fundamental group unit of society and is entitled to protection by society and the State. \n",
      "Article 17 \n",
      "Everyone has the right to own property alone as well as in association with others. \n",
      "No one shall be arbitrarily deprived of his property. \n",
      "Article 18 \n",
      "Everyone has the right to freedom of thought, conscience and religion; this right includes freedom to change his religion or belief, and freedom, either alone or in community with others and in public or private, to manifest his religion or belief in teaching, practice, worship and observance. \n",
      "\n",
      "Article 19 \n",
      "Everyone has the right to freedom of opinion and expression; this right includes freedom to hold opinions without interference and to seek, receive and impart information and ideas through any media and regardless of frontiers. \n",
      "\n",
      "Article 20 \n",
      "Everyone has the right to freedom of peaceful assembly and association. \n",
      "No one may be compelled to belong to an association. \n",
      "Article 21 \n",
      "Everyone has the right to take part in the government of his country, directly or through freely chosen representatives. \n",
      "Everyone has the right to equal access to public service in his country. \n",
      "The will of the people shall be the basis of the authority of government; this will shall be expressed in periodic and genuine elections which shall be by universal and equal suffrage and shall be held by secret vote or by equivalent free voting procedures. \n",
      "Article 22 \n",
      "Everyone, as a member of society, has the right to social security and is entitled to realization, through national effort and international co-operation and in accordance with the organization and resources of each State, of the economic, social and cultural rights indispensable for his dignity and the free development of his personality. \n",
      "\n",
      "Article 23 \n",
      "Everyone has the right to work, to free choice of employment, to just and favourable conditions of work and to protection against unemployment. \n",
      "Everyone, without any discrimination, has the right to equal pay for equal work. \n",
      "Everyone who works has the right to just and favourable remuneration ensuring for himself and his family an existence worthy of human dignity, and supplemented, if necessary, by other means of social protection. \n",
      "Everyone has the right to form and to join trade unions for the protection of his interests. \n",
      "Article 24 \n",
      "Everyone has the right to rest and leisure, including reasonable limitation of working hours and periodic holidays with pay. \n",
      "\n",
      "Article 25 \n",
      "Everyone has the right to a standard of living adequate for the health and well-being of himself and of his family, including food, clothing, housing and medical care and necessary social services, and the right to security in the event of unemployment, sickness, disability, widowhood, old age or other lack of livelihood in circumstances beyond his control. \n",
      "Motherhood and childhood are entitled to special care and assistance. All children, whether born in or out of wedlock, shall enjoy the same social protection. \n",
      "Article 26 \n",
      "Everyone has the right to education. Education shall be free, at least in the elementary and fundamental stages. Elementary education shall be compulsory. Technical and professional education shall be made generally available and higher education shall be equally accessible to all on the basis of merit. \n",
      "Education shall be directed to the full development of the human personality and to the strengthening of respect for human rights and fundamental freedoms. It shall promote understanding, tolerance and friendship among all nations, racial or religious groups, and shall further the activities of the United Nations for the maintenance of peace. \n",
      "Parents have a prior right to choose the kind of education that shall be given to their children. \n",
      "Article 27 \n",
      "Everyone has the right freely to participate in the cultural life of the community, to enjoy the arts and to share in scientific advancement and its benefits. \n",
      "Everyone has the right to the protection of the moral and material interests resulting from any scientific, literary or artistic production of which he is the author. \n",
      "Article 28 \n",
      "Everyone is entitled to a social and international order in which the rights and freedoms set forth in this Declaration can be fully realized. \n",
      "\n",
      "Article 29 \n",
      "Everyone has duties to the community in which alone th\n"
     ]
    }
   ],
   "source": [
    "# Part of Speech Tagging\n",
    "from nltk.corpus import udhr\n",
    "print(udhr.raw('English-Latin1'))"
   ]
  },
  {
   "cell_type": "markdown",
   "metadata": {},
   "source": [
    "## Loading text from corpora"
   ]
  },
  {
   "cell_type": "code",
   "execution_count": 13,
   "metadata": {},
   "outputs": [],
   "source": [
    "from nltk.corpus import state_union\n",
    "from nltk.tokenize import PunktSentenceTokenizer\n",
    "\n",
    "train_text = state_union.raw('2005-GWBush.txt')\n",
    "sample_text = state_union.raw('2006-GWBush.txt')"
   ]
  },
  {
   "cell_type": "markdown",
   "metadata": {},
   "source": [
    "## Training Senctence Tokenizer "
   ]
  },
  {
   "cell_type": "code",
   "execution_count": 14,
   "metadata": {},
   "outputs": [],
   "source": [
    "# training of PunktSentenceTokenizer\n",
    "custom_sent_tokenizer = PunktSentenceTokenizer(train_text)"
   ]
  },
  {
   "cell_type": "code",
   "execution_count": 15,
   "metadata": {},
   "outputs": [],
   "source": [
    "# using custom tokenizer to tokenize the text\n",
    "tokenized = custom_sent_tokenizer.tokenize(sample_text)"
   ]
  },
  {
   "cell_type": "code",
   "execution_count": 16,
   "metadata": {},
   "outputs": [
    {
     "name": "stdout",
     "output_type": "stream",
     "text": [
      "[\"PRESIDENT GEORGE W. BUSH'S ADDRESS BEFORE A JOINT SESSION OF THE CONGRESS ON THE STATE OF THE UNION\\n \\nJanuary 31, 2006\\n\\nTHE PRESIDENT: Thank you all.\", 'Mr. Speaker, Vice President Cheney, members of Congress, members of the Supreme Court and diplomatic corps, distinguished guests, and fellow citizens: Today our nation lost a beloved, graceful, courageous woman who called America to its founding ideals and carried on a noble dream.', 'Tonight we are comforted by the hope of a glad reunion with the husband who was taken so long ago, and we are grateful for the good life of Coretta Scott King.', '(Applause.)', 'President George W. Bush reacts to applause during his State of the Union Address at the Capitol, Tuesday, Jan.', '31, 2006.', \"White House photo by Eric DraperEvery time I'm invited to this rostrum, I'm humbled by the privilege, and mindful of the history we've seen together.\", 'We have gathered under this Capitol dome in moments of national mourning and national achievement.', 'We have served America through one of the most consequential periods of our history -- and it has been my honor to serve with you.', 'In a system of two parties, two chambers, and two elected branches, there will always be differences and debate.', 'But even tough debates can be conducted in a civil tone, and our differences cannot be allowed to harden into anger.', 'To confront the great issues before us, we must act in a spirit of goodwill and respect for one another -- and I will do my part.', 'Tonight the state of our Union is strong -- and together we will make it stronger.', '(Applause.)', 'In this decisive year, you and I will make choices that determine both the future and the character of our country.', 'We will choose to act confidently in pursuing the enemies of freedom -- or retreat from our duties in the hope of an easier life.', 'We will choose to build our prosperity by leading the world economy -- or shut ourselves off from trade and opportunity.', 'In a complex and challenging time, the road of isolationism and protectionism may seem broad and inviting -- yet it ends in danger and decline.', 'The only way to protect our people, the only way to secure the peace, the only way to control our destiny is by our leadership -- so the United States of America will continue to lead.', '(Applause.)', 'Abroad, our nation is committed to an historic, long-term goal -- we seek the end of tyranny in our world.', 'Some dismiss that goal as misguided idealism.', 'In reality, the future security of America depends on it.', 'On September the 11th, 2001, we found that problems originating in a failed and oppressive state 7,000 miles away could bring murder and destruction to our country.', 'Dictatorships shelter terrorists, and feed resentment and radicalism, and seek weapons of mass destruction.', 'Democracies replace resentment with hope, respect the rights of their citizens and their neighbors, and join the fight against terror.', \"Every step toward freedom in the world makes our country safer -- so we will act boldly in freedom's cause.\", '(Applause.)', 'Far from being a hopeless dream, the advance of freedom is the great story of our time.', 'In 1945, there were about two dozen lonely democracies in the world.', 'Today, there are 122.', \"And we're writing a new chapter in the story of self-government -- with women lining up to vote in Afghanistan, and millions of Iraqis marking their liberty with purple ink, and men and women from Lebanon to Egypt debating the rights of individuals and the necessity of freedom.\", 'At the start of 2006, more than half the people of our world live in democratic nations.', 'And we do not forget the other half -- in places like Syria and Burma, Zimbabwe, North Korea, and Iran -- because the demands of justice, and the peace of this world, require their freedom, as well.', '(Applause.)', 'President George W. Bush delivers his State of the Union Address at the Capitol, Tuesday, Jan.', '31, 2006.', 'White House photo by Eric Draper No one can deny the success of freedom, but some men rage and fight against it.', 'And one of the main sources of reaction and opposition is radical Islam -- the perversion by a few of a noble faith into an ideology of terror and death.', 'Terrorists like bin Laden are serious about mass murder -- and all of us must take their declared intentions seriously.', 'They seek to impose a heartless system of totalitarian control throughout the Middle East, and arm themselves with weapons of mass murder.', 'Their aim is to seize power in Iraq, and use it as a safe haven to launch attacks against America and the world.', 'Lacking the military strength to challenge us directly, the terrorists have chosen the weapon of fear.', 'When they murder children at a school in Beslan, or blow up commuters in London, or behead a bound captive, the terrorists hope these horrors will break our will, allowing the violent to inherit the Earth.', 'But they have miscalculated: We love our freedom, and we will fight to keep it.', '(Applause.)', 'In a time of testing, we cannot find security by abandoning our commitments and retreating within our borders.', 'If we were to leave these vicious attackers alone, they would not leave us alone.', 'They would simply move the battlefield to our own shores.', 'There is no peace in retreat.', 'And there is no honor in retreat.', 'By allowing radical Islam to work its will -- by leaving an assaulted world to fend for itself -- we would signal to all that we no longer believe in our own ideals, or even in our own courage.', 'But our enemies and our friends can be certain: The United States will not retreat from the world, and we will never surrender to evil.', '(Applause.)', 'America rejects the false comfort of isolationism.', 'We are the nation that saved liberty in Europe, and liberated death camps, and helped raise up democracies, and faced down an evil empire.', 'Once again, we accept the call of history to deliver the oppressed and move this world toward peace.', 'We remain on the offensive against terror networks.', 'We have killed or captured many of their leaders -- and for the others, their day will come.', 'President George W. Bush greets members of Congress after his State of the Union Address at the Capitol, Tuesday, Jan.', '31, 2006.', 'White House photo by Eric Draper We remain on the offensive in Afghanistan, where a fine President and a National Assembly are fighting terror while building the institutions of a new democracy.', \"We're on the offensive in Iraq, with a clear plan for victory.\", \"First, we're helping Iraqis build an inclusive government, so that old resentments will be eased and the insurgency will be marginalized.\", \"Second, we're continuing reconstruction efforts, and helping the Iraqi government to fight corruption and build a modern economy, so all Iraqis can experience the benefits of freedom.\", \"And, third, we're striking terrorist targets while we train Iraqi forces that are increasingly capable of defeating the enemy.\", 'Iraqis are showing their courage every day, and we are proud to be their allies in the cause of freedom.', '(Applause.)', 'Our work in Iraq is difficult because our enemy is brutal.', 'But that brutality has not stopped the dramatic progress of a new democracy.', 'In less than three years, the nation has gone from dictatorship to liberation, to sovereignty, to a constitution, to national elections.', 'At the same time, our coalition has been relentless in shutting off terrorist infiltration, clearing out insurgent strongholds, and turning over territory to Iraqi security forces.', 'I am confident in our plan for victory; I am confident in the will of the Iraqi people; I am confident in the skill and spirit of our military.', 'Fellow citizens, we are in this fight to win, and we are winning.', '(Applause.)', 'The road of victory is the road that will take our troops home.', 'As we make progress on the ground, and Iraqi forces increasingly take the lead, we should be able to further decrease our troop levels -- but those decisions will be made by our military commanders, not by politicians in Washington, D.C.', '(Applause.)', 'Our coalition has learned from our experience in Iraq.', \"We've adjusted our military tactics and changed our approach to reconstruction.\", 'Along the way, we have benefitted from responsible criticism and counsel offered by members of Congress of both parties.', 'In the coming year, I will continue to reach out and seek your good advice.', 'Yet, there is a difference between responsible criticism that aims for success, and defeatism that refuses to acknowledge anything but failure.', '(Applause.)', 'Hindsight alone is not wisdom, and second-guessing is not a strategy.', '(Applause.)', 'With so much in the balance, those of us in public office have a duty to speak with candor.', 'A sudden withdrawal of our forces from Iraq would abandon our Iraqi allies to death and prison, would put men like bin Laden and Zarqawi in charge of a strategic country, and show that a pledge from America means little.', 'Members of Congress, however we feel about the decisions and debates of the past, our nation has only one option: We must keep our word, defeat our enemies, and stand behind the American military in this vital mission.', '(Applause.)', 'Laura Bush is applauded as she is introduced Tuesday evening, Jan.', '31, 2006 during the State of the Union Address at United States Capitol in Washington.', 'White House photo by Eric Draper Our men and women in uniform are making sacrifices -- and showing a sense of duty stronger than all fear.', \"They know what it's like to fight house to house in a maze of streets, to wear heavy gear in the desert heat, to see a comrade killed by a roadside bomb.\", 'And those who know the costs also know the stakes.', 'Marine Staff Sergeant Dan Clay was killed last month fighting in Fallujah.', 'He left behind a letter to his family, but his words could just as well be addressed to every American.', 'Here is what Dan wrote: \"I know what honor is.', '... It has been an honor to protect and serve all of you.', 'I faced death with the secure knowledge that you would not have to....', 'Never falter!', 'Don\\'t hesitate to honor and support those of us who have the honor of protecting that which is worth protecting.\"', \"Staff Sergeant Dan Clay's wife, Lisa, and his mom and dad, Sara Jo and Bud, are with us this evening.\", 'Welcome.', '(Applause.)', 'Our nation is grateful to the fallen, who live in the memory of our country.', \"We're grateful to all who volunteer to wear our nation's uniform -- and as we honor our brave troops, let us never forget the sacrifices of America's military families.\", '(Applause.)', 'Our offensive against terror involves more than military action.', 'Ultimately, the only way to defeat the terrorists is to defeat their dark vision of hatred and fear by offering the hopeful alternative of political freedom and peaceful change.', 'So the United States of America supports democratic reform across the broader Middle East.', 'Elections are vital, but they are only the beginning.', 'Raising up a democracy requires the rule of law, and protection of minorities, and strong, accountable institutions that last longer than a single vote.', 'The great people of Egypt have voted in a multi-party presidential election -- and now their government should open paths of peaceful opposition that will reduce the appeal of radicalism.', 'The Palestinian people have voted in elections.', 'And now the leaders of Hamas must recognize Israel, disarm, reject terrorism, and work for lasting peace.', '(Applause.)', 'Saudi Arabia has taken the first steps of reform -- now it can offer its people a better future by pressing forward with those efforts.', 'Democracies in the Middle East will not look like our own, because they will reflect the traditions of their own citizens.', 'Yet liberty is the future of every nation in the Middle East, because liberty is the right and hope of all humanity.', '(Applause.)', 'President George W. Bush waves toward the upper visitors gallery of the House Chamber following his State of the Union remarks Tuesday, Jan.', '31, 2006 at the United States Capitol.', 'White House photo by Eric Draper The same is true of Iran, a nation now held hostage by a small clerical elite that is isolating and repressing its people.', 'The regime in that country sponsors terrorists in the Palestinian territories and in Lebanon -- and that must come to an end.', '(Applause.)', 'The Iranian government is defying the world with its nuclear ambitions, and the nations of the world must not permit the Iranian regime to gain nuclear weapons.', '(Applause.)', 'America will continue to rally the world to confront these threats.', 'Tonight, let me speak directly to the citizens of Iran: America respects you, and we respect your country.', 'We respect your right to choose your own future and win your own freedom.', 'And our nation hopes one day to be the closest of friends with a free and democratic Iran.', '(Applause.)', 'To overcome dangers in our world, we must also take the offensive by encouraging economic progress, and fighting disease, and spreading hope in hopeless lands.', 'Isolationism would not only tie our hands in fighting enemies, it would keep us from helping our friends in desperate need.', 'We show compassion abroad because Americans believe in the God-given dignity and worth of a villager with HIV/AIDS, or an infant with malaria, or a refugee fleeing genocide, or a young girl sold into slavery.', 'We also show compassion abroad because regions overwhelmed by poverty, corruption, and despair are sources of terrorism, and organized crime, and human trafficking, and the drug trade.', 'In recent years, you and I have taken unprecedented action to fight AIDS and malaria, expand the education of girls, and reward developing nations that are moving forward with economic and political reform.', 'For people everywhere, the United States is a partner for a better life.', 'Short-changing these efforts would increase the suffering and chaos of our world, undercut our long-term security, and dull the conscience of our country.', 'I urge members of Congress to serve the interests of America by showing the compassion of America.', 'Our country must also remain on the offensive against terrorism here at home.', 'The enemy has not lost the desire or capability to attack us.', 'Fortunately, this nation has superb professionals in law enforcement, intelligence, the military, and homeland security.', 'These men and women are dedicating their lives, protecting us all, and they deserve our support and our thanks.', '(Applause.)', 'They also deserve the same tools they already use to fight drug trafficking and organized crime -- so I ask you to reauthorize the Patriot Act.', '(Applause.)', 'It is said that prior to the attacks of September the 11th, our government failed to connect the dots of the conspiracy.', 'We now know that two of the hijackers in the United States placed telephone calls to al Qaeda operatives overseas.', 'But we did not know about their plans until it was too late.', 'So to prevent another attack -- based on authority given to me by the Constitution and by statute -- I have authorized a terrorist surveillance program to aggressively pursue the international communications of suspected al Qaeda operatives and affiliates to and from America.', 'Previous Presidents have used the same constitutional authority I have, and federal courts have approved the use of that authority.', 'Appropriate members of Congress have been kept informed.', 'The terrorist surveillance program has helped prevent terrorist attacks.', 'It remains essential to the security of America.', 'If there are people inside our country who are talking with al Qaeda, we want to know about it, because we will not sit back and wait to be hit again.', '(Applause.)', 'In all these areas -- from the disruption of terror networks, to victory in Iraq, to the spread of freedom and hope in troubled regions -- we need the support of our friends and allies.', 'To draw that support, we must always be clear in our principles and willing to act.', 'The only alternative to American leadership is a dramatically more dangerous and anxious world.', 'Yet we also choose to lead because it is a privilege to serve the values that gave us birth.', 'American leaders -- from Roosevelt to Truman to Kennedy to Reagan -- rejected isolation and retreat, because they knew that America is always more secure when freedom is on the march.', 'Our own generation is in a long war against a determined enemy -- a war that will be fought by Presidents of both parties, who will need steady bipartisan support from the Congress.', 'And tonight I ask for yours.', 'Together, let us protect our country, support the men and women who defend us, and lead this world toward freedom.', '(Applause.)', 'Here at home, America also has a great opportunity: We will build the prosperity of our country by strengthening our economic leadership in the world.', 'Our economy is healthy and vigorous, and growing faster than other major industrialized nations.', 'In the last two-and-a-half years, America has created 4.6 million new jobs -- more than Japan and the European Union combined.', '(Applause.)', 'Even in the face of higher energy prices and natural disasters, the American people have turned in an economic performance that is the envy of the world.', 'The American economy is preeminent, but we cannot afford to be complacent.', \"In a dynamic world economy, we are seeing new competitors, like China and India, and this creates uncertainty, which makes it easier to feed people's fears.\", \"So we're seeing some old temptations return.\", 'Protectionists want to escape competition, pretending that we can keep our high standard of living while walling off our economy.', 'Others say that the government needs to take a larger role in directing the economy, centralizing more power in Washington and increasing taxes.', 'We hear claims that immigrants are somehow bad for the economy -- even though this economy could not function without them.', '(Applause.)', 'All these are forms of economic retreat, and they lead in the same direction -- toward a stagnant and second-rate economy.', 'Tonight I will set out a better path: an agenda for a nation that competes with confidence; an agenda that will raise standards of living and generate new jobs.', 'Americans should not fear our economic future, because we intend to shape it.', 'Keeping America competitive begins with keeping our economy growing.', 'And our economy grows when Americans have more of their own money to spend, save, and invest.', 'In the last five years, the tax relief you passed has left $880 billion in the hands of American workers, investors, small businesses, and families -- and they have used it to help produce more than four years of uninterrupted economic growth.', '(Applause.)', 'Yet the tax relief is set to expire in the next few years.', 'If we do nothing, American families will face a massive tax increase they do not expect and will not welcome.', 'Because America needs more than a temporary expansion, we need more than temporary tax relief.', 'I urge the Congress to act responsibly, and make the tax cuts permanent.', '(Applause.)', 'Keeping America competitive requires us to be good stewards of tax dollars.', \"Every year of my presidency, we've reduced the growth of non-security discretionary spending, and last year you passed bills that cut this spending.\", 'This year my budget will cut it again, and reduce or eliminate more than 140 programs that are performing poorly or not fulfilling essential priorities.', 'By passing these reforms, we will save the American taxpayer another $14 billion next year, and stay on track to cut the deficit in half by 2009.', '(Applause.)', 'I am pleased that members of Congress are working on earmark reform, because the federal budget has too many special interest projects.', '(Applause.)', 'And we can tackle this problem together, if you pass the line-item veto.', '(Applause.)', 'We must also confront the larger challenge of mandatory spending, or entitlements.', \"This year, the first of about 78 million baby boomers turn 60, including two of my Dad's favorite people -- me and President Clinton.\", '(Laughter.)', 'This milestone is more than a personal crisis -- (laughter) -- it is a national challenge.', 'The retirement of the baby boom generation will put unprecedented strains on the federal government.', 'By 2030, spending for Social Security, Medicare and Medicaid alone will be almost 60 percent of the entire federal budget.', 'And that will present future Congresses with impossible choices -- staggering tax increases, immense deficits, or deep cuts in every category of spending.', 'Congress did not act last year on my proposal to save Social Security -- (applause) -- yet the rising cost of entitlements is a problem that is not going away.', '(Applause.)', 'And every year we fail to act, the situation gets worse.', 'So tonight, I ask you to join me in creating a commission to examine the full impact of baby boom retirements on Social Security, Medicare, and Medicaid.', 'This commission should include members of Congress of both parties, and offer bipartisan solutions.', 'We need to put aside partisan politics and work together and get this problem solved.', '(Applause.)', 'Keeping America competitive requires us to open more markets for all that Americans make and grow.', 'One out of every five factory jobs in America is related to global trade, and we want people everywhere to buy American.', 'With open markets and a level playing field, no one can out-produce or out-compete the American worker.', '(Applause.)', 'Keeping America competitive requires an immigration system that upholds our laws, reflects our values, and serves the interests of our economy.', 'Our nation needs orderly and secure borders.', '(Applause.)', 'To meet this goal, we must have stronger immigration enforcement and border protection.', '(Applause.)', 'And we must have a rational, humane guest worker program that rejects amnesty, allows temporary jobs for people who seek them legally, and reduces smuggling and crime at the border.', '(Applause.)', 'Keeping America competitive requires affordable health care.', '(Applause.)', 'Our government has a responsibility to provide health care for the poor and the elderly, and we are meeting that responsibility.', '(Applause.)', 'For all Americans -- for all Americans, we must confront the rising cost of care, strengthen the doctor-patient relationship, and help people afford the insurance coverage they need.', '(Applause.)', 'We will make wider use of electronic records and other health information technology, to help control costs and reduce dangerous medical errors.', 'We will strengthen health savings accounts -- making sure individuals and small business employees can buy insurance with the same advantages that people working for big businesses now get.', '(Applause.)', 'We will do more to make this coverage portable, so workers can switch jobs without having to worry about losing their health insurance.', '(Applause.)', 'And because lawsuits are driving many good doctors out of practice -- leaving women in nearly 1,500 American counties without a single OB/GYN -- I ask the Congress to pass medical liability reform this year.', '(Applause.)', 'Keeping America competitive requires affordable energy.', 'And here we have a serious problem: America is addicted to oil, which is often imported from unstable parts of the world.', 'The best way to break this addiction is through technology.', 'Since 2001, we have spent nearly $10 billion to develop cleaner, cheaper, and more reliable alternative energy sources -- and we are on the threshold of incredible advances.', 'So tonight, I announce the Advanced Energy Initiative -- a 22-percent increase in clean-energy research -- at the Department of Energy, to push for breakthroughs in two vital areas.', 'To change how we power our homes and offices, we will invest more in zero-emission coal-fired plants, revolutionary solar and wind technologies, and clean, safe nuclear energy.', '(Applause.)', 'We must also change how we power our automobiles.', 'We will increase our research in better batteries for hybrid and electric cars, and in pollution-free cars that run on hydrogen.', \"We'll also fund additional research in cutting-edge methods of producing ethanol, not just from corn, but from wood chips and stalks, or switch grass.\", 'Our goal is to make this new kind of ethanol practical and competitive within six years.', '(Applause.)', 'Breakthroughs on this and other new technologies will help us reach another great goal: to replace more than 75 percent of our oil imports from the Middle East by 2025.', '(Applause.)', 'By applying the talent and technology of America, this country can dramatically improve our environment, move beyond a petroleum-based economy, and make our dependence on Middle Eastern oil a thing of the past.', '(Applause.)', 'And to keep America competitive, one commitment is necessary above all: We must continue to lead the world in human talent and creativity.', \"Our greatest advantage in the world has always been our educated, hardworking, ambitious people -- and we're going to keep that edge.\", \"Tonight I announce an American Competitiveness Initiative, to encourage innovation throughout our economy, and to give our nation's children a firm grounding in math and science.\", '(Applause.)', 'First, I propose to double the federal commitment to the most critical basic research programs in the physical sciences over the next 10 years.', \"This funding will support the work of America's most creative minds as they explore promising areas such as nanotechnology, supercomputing, and alternative energy sources.\", 'Second, I propose to make permanent the research and development tax credit -- (applause) -- to encourage bolder private-sector initiatives in technology.', 'With more research in both the public and private sectors, we will improve our quality of life -- and ensure that America will lead the world in opportunity and innovation for decades to come.', '(Applause.)', 'Third, we need to encourage children to take more math and science, and to make sure those courses are rigorous enough to compete with other nations.', \"We've made a good start in the early grades with the No Child Left Behind Act, which is raising standards and lifting test scores across our country.\", 'Tonight I propose to train 70,000 high school teachers to lead advanced-placement courses in math and science, bring 30,000 math and science professionals to teach in classrooms, and give early help to students who struggle with math, so they have a better chance at good, high-wage jobs.', \"If we ensure that America's children succeed in life, they will ensure that America succeeds in the world.\", '(Applause.)', 'Preparing our nation to compete in the world is a goal that all of us can share.', 'I urge you to support the American Competitiveness Initiative, and together we will show the world what the American people can achieve.', 'America is a great force for freedom and prosperity.', 'Yet our greatness is not measured in power or luxuries, but by who we are and how we treat one another.', 'So we strive to be a compassionate, decent, hopeful society.', 'In recent years, America has become a more hopeful nation.', 'Violent crime rates have fallen to their lowest levels since the 1970s.', 'Welfare cases have dropped by more than half over the past decade.', 'Drug use among youth is down 19 percent since 2001.', 'There are fewer abortions in America than at any point in the last three decades, and the number of children born to teenage mothers has been falling for a dozen years in a row.', '(Applause.)', 'These gains are evidence of a quiet transformation -- a revolution of conscience, in which a rising generation is finding that a life of personal responsibility is a life of fulfillment.', 'Government has played a role.', 'Wise policies, such as welfare reform and drug education and support for abstinence and adoption have made a difference in the character of our country.', 'And everyone here tonight, Democrat and Republican, has a right to be proud of this record.', '(Applause.)', 'Yet many Americans, especially parents, still have deep concerns about the direction of our culture, and the health of our most basic institutions.', \"They're concerned about unethical conduct by public officials, and discouraged by activist courts that try to redefine marriage.\", 'They worry about children in our society who need direction and love, and about fellow citizens still displaced by natural disaster, and about suffering caused by treatable diseases.', 'As we look at these challenges, we must never give in to the belief that America is in decline, or that our culture is doomed to unravel.', 'The American people know better than that.', 'We have proven the pessimists wrong before -- and we will do it again.', '(Applause.)', 'A hopeful society depends on courts that deliver equal justice under the law.', 'The Supreme Court now has two superb new members -- new members on its bench: Chief Justice John Roberts and Justice Sam Alito.', '(Applause.)', 'I thank the Senate for confirming both of them.', 'I will continue to nominate men and women who understand that judges must be servants of the law, and not legislate from the bench.', '(Applause.)', 'Today marks the official retirement of a very special American.', \"For 24 years of faithful service to our nation, the United States is grateful to Justice Sandra Day O'Connor.\", '(Applause.)', 'A hopeful society has institutions of science and medicine that do not cut ethical corners, and that recognize the matchless value of every life.', 'Tonight I ask you to pass legislation to prohibit the most egregious abuses of medical research: human cloning in all its forms, creating or implanting embryos for experiments, creating human-animal hybrids, and buying, selling, or patenting human embryos.', 'Human life is a gift from our Creator -- and that gift should never be discarded, devalued or put up for sale.', '(Applause.)', 'A hopeful society expects elected officials to uphold the public trust.', '(Applause.)', 'Honorable people in both parties are working on reforms to strengthen the ethical standards of Washington -- I support your efforts.', 'Each of us has made a pledge to be worthy of public responsibility -- and that is a pledge we must never forget, never dismiss, and never betray.', '(Applause.)', 'As we renew the promise of our institutions, let us also show the character of America in our compassion and care for one another.', 'A hopeful society gives special attention to children who lack direction and love.', \"Through the Helping America's Youth Initiative, we are encouraging caring adults to get involved in the life of a child -- and this good work is being led by our First Lady, Laura Bush.\", '(Applause.)', \"This year we will add resources to encourage young people to stay in school, so more of America's youth can raise their sights and achieve their dreams.\", \"A hopeful society comes to the aid of fellow citizens in times of suffering and emergency -- and stays at it until they're back on their feet.\", 'So far the federal government has committed $85 billion to the people of the Gulf Coast and New Orleans.', \"We're removing debris and repairing highways and rebuilding stronger levees.\", \"We're providing business loans and housing assistance.\", 'Yet as we meet these immediate needs, we must also address deeper challenges that existed before the storm arrived.', 'In New Orleans and in other places, many of our fellow citizens have felt excluded from the promise of our country.', 'The answer is not only temporary relief, but schools that teach every child, and job skills that bring upward mobility, and more opportunities to own a home and start a business.', 'As we recover from a disaster, let us also work for the day when all Americans are protected by justice, equal in hope, and rich in opportunity.', '(Applause.)', 'A hopeful society acts boldly to fight diseases like HIV/AIDS, which can be prevented, and treated, and defeated.', 'More than a million Americans live with HIV, and half of all AIDS cases occur among African Americans.', 'I ask Congress to reform and reauthorize the Ryan White Act, and provide new funding to states, so we end the waiting lists for AIDS medicines in America.', '(Applause.)', 'We will also lead a nationwide effort, working closely with African American churches and faith-based groups, to deliver rapid HIV tests to millions, end the stigma of AIDS, and come closer to the day when there are no new infections in America.', '(Applause.)', \"Fellow citizens, we've been called to leadership in a period of consequence.\", \"We've entered a great ideological conflict we did nothing to invite.\", 'We see great changes in science and commerce that will influence all our lives.', 'Sometimes it can seem that history is turning in a wide arc, toward an unknown shore.', 'Yet the destination of history is determined by human action, and every great movement of history comes to a point of choosing.', 'Lincoln could have accepted peace at the cost of disunity and continued slavery.', 'Martin Luther King could have stopped at Birmingham or at Selma, and achieved only half a victory over segregation.', 'The United States could have accepted the permanent division of Europe, and been complicit in the oppression of others.', 'Today, having come far in our own historical journey, we must decide: Will we turn back, or finish well?', 'Before history is written down in books, it is written in courage.', 'Like Americans before us, we will show that courage and we will finish well.', \"We will lead freedom's advance.\", 'We will compete and excel in the global economy.', 'We will renew the defining moral commitments of this land.', 'And so we move forward -- optimistic about our country, faithful to its cause, and confident of the victories to come.', 'May God bless America.', '(Applause.)']\n"
     ]
    }
   ],
   "source": [
    "print(tokenized)"
   ]
  },
  {
   "cell_type": "code",
   "execution_count": 17,
   "metadata": {},
   "outputs": [],
   "source": [
    "#define a function tht will tag each tokenized word with a part of speech\n",
    "def process_content():\n",
    "    try:\n",
    "        for i in tokenized[:5]:\n",
    "            words = nltk.word_tokenize(i)\n",
    "            tagged = nltk.pos_tag(words)\n",
    "            print(tagged)\n",
    "            print('\\n');\n",
    "    except Exception as e:\n",
    "        print(str(e))"
   ]
  },
  {
   "cell_type": "code",
   "execution_count": 18,
   "metadata": {},
   "outputs": [
    {
     "name": "stdout",
     "output_type": "stream",
     "text": [
      "[('PRESIDENT', 'NNP'), ('GEORGE', 'NNP'), ('W.', 'NNP'), ('BUSH', 'NNP'), (\"'S\", 'POS'), ('ADDRESS', 'NNP'), ('BEFORE', 'IN'), ('A', 'NNP'), ('JOINT', 'NNP'), ('SESSION', 'NNP'), ('OF', 'IN'), ('THE', 'NNP'), ('CONGRESS', 'NNP'), ('ON', 'NNP'), ('THE', 'NNP'), ('STATE', 'NNP'), ('OF', 'IN'), ('THE', 'NNP'), ('UNION', 'NNP'), ('January', 'NNP'), ('31', 'CD'), (',', ','), ('2006', 'CD'), ('THE', 'NNP'), ('PRESIDENT', 'NNP'), (':', ':'), ('Thank', 'NNP'), ('you', 'PRP'), ('all', 'DT'), ('.', '.')]\n",
      "\n",
      "\n",
      "[('Mr.', 'NNP'), ('Speaker', 'NNP'), (',', ','), ('Vice', 'NNP'), ('President', 'NNP'), ('Cheney', 'NNP'), (',', ','), ('members', 'NNS'), ('of', 'IN'), ('Congress', 'NNP'), (',', ','), ('members', 'NNS'), ('of', 'IN'), ('the', 'DT'), ('Supreme', 'NNP'), ('Court', 'NNP'), ('and', 'CC'), ('diplomatic', 'JJ'), ('corps', 'NN'), (',', ','), ('distinguished', 'JJ'), ('guests', 'NNS'), (',', ','), ('and', 'CC'), ('fellow', 'JJ'), ('citizens', 'NNS'), (':', ':'), ('Today', 'VB'), ('our', 'PRP$'), ('nation', 'NN'), ('lost', 'VBD'), ('a', 'DT'), ('beloved', 'VBN'), (',', ','), ('graceful', 'JJ'), (',', ','), ('courageous', 'JJ'), ('woman', 'NN'), ('who', 'WP'), ('called', 'VBD'), ('America', 'NNP'), ('to', 'TO'), ('its', 'PRP$'), ('founding', 'NN'), ('ideals', 'NNS'), ('and', 'CC'), ('carried', 'VBD'), ('on', 'IN'), ('a', 'DT'), ('noble', 'JJ'), ('dream', 'NN'), ('.', '.')]\n",
      "\n",
      "\n",
      "[('Tonight', 'NN'), ('we', 'PRP'), ('are', 'VBP'), ('comforted', 'VBN'), ('by', 'IN'), ('the', 'DT'), ('hope', 'NN'), ('of', 'IN'), ('a', 'DT'), ('glad', 'JJ'), ('reunion', 'NN'), ('with', 'IN'), ('the', 'DT'), ('husband', 'NN'), ('who', 'WP'), ('was', 'VBD'), ('taken', 'VBN'), ('so', 'RB'), ('long', 'RB'), ('ago', 'RB'), (',', ','), ('and', 'CC'), ('we', 'PRP'), ('are', 'VBP'), ('grateful', 'JJ'), ('for', 'IN'), ('the', 'DT'), ('good', 'JJ'), ('life', 'NN'), ('of', 'IN'), ('Coretta', 'NNP'), ('Scott', 'NNP'), ('King', 'NNP'), ('.', '.')]\n",
      "\n",
      "\n",
      "[('(', '('), ('Applause', 'NNP'), ('.', '.'), (')', ')')]\n",
      "\n",
      "\n",
      "[('President', 'NNP'), ('George', 'NNP'), ('W.', 'NNP'), ('Bush', 'NNP'), ('reacts', 'VBZ'), ('to', 'TO'), ('applause', 'VB'), ('during', 'IN'), ('his', 'PRP$'), ('State', 'NNP'), ('of', 'IN'), ('the', 'DT'), ('Union', 'NNP'), ('Address', 'NNP'), ('at', 'IN'), ('the', 'DT'), ('Capitol', 'NNP'), (',', ','), ('Tuesday', 'NNP'), (',', ','), ('Jan', 'NNP'), ('.', '.')]\n",
      "\n",
      "\n"
     ]
    }
   ],
   "source": [
    "process_content()"
   ]
  },
  {
   "cell_type": "markdown",
   "metadata": {},
   "source": [
    "## Various Tag of POS in NLTK"
   ]
  },
  {
   "cell_type": "code",
   "execution_count": 19,
   "metadata": {},
   "outputs": [
    {
     "name": "stdout",
     "output_type": "stream",
     "text": [
      "$: dollar\n",
      "    $ -$ --$ A$ C$ HK$ M$ NZ$ S$ U.S.$ US$\n",
      "'': closing quotation mark\n",
      "    ' ''\n",
      "(: opening parenthesis\n",
      "    ( [ {\n",
      "): closing parenthesis\n",
      "    ) ] }\n",
      ",: comma\n",
      "    ,\n",
      "--: dash\n",
      "    --\n",
      ".: sentence terminator\n",
      "    . ! ?\n",
      ":: colon or ellipsis\n",
      "    : ; ...\n",
      "CC: conjunction, coordinating\n",
      "    & 'n and both but either et for less minus neither nor or plus so\n",
      "    therefore times v. versus vs. whether yet\n",
      "CD: numeral, cardinal\n",
      "    mid-1890 nine-thirty forty-two one-tenth ten million 0.5 one forty-\n",
      "    seven 1987 twenty '79 zero two 78-degrees eighty-four IX '60s .025\n",
      "    fifteen 271,124 dozen quintillion DM2,000 ...\n",
      "DT: determiner\n",
      "    all an another any both del each either every half la many much nary\n",
      "    neither no some such that the them these this those\n",
      "EX: existential there\n",
      "    there\n",
      "FW: foreign word\n",
      "    gemeinschaft hund ich jeux habeas Haementeria Herr K'ang-si vous\n",
      "    lutihaw alai je jour objets salutaris fille quibusdam pas trop Monte\n",
      "    terram fiche oui corporis ...\n",
      "IN: preposition or conjunction, subordinating\n",
      "    astride among uppon whether out inside pro despite on by throughout\n",
      "    below within for towards near behind atop around if like until below\n",
      "    next into if beside ...\n",
      "JJ: adjective or numeral, ordinal\n",
      "    third ill-mannered pre-war regrettable oiled calamitous first separable\n",
      "    ectoplasmic battery-powered participatory fourth still-to-be-named\n",
      "    multilingual multi-disciplinary ...\n",
      "JJR: adjective, comparative\n",
      "    bleaker braver breezier briefer brighter brisker broader bumper busier\n",
      "    calmer cheaper choosier cleaner clearer closer colder commoner costlier\n",
      "    cozier creamier crunchier cuter ...\n",
      "JJS: adjective, superlative\n",
      "    calmest cheapest choicest classiest cleanest clearest closest commonest\n",
      "    corniest costliest crassest creepiest crudest cutest darkest deadliest\n",
      "    dearest deepest densest dinkiest ...\n",
      "LS: list item marker\n",
      "    A A. B B. C C. D E F First G H I J K One SP-44001 SP-44002 SP-44005\n",
      "    SP-44007 Second Third Three Two * a b c d first five four one six three\n",
      "    two\n",
      "MD: modal auxiliary\n",
      "    can cannot could couldn't dare may might must need ought shall should\n",
      "    shouldn't will would\n",
      "NN: noun, common, singular or mass\n",
      "    common-carrier cabbage knuckle-duster Casino afghan shed thermostat\n",
      "    investment slide humour falloff slick wind hyena override subhumanity\n",
      "    machinist ...\n",
      "NNP: noun, proper, singular\n",
      "    Motown Venneboerger Czestochwa Ranzer Conchita Trumplane Christos\n",
      "    Oceanside Escobar Kreisler Sawyer Cougar Yvette Ervin ODI Darryl CTCA\n",
      "    Shannon A.K.C. Meltex Liverpool ...\n",
      "NNPS: noun, proper, plural\n",
      "    Americans Americas Amharas Amityvilles Amusements Anarcho-Syndicalists\n",
      "    Andalusians Andes Andruses Angels Animals Anthony Antilles Antiques\n",
      "    Apache Apaches Apocrypha ...\n",
      "NNS: noun, common, plural\n",
      "    undergraduates scotches bric-a-brac products bodyguards facets coasts\n",
      "    divestitures storehouses designs clubs fragrances averages\n",
      "    subjectivists apprehensions muses factory-jobs ...\n",
      "PDT: pre-determiner\n",
      "    all both half many quite such sure this\n",
      "POS: genitive marker\n",
      "    ' 's\n",
      "PRP: pronoun, personal\n",
      "    hers herself him himself hisself it itself me myself one oneself ours\n",
      "    ourselves ownself self she thee theirs them themselves they thou thy us\n",
      "PRP$: pronoun, possessive\n",
      "    her his mine my our ours their thy your\n",
      "RB: adverb\n",
      "    occasionally unabatingly maddeningly adventurously professedly\n",
      "    stirringly prominently technologically magisterially predominately\n",
      "    swiftly fiscally pitilessly ...\n",
      "RBR: adverb, comparative\n",
      "    further gloomier grander graver greater grimmer harder harsher\n",
      "    healthier heavier higher however larger later leaner lengthier less-\n",
      "    perfectly lesser lonelier longer louder lower more ...\n",
      "RBS: adverb, superlative\n",
      "    best biggest bluntest earliest farthest first furthest hardest\n",
      "    heartiest highest largest least less most nearest second tightest worst\n",
      "RP: particle\n",
      "    aboard about across along apart around aside at away back before behind\n",
      "    by crop down ever fast for forth from go high i.e. in into just later\n",
      "    low more off on open out over per pie raising start teeth that through\n",
      "    under unto up up-pp upon whole with you\n",
      "SYM: symbol\n",
      "    % & ' '' ''. ) ). * + ,. < = > @ A[fj] U.S U.S.S.R * ** ***\n",
      "TO: \"to\" as preposition or infinitive marker\n",
      "    to\n",
      "UH: interjection\n",
      "    Goodbye Goody Gosh Wow Jeepers Jee-sus Hubba Hey Kee-reist Oops amen\n",
      "    huh howdy uh dammit whammo shucks heck anyways whodunnit honey golly\n",
      "    man baby diddle hush sonuvabitch ...\n",
      "VB: verb, base form\n",
      "    ask assemble assess assign assume atone attention avoid bake balkanize\n",
      "    bank begin behold believe bend benefit bevel beware bless boil bomb\n",
      "    boost brace break bring broil brush build ...\n",
      "VBD: verb, past tense\n",
      "    dipped pleaded swiped regummed soaked tidied convened halted registered\n",
      "    cushioned exacted snubbed strode aimed adopted belied figgered\n",
      "    speculated wore appreciated contemplated ...\n",
      "VBG: verb, present participle or gerund\n",
      "    telegraphing stirring focusing angering judging stalling lactating\n",
      "    hankerin' alleging veering capping approaching traveling besieging\n",
      "    encrypting interrupting erasing wincing ...\n",
      "VBN: verb, past participle\n",
      "    multihulled dilapidated aerosolized chaired languished panelized used\n",
      "    experimented flourished imitated reunifed factored condensed sheared\n",
      "    unsettled primed dubbed desired ...\n",
      "VBP: verb, present tense, not 3rd person singular\n",
      "    predominate wrap resort sue twist spill cure lengthen brush terminate\n",
      "    appear tend stray glisten obtain comprise detest tease attract\n",
      "    emphasize mold postpone sever return wag ...\n",
      "VBZ: verb, present tense, 3rd person singular\n",
      "    bases reconstructs marks mixes displeases seals carps weaves snatches\n",
      "    slumps stretches authorizes smolders pictures emerges stockpiles\n",
      "    seduces fizzes uses bolsters slaps speaks pleads ...\n",
      "WDT: WH-determiner\n",
      "    that what whatever which whichever\n",
      "WP: WH-pronoun\n",
      "    that what whatever whatsoever which who whom whosoever\n",
      "WP$: WH-pronoun, possessive\n",
      "    whose\n",
      "WRB: Wh-adverb\n",
      "    how however whence whenever where whereby whereever wherein whereof why\n",
      "``: opening quotation mark\n",
      "    ` ``\n"
     ]
    }
   ],
   "source": [
    "nltk.help.upenn_tagset()"
   ]
  },
  {
   "cell_type": "markdown",
   "metadata": {},
   "source": [
    "## Chunking "
   ]
  },
  {
   "cell_type": "code",
   "execution_count": 20,
   "metadata": {},
   "outputs": [],
   "source": [
    "# chunking with NLTK using Regexp\n",
    "\n",
    "\n",
    "train_text = state_union.raw('2005-GWBush.txt')\n",
    "sample_text = state_union.raw('2006-GWBush.txt')\n",
    "\n",
    "custom_sent_tokenizer = PunktSentenceTokenizer(train_text)\n",
    "\n",
    "\n",
    "def process_content():\n",
    "    try:\n",
    "        for i in tokenized[:10]:\n",
    "            words = nltk.word_tokenize(i)\n",
    "            tagged = nltk.pos_tag(words)\n",
    "            \n",
    "            # combine the part of speech tag with a regular expressio\n",
    "            chunkGram = r\"\"\"Chunk: {<RB.?>*<VB.?>*<NNP>+<NN>?}\"\"\"\n",
    "            chunkParser = nltk.RegexpParser(chunkGram)\n",
    "            chunked = chunkParser.parse(tagged)\n",
    "            for subtree in chunked.subtrees(filter=lambda t: t.label() == 'Chunk'):\n",
    "                print(subtree)\n",
    "            \n",
    "#             chunked.draw()\n",
    "    except Exception as e:\n",
    "        print(str(e))"
   ]
  },
  {
   "cell_type": "code",
   "execution_count": 21,
   "metadata": {},
   "outputs": [
    {
     "name": "stdout",
     "output_type": "stream",
     "text": [
      "(Chunk PRESIDENT/NNP GEORGE/NNP W./NNP BUSH/NNP)\n",
      "(Chunk ADDRESS/NNP)\n",
      "(Chunk A/NNP JOINT/NNP SESSION/NNP)\n",
      "(Chunk THE/NNP CONGRESS/NNP ON/NNP THE/NNP STATE/NNP)\n",
      "(Chunk THE/NNP UNION/NNP January/NNP)\n",
      "(Chunk THE/NNP PRESIDENT/NNP)\n",
      "(Chunk Thank/NNP)\n",
      "(Chunk Mr./NNP Speaker/NNP)\n",
      "(Chunk Vice/NNP President/NNP Cheney/NNP)\n",
      "(Chunk Congress/NNP)\n",
      "(Chunk Supreme/NNP Court/NNP)\n",
      "(Chunk called/VBD America/NNP)\n",
      "(Chunk Coretta/NNP Scott/NNP King/NNP)\n",
      "(Chunk Applause/NNP)\n",
      "(Chunk President/NNP George/NNP W./NNP Bush/NNP)\n",
      "(Chunk State/NNP)\n",
      "(Chunk Union/NNP Address/NNP)\n",
      "(Chunk Capitol/NNP)\n",
      "(Chunk Tuesday/NNP)\n",
      "(Chunk Jan/NNP)\n",
      "(Chunk White/NNP House/NNP photo/NN)\n",
      "(Chunk Eric/NNP DraperEvery/NNP time/NN)\n",
      "(Chunk Capitol/NNP dome/NN)\n",
      "(Chunk have/VBP served/VBN America/NNP)\n"
     ]
    }
   ],
   "source": [
    "process_content()"
   ]
  },
  {
   "cell_type": "markdown",
   "metadata": {},
   "source": [
    "## Chinking "
   ]
  },
  {
   "cell_type": "code",
   "execution_count": 22,
   "metadata": {},
   "outputs": [],
   "source": [
    "#chinking  with nltk\n",
    "\n",
    "train_text = state_union.raw('2005-GWBush.txt')\n",
    "sample_text = state_union.raw('2006-GWBush.txt')\n",
    "\n",
    "custom_sent_tokenizer = PunktSentenceTokenizer(train_text)\n",
    "\n",
    "\n",
    "def process_content():\n",
    "    try:\n",
    "        for i in tokenized[:10]:\n",
    "            words = nltk.word_tokenize(i)\n",
    "            tagged = nltk.pos_tag(words)\n",
    "            \n",
    "            # combine the part of speech tag with a regular expressio\n",
    "            chunkGram = r\"\"\"Chunk: {<.*>+}\n",
    "                                        }<VB.?|IN|DT|TO>+{\"\"\"\n",
    "            chunkParser = nltk.RegexpParser(chunkGram)\n",
    "            chunked = chunkParser.parse(tagged)\n",
    "            for subtree in chunked.subtrees(filter=lambda t: t.label() == 'Chunk'):\n",
    "                print(subtree)\n",
    "            \n",
    "#             chunked.draw()\n",
    "    except Exception as e:\n",
    "        print(str(e))"
   ]
  },
  {
   "cell_type": "code",
   "execution_count": 23,
   "metadata": {},
   "outputs": [
    {
     "name": "stdout",
     "output_type": "stream",
     "text": [
      "(Chunk PRESIDENT/NNP GEORGE/NNP W./NNP BUSH/NNP 'S/POS ADDRESS/NNP)\n",
      "(Chunk A/NNP JOINT/NNP SESSION/NNP)\n",
      "(Chunk THE/NNP CONGRESS/NNP ON/NNP THE/NNP STATE/NNP)\n",
      "(Chunk\n",
      "  THE/NNP\n",
      "  UNION/NNP\n",
      "  January/NNP\n",
      "  31/CD\n",
      "  ,/,\n",
      "  2006/CD\n",
      "  THE/NNP\n",
      "  PRESIDENT/NNP\n",
      "  :/:\n",
      "  Thank/NNP\n",
      "  you/PRP)\n",
      "(Chunk ./.)\n",
      "(Chunk\n",
      "  Mr./NNP\n",
      "  Speaker/NNP\n",
      "  ,/,\n",
      "  Vice/NNP\n",
      "  President/NNP\n",
      "  Cheney/NNP\n",
      "  ,/,\n",
      "  members/NNS)\n",
      "(Chunk Congress/NNP ,/, members/NNS)\n",
      "(Chunk\n",
      "  Supreme/NNP\n",
      "  Court/NNP\n",
      "  and/CC\n",
      "  diplomatic/JJ\n",
      "  corps/NN\n",
      "  ,/,\n",
      "  distinguished/JJ\n",
      "  guests/NNS\n",
      "  ,/,\n",
      "  and/CC\n",
      "  fellow/JJ\n",
      "  citizens/NNS\n",
      "  :/:)\n",
      "(Chunk our/PRP$ nation/NN)\n",
      "(Chunk ,/, graceful/JJ ,/, courageous/JJ woman/NN who/WP)\n",
      "(Chunk America/NNP)\n",
      "(Chunk its/PRP$ founding/NN ideals/NNS and/CC)\n",
      "(Chunk noble/JJ dream/NN ./.)\n",
      "(Chunk Tonight/NN we/PRP)\n",
      "(Chunk hope/NN)\n",
      "(Chunk glad/JJ reunion/NN)\n",
      "(Chunk husband/NN who/WP)\n",
      "(Chunk so/RB long/RB ago/RB ,/, and/CC we/PRP)\n",
      "(Chunk grateful/JJ)\n",
      "(Chunk good/JJ life/NN)\n",
      "(Chunk Coretta/NNP Scott/NNP King/NNP ./.)\n",
      "(Chunk (/( Applause/NNP ./. )/))\n",
      "(Chunk President/NNP George/NNP W./NNP Bush/NNP)\n",
      "(Chunk his/PRP$ State/NNP)\n",
      "(Chunk Union/NNP Address/NNP)\n",
      "(Chunk Capitol/NNP ,/, Tuesday/NNP ,/, Jan/NNP ./.)\n",
      "(Chunk 31/CD ,/, 2006/CD ./.)\n",
      "(Chunk White/NNP House/NNP photo/NN)\n",
      "(Chunk Eric/NNP DraperEvery/NNP time/NN I/PRP)\n",
      "(Chunk invited/JJ)\n",
      "(Chunk rostrum/NN ,/, I/PRP)\n",
      "(Chunk privilege/NN ,/, and/CC mindful/NN)\n",
      "(Chunk history/NN we/PRP)\n",
      "(Chunk together/RB ./.)\n",
      "(Chunk We/PRP)\n",
      "(Chunk Capitol/NNP dome/NN)\n",
      "(Chunk moments/NNS)\n",
      "(Chunk national/JJ mourning/NN and/CC national/JJ achievement/NN ./.)\n",
      "(Chunk We/PRP)\n",
      "(Chunk America/NNP)\n",
      "(Chunk one/CD)\n",
      "(Chunk most/RBS consequential/JJ periods/NNS)\n",
      "(Chunk our/PRP$ history/NN --/: and/CC it/PRP)\n",
      "(Chunk my/PRP$ honor/NN)\n",
      "(Chunk you/PRP ./.)\n",
      "(Chunk system/NN)\n",
      "(Chunk\n",
      "  two/CD\n",
      "  parties/NNS\n",
      "  ,/,\n",
      "  two/CD\n",
      "  chambers/NNS\n",
      "  ,/,\n",
      "  and/CC\n",
      "  two/CD\n",
      "  elected/JJ\n",
      "  branches/NNS\n",
      "  ,/,\n",
      "  there/EX\n",
      "  will/MD\n",
      "  always/RB)\n",
      "(Chunk differences/NNS and/CC debate/NN ./.)\n"
     ]
    }
   ],
   "source": [
    "process_content()"
   ]
  },
  {
   "cell_type": "markdown",
   "metadata": {},
   "source": [
    "## Named Entity Recognition"
   ]
  },
  {
   "cell_type": "code",
   "execution_count": 24,
   "metadata": {},
   "outputs": [],
   "source": [
    "# Named word entity recognition like people, place, location, things\n",
    "\n",
    "def process_content():\n",
    "    try:\n",
    "        for i in tokenized[:5]:\n",
    "            words = nltk.word_tokenize(i)\n",
    "            tagged = nltk.pos_tag(words)\n",
    "            namedEnt = nltk.ne_chunk(tagged, binary=False)\n",
    "#             namedEnt.draw();\n",
    "#             chunked.draw()\n",
    "    except Exception as e:\n",
    "        print(str(e))"
   ]
  },
  {
   "cell_type": "code",
   "execution_count": 25,
   "metadata": {},
   "outputs": [],
   "source": [
    "process_content()"
   ]
  },
  {
   "cell_type": "markdown",
   "metadata": {},
   "source": [
    "## Lemmatizing\n"
   ]
  },
  {
   "cell_type": "code",
   "execution_count": 26,
   "metadata": {},
   "outputs": [
    {
     "name": "stdout",
     "output_type": "stream",
     "text": [
      "cat\n",
      "cactus\n",
      "goose\n",
      "rock\n",
      "python\n",
      "good\n",
      "best\n",
      "run\n",
      "run\n"
     ]
    }
   ],
   "source": [
    "# Lemmatizing\n",
    "from nltk.stem import WordNetLemmatizer\n",
    "\n",
    "lemmatizer = WordNetLemmatizer()\n",
    "\n",
    "print(lemmatizer.lemmatize(\"cats\"))\n",
    "print(lemmatizer.lemmatize(\"cacti\"))\n",
    "print(lemmatizer.lemmatize(\"geese\"))\n",
    "print(lemmatizer.lemmatize(\"rocks\"))\n",
    "print(lemmatizer.lemmatize(\"python\"))\n",
    "print(lemmatizer.lemmatize(\"better\", pos=\"a\"))\n",
    "print(lemmatizer.lemmatize(\"best\", pos=\"a\"))\n",
    "print(lemmatizer.lemmatize(\"run\"))\n",
    "print(lemmatizer.lemmatize(\"run\",'v'))"
   ]
  },
  {
   "cell_type": "markdown",
   "metadata": {},
   "source": [
    "## Wordnet "
   ]
  },
  {
   "cell_type": "code",
   "execution_count": 27,
   "metadata": {},
   "outputs": [
    {
     "name": "stdout",
     "output_type": "stream",
     "text": [
      "[Synset('plan.n.01'), Synset('program.n.02'), Synset('broadcast.n.02'), Synset('platform.n.02'), Synset('program.n.05'), Synset('course_of_study.n.01'), Synset('program.n.07'), Synset('program.n.08'), Synset('program.v.01'), Synset('program.v.02')]\n"
     ]
    }
   ],
   "source": [
    "# wordnet\n",
    "from nltk.corpus import wordnet\n",
    "syns = wordnet.synsets(\"program\")\n",
    "\n",
    "print(syns)"
   ]
  },
  {
   "cell_type": "code",
   "execution_count": 28,
   "metadata": {},
   "outputs": [
    {
     "name": "stdout",
     "output_type": "stream",
     "text": [
      "Synset('plan.n.01')\n",
      "plan.n.01\n",
      "Lemma('plan.n.01.plan')\n",
      "plan\n",
      "a series of steps to be carried out or goals to be accomplished\n",
      "['they drew up a six-step plan', 'they discussed plans for a new bond issue']\n"
     ]
    }
   ],
   "source": [
    "print(syns[0])\n",
    "print(syns[0].name())\n",
    "print(syns[0].lemmas()[0])\n",
    "print(syns[0].lemmas()[0].name())\n",
    "print(syns[0].definition())\n",
    "print(syns[0].examples())\n"
   ]
  },
  {
   "cell_type": "code",
   "execution_count": 29,
   "metadata": {},
   "outputs": [],
   "source": [
    "synonyms = []\n",
    "antonyms = []\n",
    "\n",
    "for syn in wordnet.synsets(\"good\"):\n",
    "    for l in syn.lemmas():\n",
    "        synonyms.append(l.name())\n",
    "        if l.antonyms():\n",
    "            antonyms.append(l.antonyms()[0].name())"
   ]
  },
  {
   "cell_type": "code",
   "execution_count": 30,
   "metadata": {},
   "outputs": [
    {
     "name": "stdout",
     "output_type": "stream",
     "text": [
      "{'dear', 'honorable', 'dependable', 'unspoilt', 'in_force', 'ripe', 'soundly', 'full', 'adept', 'honest', 'salutary', 'secure', 'safe', 'skillful', 'in_effect', 'upright', 'expert', 'right', 'undecomposed', 'goodness', 'practiced', 'well', 'just', 'skilful', 'unspoiled', 'commodity', 'serious', 'sound', 'thoroughly', 'effective', 'respectable', 'estimable', 'good', 'proficient', 'trade_good', 'near', 'beneficial'}\n"
     ]
    }
   ],
   "source": [
    "print(set(synonyms))"
   ]
  },
  {
   "cell_type": "code",
   "execution_count": 31,
   "metadata": {},
   "outputs": [
    {
     "name": "stdout",
     "output_type": "stream",
     "text": [
      "{'evilness', 'badness', 'evil', 'ill', 'bad'}\n"
     ]
    }
   ],
   "source": [
    "print(set(antonyms))"
   ]
  },
  {
   "cell_type": "code",
   "execution_count": 32,
   "metadata": {},
   "outputs": [
    {
     "name": "stdout",
     "output_type": "stream",
     "text": [
      "0.9090909090909091\n"
     ]
    }
   ],
   "source": [
    "w1 = wordnet.synset('ship.n.01')\n",
    "w2 = wordnet.synset('boat.n.01')\n",
    "print(w1.wup_similarity(w2))"
   ]
  },
  {
   "cell_type": "code",
   "execution_count": 33,
   "metadata": {},
   "outputs": [
    {
     "name": "stdout",
     "output_type": "stream",
     "text": [
      "0.6956521739130435\n"
     ]
    }
   ],
   "source": [
    "w1 = wordnet.synset('ship.n.01')\n",
    "w2 = wordnet.synset('car.n.01')\n",
    "print(w1.wup_similarity(w2))"
   ]
  },
  {
   "cell_type": "code",
   "execution_count": 34,
   "metadata": {},
   "outputs": [
    {
     "name": "stdout",
     "output_type": "stream",
     "text": [
      "0.32\n"
     ]
    }
   ],
   "source": [
    "w1 = wordnet.synset('ship.n.01')\n",
    "w2 = wordnet.synset('cat.n.01')\n",
    "print(w1.wup_similarity(w2))"
   ]
  },
  {
   "cell_type": "markdown",
   "metadata": {},
   "source": [
    "# Text Classification with NLTK"
   ]
  },
  {
   "cell_type": "code",
   "execution_count": 35,
   "metadata": {},
   "outputs": [],
   "source": [
    "import random\n",
    "import nltk\n",
    "from nltk.corpus import movie_reviews"
   ]
  },
  {
   "cell_type": "code",
   "execution_count": 36,
   "metadata": {},
   "outputs": [
    {
     "name": "stdout",
     "output_type": "stream",
     "text": [
      "Number of documents: 2000\n",
      "First Review: (['i', \"'\", 'm', 'giving', 'this', 'stinker', '.', 'normally', ',', 'the', 'worst', 'that', 'i', 'would', 'ever', 'rate', 'a', 'movie', 'would', 'be', '.', 'but', 'the', 'total', 'waste', 'of', 'time', 'that', 'is', 'blazing', 'saddles', 'is', ',', 'compounded', 'by', 'the', 'fact', 'that', 'this', 'movie', 'is', 'incredibly', 'offensive', ',', 'helped', 'me', 'come', 'to', 'the', 'big', 'goose', 'egg', '.', 'i', \"'\", 'm', 'not', 'sure', 'what', 'the', 'hell', 'mel', 'brooks', 'was', 'thinking', 'when', 'he', 'made', 'this', 'thing', ',', 'or', 'if', 'he', 'was', 'even', 'thinking', 'at', 'all', '.', 'maybe', 'in', 'mel', \"'\", 's', 'little', 'mind', 'a', 'horse', 'being', 'knocked', 'unconscious', 'because', 'of', 'a', 'punch', 'to', 'the', 'face', 'is', 'funny', '.', 'in', 'mine', ',', 'it', \"'\", 's', 'not', '.', 'or', 'maybe', 'mel', 'graduated', 'from', 'the', 'spike', 'lee', 'school', 'of', 'filmmaking', '.', 'because', 'only', 'the', 'self', '-', 'righteous', 'lee', 'uses', 'the', 'n', '-', 'word', 'more', 'often', 'in', 'his', 'films', 'than', 'brooks', 'did', 'in', 'this', 'one', '.', 'at', 'least', 'lee', 'has', 'the', 'smarts', 'to', 'realize', 'that', 'nobody', 'is', 'going', 'to', 'find', 'that', 'term', 'amusing', '.', 'brooks', 'bandies', 'it', 'about', 'like', 'he', 'figures', 'the', 'audience', 'will', 'be', 'rolling', 'in', 'the', 'aisles', 'every', 'time', 'they', 'hear', 'it', '.', 'wrong', 'mel', '!', 'i', 'would', 'call', 'you', 'a', 'boob', 'mel', ',', 'but', 'that', 'insults', 'breasts', 'everywhere', '.', 'this', 'idiotic', 'attempt', 'at', 'a', 'comedy', 'centers', 'on', 'the', 'evil', 'lieutenant', 'governor', \"'\", 's', '(', 'harvey', 'korman', ')', 'attempts', 'to', 'clear', 'out', 'a', 'town', 'so', 'he', 'can', 'buy', 'up', 'the', 'land', 'cheap', 'and', 'sell', 'it', 'to', 'the', 'railroad', '.', 'he', 'sends', 'his', 'goons', 'to', 'run', 'the', 'townsfolk', 'out', '.', 'but', 'the', 'town', 'appeals', 'to', 'the', 'governor', '(', 'mel', 'brooks', 'in', 'one', 'of', 'many', 'uninspired', ',', 'and', 'unfunny', 'roles', ')', 'to', 'send', 'them', 'a', 'new', 'sheriff', 'to', 'protect', 'them', '.', 'the', 'governor', 'pawns', 'the', 'task', 'off', 'to', 'korman', \"'\", 's', 'character', 'hedley', 'lamarr', '.', '(', 'i', 'can', 'tell', 'you', 'are', 'rolling', 'off', 'your', 'chairs', 'right', 'now', 'just', 'thinking', 'of', 'all', 'the', 'humor', 'in', 'that', 'name', '.', ')', 'lamarr', 'decides', 'to', 'send', 'the', 'town', 'a', 'black', 'sheriff', '(', 'gasp', ')', 'in', 'the', 'hopes', 'that', 'the', 'town', 'will', 'be', 'so', 'disgusted', 'at', 'the', 'prospect', 'of', 'a', 'black', 'man', 'living', 'among', 'them', 'that', 'they', 'will', 'all', 'just', 'leave', '.', 'hold', 'on', ',', 'i', \"'\", 've', 'got', 'to', 'stop', 'while', 'these', 'gales', 'of', 'laughter', 'pass', '.', 'it', \"'\", 's', 'just', 'too', 'funny', '.', 'racism', 'passing', 'as', 'humor', '--', 'gosh', 'why', 'didn', \"'\", 't', 'anybody', 'ever', 'think', 'of', 'that', 'one', 'before', '?', 'oh', 'wait', ',', 'i', 'think', 'somebody', 'might', 'have', '--', 'they', 'are', 'called', 'the', 'kkk', '.', 'i', \"'\", 'm', 'not', 'calling', 'brooks', 'a', 'racist', '--', 'but', 'i', 'am', 'calling', 'him', 'an', 'insensitive', 'bastard', 'who', 'wouldn', \"'\", 't', 'know', 'what', 'was', 'funny', 'if', 'it', 'hit', 'him', 'over', 'the', 'head', '.', 'but', 'i', 'digress', '.', 'anyway', ',', 'the', 'black', 'sheriff', 'rides', 'into', 'town', 'amid', 'a', 'flurry', 'of', 'townsfolk', 'using', 'the', 'n', '-', 'word', '.', 'golly', ',', 'will', 'the', 'hilarity', 'just', 'never', 'end', '?', 'he', 'ends', 'up', 'joining', 'forces', 'with', 'a', 'drunk', '(', 'gene', 'wilder', ')', ',', 'who', 'happens', 'to', 'be', 'the', 'former', 'fastest', 'gun', 'in', 'the', 'west', '.', 'together', ',', 'they', 'save', 'the', 'day', 'from', 'evil', '.', 'not', 'one', 'person', 'in', 'this', 'movie', 'gives', 'a', 'decent', 'performance', '.', 'wilder', 'looks', 'like', 'he', 'is', 'recovering', 'from', 'a', 'head', 'injury', 'for', 'most', 'of', 'the', 'movie', ',', 'and', 'korman', 'looks', 'embarrassed', 'to', 'be', 'a', 'part', 'of', 'the', 'movie', '.', 'ok', ',', 'he', 'really', 'didn', \"'\", 't', '--', 'but', 'he', 'should', 'have', '.', 'the', 'films', 'star', 'cleavon', 'little', 'goes', 'along', 'with', 'the', 'black', 'jokes', 'as', 'if', 'they', 'were', 'discussing', 'the', 'time', 'of', 'day', '.', 'i', 'did', 'not', 'laugh', 'once', 'during', 'this', 'whole', 'sorry', 'experience', '.', 'i', 'admit', 'to', 'starting', 'to', 'snicker', 'on', 'a', 'couple', 'of', 'occasions', '.', 'actually', ',', 'the', 'end', 'started', 'to', 'look', 'as', 'if', 'it', 'was', 'going', 'to', 'have', 'some', 'promise', ',', 'but', 'alas', ',', 'it', 'ended', 'up', 'being', 'as', 'crappy', 'as', 'the', 'rest', 'of', 'the', 'movie', '.', 'i', 'can', 'say', 'with', 'full', 'confidence', 'that', 'blazing', 'saddles', 'has', 'no', 'redeeming', 'qualities', 'whatsoever', '.', 'mel', 'brooks', 'would', 'be', 'doing', 'the', 'world', 'a', 'favor', 'if', 'he', 'burned', 'every', 'last', 'copy', 'of', 'this', 'film', '.'], 'neg')\n",
      "Most common words: [(',', 77717), ('the', 76529), ('.', 65876), ('a', 38106), ('and', 35576), ('of', 34123), ('to', 31937), (\"'\", 30585), ('is', 25195), ('in', 21822), ('s', 18513), ('\"', 17612), ('it', 16107), ('that', 15924), ('-', 15595)]\n",
      "the word happy: 215\n"
     ]
    }
   ],
   "source": [
    "# build a list of documents\n",
    "documents = [(list(movie_reviews.words(fileid)), category)\n",
    "             for category in movie_reviews.categories()\n",
    "             for fileid in movie_reviews.fileids(category)\n",
    "            ]\n",
    "# shuffle the documents\n",
    "random.shuffle(documents)\n",
    "print('Number of documents: {}'.format(len(documents)))\n",
    "print('First Review: {}'.format(documents[0]))\n",
    "\n",
    "all_words = []\n",
    "for w in movie_reviews.words():\n",
    "    all_words.append(w.lower())\n",
    "\n",
    "all_words = nltk.FreqDist(all_words)\n",
    "\n",
    "print('Most common words: {}'.format(all_words.most_common(15)))\n",
    "print('the word happy: {}'.format(all_words[\"happy\"]))"
   ]
  },
  {
   "cell_type": "code",
   "execution_count": 37,
   "metadata": {},
   "outputs": [
    {
     "name": "stdout",
     "output_type": "stream",
     "text": [
      "39768\n"
     ]
    }
   ],
   "source": [
    "print(len(all_words))"
   ]
  },
  {
   "cell_type": "code",
   "execution_count": 38,
   "metadata": {},
   "outputs": [],
   "source": [
    "# using the first 4000 most common words as features\n",
    "word_features = list(all_words.keys())[:4000]"
   ]
  },
  {
   "cell_type": "code",
   "execution_count": 39,
   "metadata": {},
   "outputs": [
    {
     "name": "stdout",
     "output_type": "stream",
     "text": [
      "character\n",
      "witch\n",
      "films\n",
      "bit\n",
      "7\n",
      "little\n",
      "by\n",
      "lost\n",
      "figured\n",
      "been\n",
      "over\n",
      "dead\n",
      "good\n",
      "doesn\n",
      "who\n",
      "characters\n",
      "very\n",
      "still\n",
      "studio\n",
      "problems\n",
      "seemed\n",
      "even\n",
      "hot\n",
      "unraveling\n",
      "9\n",
      "same\n",
      "giving\n",
      "guess\n",
      "entertain\n",
      "elm\n",
      "his\n",
      "/\n",
      "3\n",
      "kudos\n",
      "2\n",
      "not\n",
      "see\n",
      "back\n",
      "playing\n"
     ]
    }
   ],
   "source": [
    "# a function to find features that will determine which of the 4000 word features are contained in review\n",
    "def find_features(document):\n",
    "    words = set(document)\n",
    "    features = {}\n",
    "    \n",
    "    for w in word_features:\n",
    "        features[w] = (w in words)\n",
    "    return features\n",
    "\n",
    "#using an example from a negative review\n",
    "features = find_features(movie_reviews.words('neg/cv000_29416.txt'))\n",
    "for key, value in features.items():\n",
    "    if value == True:\n",
    "        print(key)"
   ]
  },
  {
   "cell_type": "code",
   "execution_count": 40,
   "metadata": {},
   "outputs": [
    {
     "name": "stdout",
     "output_type": "stream",
     "text": [
      "{'caught': False, 'tusse': False, 'sobol': False, 'tolls': False, 'olga': False, 'skinned': False, 'bullies': False, 'cementing': False, 'vanishing': False, '571': False, 'connecting': False, 'spacious': False, 'spinetinglingly': False, 'retread': False, 'retrieved': False, 'mischievousness': False, 'marquee': False, 'nm': False, 'zack': False, 'mariah': False, 'sale': False, 'suong': False, 'newsgroups': False, 'unusually': False, 'surfing': False, 'separates': False, 'boyle': False, 'fu': False, 'chinlund': False, 'fosse': False, 'grope': False, 'peek': False, 'tabloid': False, 'entirety': False, 'butch': False, 'rants': False, 'depend': False, 'dynamo': False, 'twisters': False, 'servant': False, 'mccracken': False, 'buchenwald': False, 'safari': False, 'paraphrasing': False, 'gudin': False, 'fruitition': False, 'bostwick': False, 'reprintable': False, 'koran': False, 'commerce': False, 'chagrinned': False, 'salesgirl': False, '_dirty_work_': False, 'sweetheart': False, 'exceeds': False, 'sid': False, 'adorableness': False, 'pheiffer': False, 'strom': False, 'sommers': False, 'finesse': False, 'fades': False, 'whistling': False, 'cement': False, 'problematical': False, 'rourke': False, 'noooo': False, 'thingie': False, 'frizzi': False, 'beeline': False, 'intimidation': False, 'appealing': False, 'danna': False, 'trendsetters': False, 'lending': False, 'annoying': False, 'durden': False, 'connell': False, 'oxide': False, 'oldish': False, 'teddy': False, 'million': False, 'bunk': False, 'kaige': False, 'purple': False, 'recruited': False, 'violent': False, 'miriam': False, 'revitalized': False, 'crops': False, 'defecation': False, 'oedipal': False, 'literal': False, 'potties': False, 'naivety': False, 'kilt': False, 'cod': False, 'beanfield': False, 'unchanged': False, 'consummated': False, 'dross': False, 'firmest': False, 'staggeringly': False, 'selfishness': False, 'commentary': False, 'fetish': False, 'middair': False, 'hag': False, 'synched': False, 'winces': False, 'wen': False, 'impossibilities': False, 'foodstuffs': False, 'navigate': False, 'effacing': False, 'meanings': False, 'insultingly': False, 'bring': False, 'substantial': False, 'noxzeema': False, 'blizzard': False, 'wiring': False, 'flatly': False, 'mortensen': False, 'dropped': False, 'traditional': False, 'exceptions': False, 'unisol': False, 'respectively': False, 'mayersberg': False, 'consider': False, 'subculture': False, 'analysis': False, 'burly': False, 'levine': False, 'checked': False, 'kaleidoscope': False, 'noir': False, 'quatto': False, 'shadowloo': False, 'rueland': False, 'pulled': False, 'strike': False, 'steven': False, 'whoop': False, 'chubby': False, 'shogun': False, '2036': False, 'vents': False, 'obsenities': False, 'vintage': False, 'shame': False, 'character': True, 'violinist': False, 'demeaning': False, 'unhappily': False, 'shrouded': False, 'southwest': False, 'heritage': False, 'snider': False, 'pans': False, 'refreshingly': False, 'noteables': False, 'expertise': False, 'witch': True, 'flamenco': False, 'refinement': False, 'offed': False, 'frederic': False, 'berlin': False, 'vierny': False, 'ton': False, 'submerged': False, 'impossibility': False, 'trivialised': False, 'viewings': False, 'sighting': False, 'bankers': False, 'sparing': False, 'sensitively': False, 'noisy': False, '8034': False, 'admittance': False, 'trek': False, 'humility': False, 'corp': False, 'nell': False, 'criticism': False, 'ziyi': False, 'shriek': False, 'lamely': False, 'predetermined': False, 'jabbar': False, 'complainer': False, 'landmark': False, 'hounded': False, 'interchangable': False, 'referee': False, 'hi': False, 'overact': False, 'adlib': False, 'cartwright': False, 'slog': False, 'keen': False, 'meatballs': False, 'disclaimer': False, 'films': True, 'relying': False, 'marla': False, 'militants': False, 'rumoured': False, 'twenty': False, 'freaky': False, 'oj': False, 'shaye': False, 'rejoin': False, 'mozell': False, 'maureen': False, '1986': False, 'hercules': False, 'darby': False, 'guesswork': False, 'thou': False, 'ney': False, 'friedkin': False, 'ze': False, 'howewer': False, 'confronts': False, 'miguel': False, 'early': False, 'arqua': False, 'pocahontas': False, '57': False, 'mcclain': False, 'swimmer': False, 'articles': False, 'bauchau': False, 'screenwriterly': False, 'amateurish': False, 'precluded': False, 'flashily': False, 'daswon': False, 'pardon': False, '_54_': False, 'puccini': False, 'tilda': False, 'dysfuntional': False, 'scrambles': False, 'appealed': False, 'arcs': False, 'sizable': False, 'godzila': False, 'oppertunity': False, 'loretta': False, 'huey': False, 'philanderer': False, 'freaked': False, 'bran': False, 'prue': False, 'phantoms': False, 'transaction': False, 'bloodstream': False, 'warden': False, 'carr': False, 'horrifically': False, 'vocalists': False, 'shelby': False, 'dumping': False, 'tedious': False, 'asserting': False, 'bargained': False, 'orators': False, 'takers': False, 'pouts': False, 'defendants': False, 'texts': False, 'jip': False, 'unfortunates': False, '_america': False, 'lace': False, 'washed': False, 'dogmatism': False, 'devils': False, 'something': False, 'rustin': False, 'weather': False, 'infuriated': False, 'reel': False, 'trunk': False, 'perreault': False, 'awa': False, 'claire': False, 'manufactured': False, 'troubles': False, 'shaud': False, 'tomboy': False, 'believabilty': False, 'palestinian': False, 'secondly': False, 'autobiographical': False, 'passer': False, 'nathanson': False, 'peppered': False, 'show': False, 'lighter': False, 'kissy': False, 'rainier': False, 'loco': False, 'danny': False, 'stereoscopic': False, 'bit': True, 'commandeering': False, 'celerity': False, 'surmise': False, 'courtesy': False, 'trusted': False, 'sessions': False, 'tilts': False, 'gerrard': False, 'tsai': False, 'carrion': False, 'ultraconservative': False, 'migrated': False, 'winters': False, 'identities': False, 'cam': False, 'kaufman': False, 'consoles': False, 'twilight': False, 'hawkes': False, 'individual': False, 'spoofing': False, 'ex': False, 'lasso': False, 'prescence': False, 'hf': False, 'verification': False, 'weakest': False, 'transplant': False, 'tuna': False, 'guadalcanal': False, 'humorless': False, 'conjunctions': False, 'collectors': False, 'vehemently': False, 'proclamations': False, 'specter': False, 'broods': False, 'ot': False, 'bush': False, 'scared': False, 'blanche': False, 'perhaps': False, 'reinforcing': False, 'hull': False, 'transpiring': False, 'dissatisfied': False, 'marsh': False, 'aitken': False, 'coast': False, 'condolences': False, 'baseness': False, '_to': False, 'preempt': False, 'schitck': False, 'gevedon': False, 'overlapping': False, 'thud': False, '23rd': False, 'quimby': False, 'morva': False, 'putzes': False, 'rainbows': False, 'verges': False, 'lovable': False, 'nevertheless': False, 'fowler': False, 'takaaki': False, 'lags': False, 'smoked': False, 'cheater': False, 'beards': False, 'sinuous': False, 'headquarters': False, 'finer': False, 'comanding': False, 'itself': False, 'vandernoot': False, 'inborn': False, 'escorted': False, 'zorg': False, 'griebe': False, 'vanna': False, 'enigma': False, 'widow': False, 'misconception': False, '7': True, 'iffy': False, 'pinchot': False, 'lit': False, 'parkers': False, 'ferdinand': False, 'mysterians': False, 'ishtar': False, 'worthless': False, 'schoolteacher': False, 'rotunno': False, 'meet': False, 'immeadiately': False, 'relieving': False, 'stoned': False, 'observational': False, '1963': False, 'staining': False, 'reak': False, 'discussions': False, 'mehki': False, 'ripper': False, 'lindsey': False, 'hilarous': False, 'ethic': False, 'lithuanian': False, 'rollin': False, 'catastrophes': False, 'bookshop': False, 'panscholi': False, 'regales': False, 'secretly': False, 'licia': False, 'cuff': False, 'truck': False, 'stoically': False, 'advice': False, 'initials': False, 'baffle': False, 'employers': False, 'unwinable': False, 'loner': False, 'southampton': False, 'peculiar': False, 'acidic': False, 'stafff': False, 'pixie': False, 'institute': False, 'limited_': False, 'ridiculous': False, 'cemetery': False, 'ribald': False, 'colt': False, 'jingles': False, 'escort': False, 'observance': False, 'applied': False, 'conscript': False, 'phones': False, 'smartly': False, 'dissuasive': False, 'petitions': False, 'notables': False, 'inconceivable': False, 'loosing': False, 'valkyries': False, 'leisure': False, 'mono': False, 'classmates': False, 'tarantino': False, 'choreographing': False, 'banishment': False, 'shakespearian': False, 'neuromancer': False, 'italoamerican': False, 'faithfulness': False, '2002': False, 'traditionalist': False, 'auteil': False, 'lagging': False, 'rapids': False, 'spiraling': False, 'krajeski': False, 'fluttering': False, 'flights': False, 'carlin': False, 'rudely': False, 'report': False, 'molestation': False, 'seaman': False, 'crooked': False, 'trophies': False, 'crimefighters': False, 'nostril': False, 'distorts': False, 'spurgeon': False, 'socialist': False, 'mu5t': False, 'hanksian': False, 'serial': False, 'goop': False, 'cid': False, 'jews': False, 'kinski': False, 'disconnects': False, 'herded': False, 'excellent': False, 'whom': False, 'appreciation': False, 'jot': False, 'bid': False, 'poslethwaite': False, 'sequestered': False, 'grandeur': False, 'model': False, 'rotting': False, 'magistrate': False, 'garry': False, 'hollywoods': False, 'patriotism': False, 'doozy': False, 'dromey': False, 'labor': False, 'banyon': False, 'desert': False, 'travels': False, 'squinty': False, 'abbotts': False, 'tagline': False, 'swordfishing': False, '========================': False, 'defensively': False, 'altering': False, 'anything': False, 'regimen': False, 'purge': False, 'jing': False, 'baby': False, 'teamed': False, 'bookshelves': False, 'genetics': False, 'prank': False, 'catalyzes': False, 'thomas': False, 'j': False, 'divisive': False, 'renaissance': False, 'intolerable': False, 'derogatory': False, 'cristoffer': False, 'enrolls': False, 'breakups': False, 'cyborsuit': False, 'goldman': False, 'seduce': False, 'intro': False, 'martindale': False, 'unless': False, 'affraid': False, 'funari': False, 'tenfold': False, 'slowness': False, 'flashbacks': False, 'buggs': False, 'profit': False, 'publications': False, 'duguay': False, 'ego': False, 'posing': False, 'burnings': False, 'brags': False, 'contributes': False, 'merciful': False, 'paradoxically': False, 'bussed': False, 'kubrick': False, 'solidify': False, 'copolla': False, 'shapely': False, 'forethought': False, 'henderson': False, 'pivotal': False, 'commensurate': False, 'murray': False, 'stands': False, 'carbon': False, 'theresa': False, 'vehicles': False, 'motorcade': False, 'interlude': False, 'lackluster': False, 'scintilla': False, 'friendliest': False, 'royal': False, 'immunity': False, 'swope': False, 'jumpy': False, 'strindberg': False, '1272': False, 'timothy': False, 'hastily': False, 'interacting': False, 'intuitive': False, 'espadrilles': False, 'shrunk': False, 'exceed': False, 'boham': False, 'ogres': False, 'unneccesary': False, 'recites': False, 'tuan': False, 'stitch': False, 'shepherd': False, 'restauranteur': False, 'locane': False, 'patton': False, 'az': False, 'undeniably': False, 'arriving': False, 'could': False, 'indulgence': False, 'slyly': False, 'implied': False, 'uncommunicative': False, 'wasteful': False, 'giancarlo': False, 'dallas': False, 'stagey': False, 'yagher': False, 'desperate': False, 'unshaven': False, 'cuckoos': False, 'psychlo': False, 'announced': False, 'impart': False, 'astounded': False, 'lana': False, 'expel': False, 'raised': False, 'topics': False, 'expressions': False, 'modeling': False, 'organisms': False, 'glory': False, 'curtis': False, 'little': True, 'snakes': False, 'rorschach': False, 'priority': False, 'realisticaly': False, 'colorblind': False, 'ahab': False, 'pills': False, 'rubik': False, 'arkham': False, 'recombination': False, 'vanzant': False, 'juilliard': False, 'fixedly': False, 'meteors': False, 'valet': False, 'hauser': False, 'dollop': False, 'climactic': False, 'shooting': False, 'mod': False, 'separations': False, 'foible': False, 'planets': False, 'cubicled': False, 'routinely': False, 'tinam': False, 'sum': False, 'sin': False, 'instructor': False, 'hail': False, 'personification': False, '_babe_': False, 'romantic': False, 'paulie': False, 'herniated': False, 'godawful': False, 'hedgetrimmers': False, 'lingerie': False, 'observes': False, 'brit': False, 'consolation': False, 'handle': False, 'photo': False, 'gazed': False, 'girard': False, 'adoration': False, 'burial': False, 'positive': False, 'volcanos': False, '_are_': False, 'varden': False, 'hyperviolent': False, 'sommer': False, 'autopilot': False, 'racy': False, 'rainer': False, 'bo': False, 'plotholia': False, 'burst': False, 'refrains': False, 'delegate': False, 'adherents': False, 'howlingly': False, 'motives': False, 'occaisional': False, 'fm': False, 'bruckheimer': False, '_least_': False, 'scriptures': False, 'pops': False, 'overloaded': False, 'suzie': False, 'hiver': False, 'maiden': False, 'burley': False, 'aren': False, 'smashingly': False, 'readied': False, 'rip': False, 'countryish': False, 'obeidient': False, 'blackmore': False, 'justifying': False, 'timeline': False, 'jailterm': False, 'divorcee': False, '_wayyyyy_': False, 'shread': False, 'haig': False, 'psychosis': False, 'wilkinson': False, 'strove': False, 'barbarians': False, 'valli': False, 'wipe': False, 'demean': False, 'birdie': False, 'regard': False, 'ventura': False, 'ceti': False, 'edouard': False, 'outlawed': False, 'korben': False, 'disaffected': False, 'radiantly': False, 'susses': False, 'portos': False, 'deceptively': False, 'kennedy': False, 'balding': False, 'fancey': False, 'verhoven': False, 'cared': False, 'crusader': False, 'soil': False, '426': False, 'counterprogramming': False, 'penetrate': False, 'bookend': False, 'plotlines': False, 'joyous': False, 'bloodfilled': False, 'memorizing': False, 'updated': False, 'priivate': False, 'charms': False, 'poppins': False, 'judgements': False, 'brown': False, 'rex': False, 'pornographic': False, 'dusters': False, 'distractingly': False, 'classmate': False, 'singled': False, 'andre': False, 'panning': False, 'pondered': False, 'brando': False, 'economical': False, 'irishman': False, 'guitry': False, 'poignance': False, 'govenment': False, 'balki': False, 'bed': False, 'godess': False, 'clerk': False, 'roulette': False, 'nypd': False, 'brewster': False, 'barnacles': False, 'hummm': False, 'byrd': False, 'parties': False, 'douglas': False, 'involvement': False, 'include': False, 'privately': False, 'refusing': False, 'infant': False, 'unsuspected': False, 'immeadiate': False, '10th': False, 'beckinsale': False, 'casuality': False, 'tourfilm': False, 'applauding': False, 'titillation': False, 'minimal': False, 'wag': False, 'typist': False, 'undead': False, 'winterbottom': False, 'abortive': False, 'east': False, 'bears_': False, 'graphics': False, 'rudi': False, 'rednecks': False, 'exploding': False, '1942': False, 'enlightenment': False, 'wheaton': False, 'wow': False, 'radar': False, 'damnedest': False, 'eligibility': False, 'apparition': False, 'ambitious': False, 'diaries': False, 'hollander': False, 'flashy': False, 'unwatchably': False, 'espouses': False, 'aragon': False, 'sedition': False, 'naaaaah': False, 'adjust': False, 'cowardly': False, '19': False, 'beamed': False, 'gavin': False, 'dourif': False, 'symbolizes': False, 'discriminating': False, 'flyboys': False, 'uninitiated': False, 'lieutenants': False, 'hoax': False, 'dorian': False, 'adept': False, 'haggardly': False, 'neglect': False, 'anecdotal': False, 'coerce': False, 'boatloads': False, 'penguin': False, 'happiest': False, 'arraki': False, 'sharpster': False, 'imprison': False, 'plotted': False, 'ambling': False, 'raj': False, 'watermelons': False, 'hydra': False, 'championships': False, 'sappiest': False, 'damns': False, 'detour': False, 'conceptually': False, 'revenge': False, 'cumberland': False, 'crunchings': False, 'hav': False, 'maturity': False, 'tyrannical': False, 'interrotron': False, 'yankee': False, 'neurotic': False, 'resigns': False, 'rushed': False, 'oregon': False, 'kurosawa': False, 'heroize': False, 'liken': False, 'debris': False, 'precedent': False, 'thumbs': False, 'tidbits': False, 'hybridization': False, 'cells': False, 'insects': False, 'takehiro': False, 'text': False, 'achin': False, 'dulloc': False, 'manipulating': False, 'genevi': False, 'utilizing': False, 'heading': False, 'seventy': False, 'adrien': False, 'neve': False, 'haley': False, 'jarringly': False, 'depress': False, 'portorican': False, 'imagining': False, 'metaphorically': False, 'conspirators': False, 'scratched': False, 'plaster': False, 'ambitiously': False, 'cremation': False, 'whalberg': False, 'muppets': False, 'gloat': False, 'solomon': False, 'wheezing': False, 'tarts': False, 'glorified': False, 'imbue': False, 'harding': False, 'billionth': False, 'angles': False, 'termites': False, 'vinyard': False, '_escape': False, 'bedroom': False, 'welshman': False, 'souring': False, 'hamster': False, 'snobbishness': False, '1969': False, 'balasko': False, 'interruptus': False, 'bloods': False, 'hooker': False, 'hunches': False, 'executions': False, 'reissues': False, 'fittingly': False, 'seminal': False, 'sirajul': False, 'pitches': False, 'by': True, 'columnist': False, 'dozing': False, 'fuhrer': False, 'wake': False, 'whirl': False, 'zhang': False, '2400': False, 'shots': False, 'inspiring': False, 'understand': False, 'territory': False, 'campily': False, 'rota': False, 'easton': False, 'fishes': False, 'declaration': False, 'betrays': False, 'perpetrated': False, 'bears': False, 'nights_': False, 'upbeats': False, 'discourage': False, 'wandering': False, 'salesman': False, 'acupuncture': False, 'fehr': False, 'prays': False, 'dissect': False, 'suppression': False, 'nutshell': False, 'speculated': False, 'dimetrodon': False, 'lindo': False, 'favorable': False, 'layers': False, 'foolery': False, 'fluidly': False, 'melanie': False, 'preforming': False, 'rollergirls': False, 'blockubuster': False, 'endangered': False, 'seahaven': False, 'activity': False, 'fluently': False, 'captivatingly': False, 'beaman': False, 'mantlepiece': False, 'individualism': False, 'counted': False, 'costar': False, 'rodents': False, 'tart': False, 'idelogy': False, 'plush': False, 'videophones': False, 'caro': False, 'reknowned': False, 'leeloo': False, 'ikwydls': False, 'civility': False, 'iran': False, 'corinthians': False, 'revisted': False, 'enlistees': False, 'emerich': False, 'candlelit': False, 'upside': False, 'declines': False, 'arresting': False, 'excessively': False, 'buehler': False, 'amtrak': False, 'induced': False, 'moo': False, 'receptions': False, 'sparkles': False, 'clutter': False, 'cleopatra': False, 'descent': False, 'embodying': False, 'archibald': False, 'rocque': False, '_soldier_': False, 'vampy': False, 'aesthetics': False, 'deprived': False, 'fiennes': False, 'entertained': False, 'soled': False, 'prevailing': False, 'tweedy': False, 'elmer': False, 'unassertive': False, 'animal': False, 'deuce': False, 'critically': False, 'eisenberg': False, 'insider': False, 'near': False, 'classes': False, 'aa': False, 'peasant': False, 'teased': False, 'gusto': False, 'bittersweet': False, 'brennan': False, 'consumes': False, 'ogling': False, 'eschewing': False, 'middlemen': False, 'anacondas': False, 'numbered': False, 'intriguingly': False, 'cardinals': False, 'walken': False, 'craft': False, 'ticks': False, 'diffusing': False, 'chose': False, 'vinyl': False, 'samoan': False, 'lost': True, 'allocated': False, 'ww2': False, 'pimpernel': False, 'playground': False, 'matthew': False, 'mckellan': False, 'estrogenic': False, 'highlander': False, 'mourn': False, 'phillotson': False, 'karaman': False, 'advocate': False, 'clears': False, 'waisted': False, 'lipstick': False, 'patron': False, 'kill': False, 'outrun': False, 'breached': False, 'finance': False, 'o': False, 'ancestor': False, 'hinds': False, 'elated': False, 'dangles': False, 'towering': False, 'klan': False, 'programmer': False, 'fair': False, 'jams': False, 'das': False, 'invocation': False, 'intimidated': False, 'paddy': False, 'bunny': False, 'brief': False, 'followups': False, 'dependent': False, 'riffini': False, 'starling': False, 'eilbacher': False, 'huckster': False, 'overpowered': False, 'couplehood': False, 'characterized': False, 'mimic': False, 'figured': True, 'guises': False, 'unhinged': False, 'confusions': False, 'change': False, 'kellner': False, 'learn': False, 'superman': False, 'shagadellic': False, 'amateurs': False, 'preserving': False, 'padawan': False, 'renoir': False, 'cormack': False, 'mainly': False, 'fulfils': False, 'walking': False, 'lengthy': False, 'tastefully': False, 'explains': False, 'smokes': False, 'tsutomu': False, 'brie': False, 'mackey': False, 'dependant': False, 'purrs': False, 'combating': False, 'overdramaticizes': False, 'bigglesworth': False, 'moustached': False, 'paychecks': False, 'maddux': False, 'hams': False, 'barzoon': False, 'gush': False, 'baa': False, 'aspects': False, 'doltish': False, 'horrors': False, 'rustic': False, 'rogaine': False, 'taxes': False, 'affected': False, 'struggling': False, 'inclosed': False, 'been': True, 'deneuve': False, 'sophomore': False, 'thomspon': False, 'directors': False, 'concentrated': False, 'sustained': False, 'auditioned': False, 'yeardly': False, 'serpents': False, 'gaming': False, 'ropes': False, 'drums': False, 'kissinger': False, 'bottin': False, 'idiotically': False, 'perfectionist': False, 'over': True, 'cherbourg': False, 'payed': False, 'asteroid': False, 'yearbook': False, 'seventh': False, 'cheese': False, 'dimwits': False, 'longbaugh': False, 'repaint': False, 'dunwich': False, 'laughlin': False, 'graveyard': False, 'taels': False, 'narrated': False, 'kissner': False, 'chainsmokes': False, 'adorn': False, 'cracking': False, 'drilled': False, 'gridlock': False, 'donut': False, 'witzky': False, 'glickman': False, 'ulee': False, 'soleil': False, 'hooray': False, 'garth': False, 'concoct': False, 'screeching': False, 'gazzara': False, 'talking': False, 'rag': False, 'casts': False, 'dong': False, 'involuntary': False, 'rails': False, 'knights': False, 'frances': False, 'garage': False, 'genieveve': False, 'dead': True, 'buggers': False, 'fillings': False, 'pedagogical': False, 'decades': False, 'dove': False, 'parolees': False, 'crappy': False, 'good': True, 'fruition': False, 'clerical': False, 'meteorological': False, 'quoi': False, 'enraged': False, 'uncharacteristic': False, 'competence': False, 'min': False, 'hatcher': False, 'exaggeration': False, 'gentry': False, 'responds': False, '1982': False, 'bondish': False, 'receive': False, 'izod': False, 'mothering': False, 'fulcrum': False, 'doesn': True, 'linn': False, 'photographer': False, 'sadistic': False, 'mcfarlane': False, 'sakaguchi': False, 'roscoe': False, '_american_beauty_': False, 'brett': False, 'cater': False, 'undiscerning': False, 'algar': False, 'huxley': False, 'klose': False, 'manip': False, 'pressure': False, 'houseman': False, 'foreshadowing': False, 'besvater': False, 'tacks': False, 'hardworking': False, 'literary': False, 'village': False, 'nuptials': False, 'taran': False, 'jumanji': False, 'tiffany': False, 'swain': False, 'matchsticks': False, 'directing': False, 'lures': False, 'modernisation': False, 'copied': False, 'hang': False, '_am_': False, 'iroquois': False, 'sidney': False, 'juggling': False, 'retching': False, 'unnerrving': False, 'spouse': False, 'campaigns': False, 'gasped': False, 'thumper': False, 'undersea': False, 'dabney': False, 'wrecking': False, 'girlina': False, 'homoeroticism': False, 'scintillating': False, 'who': True, 'dimension': False, 'noxima': False, 'dillane': False, 'feelgood': False, 'ragtag': False, 'tomita': False, 'sp': False, 'comraderie': False, 'hitters': False, 'longed': False, 'arizona': False, 'lunes': False, 'buffs': False, 'rampant': False, 'consumerism': False, 'mug': False, 'anderson': False, 'deserts': False, 'winnebago': False, 'afterwards': False, 'roma': False, 'trini': False, 'masturbatory': False, 'sorrows': False, 'overdoser': False, 'shortages': False, 'logistical': False, 'songwriter': False, 'cantrell': False, 'fifteen': False, 'nookie': False, 'savages': False, 'sole': False, 'battle': False, 'effectual': False, 'broke': False, 'featured': False, 'duquette': False, 'sender': False, 'mchugh': False, 'bleached': False, 'astray': False, 'lebrock': False, 'twitching': False, 'latrobe': False, 'characters': True, 'arguments': False, 'needless': False, 'turmoil': False, 'reccover': False, 'spader': False, 'very': True, 'haven': False, 'inner': False, 'risky': False, 'failure': False, 'darabont': False, 'gel': False, 'checkers': False, 'gratifying': False, 'crowdpleasing': False, '_people_': False, 'ioan': False, 'trilian': False, 'ratchet': False, 'innuendoes': False, 'backfire': False, 'evan': False, 'patterson': False, 'graded': False, 'mancina': False, 'shrills': False, 'adulterous': False, 'utmost': False, 'murky': False, 'rabbinical': False, 'buoyant': False, 'remark': False, 'sir': False, 'classism': False, 'abounded': False, 'incompetence': False, 'pretender': False, 'tampopo': False, 'tears': False, 'kidnap': False, 'sunflowers': False, 'reinventing': False, 'everybody': False, 'mispronouncing': False, 'tardis': False, 'like_blade': False, 'nossiter': False, 'leichtling': False, 'motorist': False, 'paperwork': False, 'iq': False, 'appliances': False, 'pities': False, 'advantage': False, 'idolizes': False, 'pg': False, 'silvie': False, 'slogs': False, 'toe': False, 'nazism': False, 'dorn': False, 'winged': False, 'lams': False, 'yankees': False, 'celia': False, 'pakistani': False, 'mayer': False, 'intellectualism': False, 'processed': False, 'lately': False, 'smoother': False, 'smugly': False, 'loin': False, 'snapshots': False, 'sensations': False, 'inaccurately': False, 'endorsements': False, 'respectable': False, 'boldly': False, 'rearranging': False, 'cocktails': False, 'finch': False, 'satisfy': False, 'understated': False, 'toon': False, 'loans': False, 'grosbard': False, 'nail': False, 'danica': False, 'spiritualistic': False, '_saturday_night_live_': False, 'recounts': False, 'backdoors': False, 'nodded': False, 'cooperation': False, 'sepia': False, 'multiples': False, 'incense': False, 'tzi': False, 'trauma': False, 'spite': False, 'slow': False, 'lagpacan': False, 'finklestein': False, 'multiplexes': False, 'nicolodi': False, 'baghdad': False, 'pushups': False, 'biehn': False, 'karras': False, 'amply': False, 'metoclorian': False, 'poled': False, 'vishnu': False, 'preceded': False, 'dalle': False, 'ne': False, 'overachievement': False, 'langlet': False, 'recovers': False, 'abberation': False, 'ozone': False, 'sodomized': False, 'fluttered': False, 'heir': False, 'smarts': False, 'dogs': False, 'deciple': False, 'flossed': False, 'jerk': False, 'recoiling': False, 'barbarity': False, 'afterword': False, 'still': True, 'greedier': False, 'beckham': False, 'begin': False, 'soup': False, 'discouraging': False, 'corporation': False, 'inspections': False, 'ians': False, 'bless': False, 'neighboring': False, 'beaming': False, 'psychotically': False, 'word': False, 'woodward': False, 'usual': False, 'system': False, 'prosecutes': False, 'chained': False, 'falter': False, 'serious': False, 'grief': False, 'below': False, 'perfects': False, 'adversary': False, 'versatile': False, 'donner': False, 'ladder': False, 'litters': False, 'plants': False, 'graphical': False, 'cohorts': False, 'startlingly': False, 'lurches': False, 'transistion': False, 'cops': False, 'marlo': False, 'injections': False, 'medical': False, 'holiday': False, 'rocky': False, 'boucher': False, 'monahan': False, 'denial': False, 'doogie': False, 'massachusetts': False, 'johnny': False, 'hipsters': False, 'miscue': False, 'moniker': False, 'medic': False, 'commandant': False, 'juicing': False, 'mixture': False, 'arthurian': False, 'reccomending': False, 'ominously': False, 'trodden': False, 'proffered': False, 'contenders': False, 'whorehouse': False, 'preconceptions': False, 'excursions': False, 'eva': False, 'eaddress': False, 'sweeten': False, 'glengarry': False, 'pals': False, 'translating': False, 'expressively': False, 'ernst': False, 'morissette': False, 'orgasm': False, 'books': False, 'multidimensional': False, 'deplore': False, 'honeys': False, 'logan': False, 'marisol': False, 'guts': False, 'mindset': False, 'guardians': False, 'donato': False, 'grave': False, 'sly': False, 'unrefined': False, 'quinn': False, 'lacey': False, 'deriving': False, 'charcoal': False, 'worships': False, 'harkonnen': False, 'kilgore': False, 'farm': False, '22': False, 'discotheque': False, 'bidet': False, '_heathers_': False, 'immeasurably': False, 'princesses': False, 'amateurishly': False, '45': False, 'audio': False, 'badu': False, 'grains': False, 'tongues': False, 'dumfounding': False, 'gaius': False, 'h': False, 'apace': False, 'underground': False, 'straining': False, 'implications': False, 'duplication': False, 'indulgent': False, 'nodding': False, 'blindly': False, 'ferretti': False, 'naifeh': False, 'reflective': False, 'incompetently': False, 'energetically': False, 'kirstie': False, 'terel': False, 'franz': False, 'dien': False, 'ally': False, 'ramshackle': False, 'happens': False, 'command': False, 'zakk': False, 'controversies': False, 'libraries': False, 'measure': False, 'chappy': False, 'eager': False, 'sever': False, 'divining': False, 'misgivings': False, 'increments': False, '58': False, 'kat': False, 'redheaded': False, 'marco': False, 'blemish': False, 'partly': False, 'virtue': False, 'chisselled': False, 'ninjas': False, 'fatass': False, 'tripper': False, 'bee': False, 'sona': False, 'houdini': False, 'internationally': False, 'jean': False, 'anal': False, 'taped': False, 'goyer': False, 'julia': False, 'zoologists': False, 'marked': False, 'writeup': False, 'meloncholy': False, 'dispatching': False, 'flings': False, 'enjoying': False, 'vincennes': False, 'cited': False, 'hours': False, 'eminently': False, 'arrangement': False, '3654': False, 'flour': False, 'lance': False, 'wright': False, 'plexus': False, 'noticed': False, 'ulation': False, 'progeny': False, 'softening': False, 'gasps': False, 'pacifistic': False, 'imprisoning': False, 'yielding': False, 'heartless': False, 'equalizers': False, 'condemned': False, 'nozaki': False, 'embracing': False, 'walker': False, 'crows': False, 'slump': False, 'chatting': False, 'disheveled': False, 'conservative': False, 'hatchets': False, 'iv': False, 'watanabe': False, 'frightful': False, 'lesabre': False, 'jazz': False, 'fogy': False, 'buggy': False, 'cheats': False, 'bullcrap': False, 'twitches': False, 'cockroach': False, 'nailing': False, 'funds': False, 'mademoiselle': False, 'reader': False, 'vis': False, 'meting': False, 'foul': False, 'smuggler': False, 'canran': False, 'magic': False, 'forsaken': False, 'clearillusions': False, 'jarrett': False, 'hbo': False, 'ensure': False, 'mathematics': False, 'deserved': False, 'developer': False, 'catalogs': False, 'blocks': False, 'staccato': False, 'studio': True, 'pressures': False, 'uprisings': False, 'buildup': False, 'reevaluation': False, 'forbidding': False, 'knocks': False, 'batarangs': False, 'morocco': False, 'blade': False, 'meditate': False, 'investigative': False, 'isiah': False, 'unlicensed': False, 'incantations': False, 'ooooooooh': False, 'calloway': False, 'bloodthirsty': False, 'arising': False, 'charecter': False, 'personified': False, 'attach': False, 'manifested': False, 'goulash': False, 'yu': False, 'dallwitz': False, 'teamwork': False, 'cried': False, 'sentenced': False, 'contain': False, 'dagger': False, 'prayers': False, 'shrug': False, 'inflames': False, 'hors': False, '==========================': False, 'hunting': False, 'eternal': False, 'trier': False, 'leftover': False, 'garfalo': False, 'recruits': False, 'validity': False, 'uninterested': False, 'exalts': False, 'clunkish': False, 'braintree': False, 'ted': False, 'shuddered': False, 'serb': False, 'immolates': False, 'lts': False, 'problems': True, 'limiting': False, 'perched': False, 'bistro': False, 'ninety': False, 'immediate': False, 'parade': False, 'restatement': False, 'yours': False, 'statesman': False, 'behoove': False, 'rispoli': False, 'energies': False, 'gets': False, 'vehicle': False, 'arbogast': False, 'raunchy': False, 'portrait': False, 'carefully': False, 'angle': False, 'demure': False, 'dim': False, 'cluttered': False, 'branches': False, 'seku': False, 'extremes': False, 'grossly': False, 'intricacies': False, 'mistaken': False, 'drubbing': False, 'tormented': False, '10b': False, 'vapidly': False, 'donors': False, '34th': False, 'rabbi': False, 'firefighters': False, 'ballstein': False, 'machine': False, 'pates': False, 'infamy': False, 'stages': False, 'insufficient': False, 'spiritless': False, 'chemically': False, 'cotterill': False, 'himalayas': False, 'onatopp': False, 'teeny': False, 'nam': False, 'population': False, 'needn': False, 'leak': False, 'eriq': False, 'warmed': False, 'turtleneck': False, 'distributed': False, 'superior': False, 'benben': False, 'leaning': False, 'oddball': False, 'deborah': False, 'gazarra': False, 'pelted': False, 'dale': False, 'juices': False, 'mirrored': False, 'jabbering': False, 'mph': False, 'intimidating': False, 'goluboff': False, 'environs': False, 'buchman': False, 'ironically': False, 'spinning': False, 'defiled': False, 'gar': False, 'audits': False, 'intangible': False, 'edel': False, 'auteuil': False, 'oppression': False, 'fireflies': False, 'fundamentalist': False, 'brisville': False, 'dare': False, 'goody': False, 'butchie': False, 'tread': False, 'purveyor': False, 'collected': False, 'mindlessness': False, 'humanoids': False, 'fumes': False, 'began': False, 'forced': False, 'flair': False, 'quagmire': False, 'emmanuel': False, 'backtrack': False, 'uniqueness': False, 'bogeyman': False, 'cane': False, 'equivalents': False, 'songwriting': False, 'vitarelli': False, 'cello': False, 'predicable': False, 'heartwrenching': False, 'indie': False, 'temptation': False, 'ione': False, 'caution': False, 'inexplicably': False, 'attacks': False, 'interactive': False, 'sanders': False, 'essentials': False, 'mandibles': False, 'mcteer': False, 'devoured': False, 'unown': False, 'tirade': False, 'monsieur': False, 'vogue': False, '1962': False, 'maturing': False, 'counterexample': False, 'friends': False, 'stridently': False, 'rain': False, 'detective': False, 'plausibility': False, 'avenge': False, 'comeback': False, 'hotly': False, 'devour': False, 'tainsy': False, 'awaited': False, 'cartoon': False, 'whereas': False, 'shellulite': False, 'darnedness': False, 'mannerisms': False, 'delete': False, 'simplicities': False, 'longsword': False, 'nerving': False, 'barclay': False, 'winfield': False, 'requiem': False, 'emotes': False, 'americana': False, 'innundated': False, 'memories': False, 'parent': False, 'sympathetically': False, 'bloodstains': False, 'yitzhak': False, 'anemic': False, 'igniting': False, 'ranging': False, 'irresistible': False, 'transcripts': False, 'heel': False, '157': False, 'increasing': False, 'susie': False, 'relentlessness': False, 'reactions': False, 'equipped': False, 'lumbergh': False, 'swiftness': False, 'hunt': False, 'honours': False, 'ratchets': False, 'transistor': False, 'attentions': False, 'aggressivelly': False, 'outlook': False, 'thespian': False, 'marvels': False, 'bicycle': False, 'hesitating': False, 'salerno': False, 'accused': False, 'illegally': False, 'ebouaney': False, 'franken': False, 'bruiser': False, 'gruff': False, 'meathook': False, 'dwells': False, 'dropping': False, 'adverse': False, 'katharine': False, 'jew': False, 'otto': False, 'railly': False, 'achieveing': False, 'strumming': False, 'cogliostro': False, 'sculpture': False, 'ala': False, 'sundae': False, 'glitz': False, 'doorman': False, 'hubris': False, 'cleary': False, 'crawler': False, 'intellectually': False, 'hated': False, 'multihued': False, 'hrs': False, 'farscial': False, 'imbued': False, 'unsophisticated': False, 'pinkett': False, 'heldenberger': False, 'jacqeline': False, 'yellows': False, 'yorker': False, 'valour': False, 'reinspired': False, 'stabbed': False, 'gooden': False, 'torsos': False, 'insect': False, 'countryside': False, 'confessionals': False, 'wrongdoing': False, 'intensity': False, 'se7en': False, 'pep': False, 'saracastic': False, 'according': False, 'dealers': False, 'deter': False, 'yak': False, 'counterbalanced': False, 'schwarzbaum': False, 'commenting': False, 'fledgling': False, 'prepares': False, 'incantation': False, 'wile': False, 'weakness': False, 'redux': False, 'elimination': False, 'unfazed': False, 'permanently': False, 'intuition': False, 'tasha': False, 'yammering': False, 'tangential': False, 'zigs': False, 'hypnosis': False, 'cliques': False, 'snatched': False, 'napoleon': False, 'bukater': False, 'slapstickness': False, 'apollo': False, 'penny': False, 'tamer': False, 'brutalized': False, 'overbearing': False, 'fantasies': False, 'gods': False, 'surname': False, 'gordie': False, 'caravan': False, 'creatures': False, 'instinct': False, 'playset': False, 'compassionate': False, 'merpeople': False, 'stance': False, 'francois': False, 'hath': False, 'defeats': False, 'overflying': False, 'sunnybrook': False, 'humbly': False, 'lacks': False, 'delegation': False, 'incorporation': False, 'annette': False, 'dude': False, 'aussies': False, 'disastrously': False, 'sweden': False, 'butte': False, 'biopic': False, 'simmrin': False, 'primrose': False, 'ceases': False, 'hairdo': False, 'croc': False, 'pull': False, '15': False, 'travelogue': False, 'prestige': False, 'bugged': False, 'thanksgiving': False, 'nobodies': False, 'follies': False, 'alamo': False, 'disrepair': False, 'dotson': False, 'ditching': False, 'dredge': False, 'crave': False, 'grasps': False, 'unspooling': False, 'blitzstein': False, 'naivete': False, 'yakin': False, 'shimmying': False, 'purple_': False, 'restaurants': False, 'limps': False, 'odessa': False, 'beesley': False, 'uninspired': False, 'hendren': False, 'nadia': False, 'rossio': False, 'evaluate': False, 'worthwhile': False, 'immuno': False, 'theorizing': False, 'deformed': False, 'ironside': False, 'mirror': False, 'hadley': False, 'liquid': False, 'wanker': False, 'substory': False, 'sniffs': False, 'reichle': False, 'digesting': False, 'biohazard': False, 'females': False, 'mutha': False, 'dominant': False, 'bayou': False, 'many': False, 'minelli': False, 'chorus': False, 'bloodthirstiness': False, 'inveterate': False, 'carla': False, 'supplementing': False, 'suspect': False, 'sensitive': False, 'migration': False, 'seldom': False, 'jerked': False, 'contentious': False, 'gotta': False, 'lunatics': False, 'trailers': False, 'portray': False, 'waittress': False, 'linden': False, 'cherokee': False, 'bussotti': False, 'oozes': False, 'stodgy': False, 'appreciable': False, 'crawford': False, 'buttons': False, 'staple': False, 'spewing': False, 'hedonism': False, 'seemed': True, 'hygienists': False, 'classier': False, 'cronenbergto': False, 'lonesome': False, 'oral': False, 'stag': False, 'lovesick': False, 'bitchy': False, 'cel': False, 'mix': False, 'throbbing': False, 'moroccan': False, 'incomprehensible': False, 'vicious': False, 'actualy': False, 'ante': False, 'skif': False, 'brigante': False, 'savvy': False, 'radioactive': False, 'matrimony': False, 'abuzz': False, 'relevant': False, 'upping': False, 'relaxation': False, 'minor': False, 'howie': False, 'liberation': False, 'deflowered': False, 'fleder': False, 'frustration': False, 'handcuff': False, 'younger': False, 'graveness': False, 'super': False, 'winnfield': False, 'cackle': False, 'corpse': False, 'reiterate': False, '500th': False, 'beauties': False, 'pirhanna': False, 'situated': False, 'professing': False, 'choke': False, 'grindhouse': False, 'blares': False, 'immolation': False, 'cuckolded': False, 'dostoevski': False, 'maudit': False, 'mispaired': False, 'embraced': False, 'loud': False, 'holliday': False, 'even': True, 'ostott': False, 'infiltrating': False, 'costumes': False, 'wished': False, 'knish': False, 'institution': False, 'simplify': False, 'hot': True, 'unpublished': False, 'initiatives': False, 'status': False, 'anxiety': False, 'whimsically': False, 'turvy': False, 'tinder': False, '_real_': False, 'philosophy': False, 'unforeseen': False, 'submitted': False, 'virtuosity': False, 'patronize': False, 'horrifying': False, 'laptop': False, 'farts': False, 'amerocentric': False, 'obsessively': False, 'ass': False, 'sphinx': False, '449': False, 'casualty': False, 'springfield': False, 'eye': False, 'wanderer': False, 'middleage': False, 'radioing': False, 'caring': False, 'jingle': False, 'animations': False, 'festively': False, 'fuentes': False, 'souza': False, 'bombshell': False, 'veteran': False, 'haw': False, 'roundabout': False, 'gidget': False, 'deafened': False, 'cartoonish': False, 'conceptualization': False, 'survive': False, 'jonnie': False, 'vadar': False, 'petula': False, 'slovenly': False, 'shaolin': False, 'leno': False, 'schoonmaker': False, 'jen': False, 'stupidness': False, 'prophesized': False, 'knepper': False, 'mistreats': False, 'unraveling': True, 'interloper': False, 'sensical': False, 'absurdist': False, 'bitch': False, 'ergonomics': False, 'dudes': False, 'greet': False, 'fate': False, 'meanwhile': False, 'byplay': False, 'groaner': False, 'junkie': False, 'sociological': False, 'uttered': False, 'upped': False, 'superscript': False, 'marsters': False, 'warchus': False, 'bickering': False, '9': True, 'period': False, 'forming': False, 'grocers': False, 'same': True, 'stub': False, 'internalizing': False, 'impromptu': False, 'provocative': False, 'majorino': False, 'positing': False, 'leboswki': False, 'restoration': False, 'shootout': False, 'leave': False, 'macnamara': False, 'fortune': False, 'janevski': False, 'undergo': False, 'enforce': False, 'hipness': False, 'prophetic': False, 'europop': False, 'fumblings': False, 'uecker': False, 'waif': False, 'overcoats': False, 'heroes': False, 'giosue': False, 'giving': True, 'proselytize': False, 'f': False, 'subjected': False, 'storyboarded': False, 'penile': False, 'leash': False, 'torn': False, 'subtitled': False, 'gigolo': False, 'militia': False, 'poker': False, 'buttocks': False, 'unfinished': False, 'su': False, 'preludes': False, 'criminally': False, 'playes': False, 'swan': False, 'interned': False, 'celeste': False, 'yuppie': False, 'outwardly': False, 'illicit': False, 'grandiose': False, 'camped': False, 'scruples': False, 'mcgoohan': False, 'rolling': False, 'timbers': False, 'cupid': False, 'dishing': False, 'longings': False, 'beverly': False, 'bridget': False, 'americans': False, 'retrieving': False, 'damping': False, 'manservant': False, 'camp': False, 'risk': False, 'virile': False, 'predictament': False, 'toole': False, 'relaxes': False, 'pumping': False, 'rectangles': False, 'required': False, 'attuned': False, 'tidal': False, 'ellicited': False, 'hallucinatory': False, 'plagiarize': False, 'election': False, 'beth': False, 'shen': False, 'earlier': False, 'returning': False, 'pronouns': False, 'garden': False, 'mildred': False, 'unwilling': False, 'janney': False, 'irreversible': False, 'sheer': False, 'hal': False, 'restart': False, 'henricksen': False, 'depth': False, 'cecil': False, 'difficult': False, 'nfeatured': False, 'smoke': False, 'slung': False, 'absolut': False, 'pickles': False, 'retrieves': False, 't2': False, 'apprehend': False, 'bandanna': False, 'invisible': False, 'handedness': False, 'thrusting': False, 'smaller': False, 'truncated': False, 'flirtation': False, 'rigeur': False, 'danging': False, 'mona': False, 'alma': False, 'bands': False, 'hijacked': False, 'ani': False, 'countercultural': False, 'quoting': False, 'feisty': False, 'interweaves': False, 'caroline': False, 'wackiness': False, 'empathize': False, 'gauge': False, 'juvenile': False, 'collectible': False, 'myrlie': False, 'immigrants': False, 'poignancy': False, 'sctv': False, 'documentarian': False, 'keenly': False, 'lifelessness': False, 'nonplussed': False, 'segregation': False, 'smashing': False, 'dalliance': False, 'furrows': False, 'unrewarding': False, 'ji': False, 'motto': False, 'thought': False, 'copy': False, 'notwithstanding': False, 'donation': False, 'principal': False, 'jailed': False, 'arabia': False, 'homely': False, 'carries': False, 'expedition': False, 'impertinent': False, 'powerhouse': False, 'above': False, 'train': False, 'attractions': False, 'claudia': False, 'subtler': False, 'performs': False, 'jeunet': False, 'expunging': False, 'finkbine': False, 'food': False, 'replete': False, 'paroled': False, 'fort': False, '2010': False, 'dirtier': False, 'gambon': False, 'woolrich': False, 'psychotics': False, 'rebuild': False, 'omens': False, 'cornered': False, 'pipstone': False, '133': False, 'haskell': False, 'frollo': False, 'letter': False, 'strocker': False, 'lifting': False, 'hippos': False, 'receipt': False, '60': False, 'underperforms': False, 'kazdan': False, 'oiled': False, 'horsing': False, 'humorously': False, 'delta': False, 'themes': False, 'champs': False, 'click': False, 'sinister': False, 'craning': False, 'nil': False, 'themed': False, 'lightness': False, '70s': False, 'skaarsgard': False, 'e9': False, 'crook': False, 'sums': False, 'garcia': False, 'edward': False, 'heaping': False, 'sierra': False, 'theory': False, 'trajectory': False, 'anette': False, 'purchased': False, 'reliable': False, 'praises': False, 'lashings': False, 'sandwich': False, 'insisting': False, 'parallel': False, 'funhouse': False, 'suspends': False, 'sr': False, 'antwerp': False, 'yemen': False, 'cynic': False, 'olympian': False, 'dub': False, 'guess': True, 'pogue': False, 'petals': False, 'raoul': False, 'wei': False, 'ottorino': False, 'lifter': False, 'pearly': False, 'roughed': False, 'ennui': False, 'comments': False, 'dukakis': False, 'speculative': False, 'correctional': False, 'coogan': False, 'projecting': False, 'informer': False, 'cryogenic': False, 'loath': False, 'thurgood': False, 'marsden': False, 'bremner': False, 'spiteful': False, 'dwindling': False, 'avocations': False, 'compose': False, 'zephyr': False, 'wrenched': False, 'keep': False, 'diane': False, 'organizers': False, 'vengeance': False, 'guideline': False, 'coining': False, 'perplexed': False, 'precipice': False, 'wheeling': False, 'pathological': False, 'errands': False, 'sliding': False, 'slapstick': False, 'terrors': False, 'stepdaughter': False, 'wandered': False, '460': False, 'voluptuous': False, 'triumphed': False, 'megaglomaniac': False, 'distancing': False, 'asian': False, 'successively': False, 'prominent': False, 'pontificate': False, 'district': False, 'stigma': False, 'capitol': False, 'husband': False, 'prescripted': False, 'dakota': False, 'booboos': False, 'hinting': False, 'cinemax': False, 'potente': False, 'earl': False, 'handcuffed': False, 'crisply': False, 'rhino': False, 'domineering': False, 'consumer': False, 'scrutinizing': False, 'ladened': False, 'mash': False, 'paneled': False, 'goldbergesque': False, 'vosloo': False, 'lionized': False, 'hawthorne': False, 'heil': False, 'silvers': False, 'harpoons': False, 'wangenhein': False, 'nursing': False, 'dad': False, 'consul': False, '_here_': False, 'smacking': False, 'stupor': False, 'cheaper': False, 'pretension': False, 'schwartzenegger': False, 'futility': False, 'ostensibly': False, '_mafia_': False, 'sealed': False, 'crisis': False, 'accentuates': False, '1900': False, 'beeps': False, 'vacuumed': False, 'bop': False, 'cracked': False, 'pharmacist': False, 'foreboding': False, 'screwer': False, 'prevents': False, 'incomprehensibly': False, 'gosselaar': False, 'goodnight_': False, 'matinee': False, 'miscalculated': False, 'streeming': False, 'trampled': False, 'brains': False, 'leroi': False, 'physiology': False, 'equals': False, 'electricity': False, 'catapults': False, 'drainage': False, 'paraglider': False, 'bourgeoisie': False, 'mercedes': False, 'koch': False, 'dump': False, 'pettiness': False, 'bloodflow': False, 'alternating': False, 'estella': False, 'licks': False, 'interrogative': False, 'distance': False, 'stylishness': False, 'underestimate': False, 'whisk': False, 'ginty': False, 'sumo': False, 'convoluted': False, 'daydream': False, 'drawers': False, 'disarm': False, 'thorough': False, 'koons': False, 'inducing': False, 'summaries': False, 'esuqe': False, 'fulfills': False, 'scorned': False, 'gayheart': False, 'derive': False, 'argued': False, 'entertain': True, 'inciting': False, 'pugnaciousness': False, 'strategies': False, 'blues': False, 'bellamy': False, 'retailers': False, 'labors': False, 'kerchak': False, 'unlock': False, 'tumbled': False, 'virginal': False, 'arian': False, 'june': False, 'debilitating': False, 'develop': False, 'pneumonia': False, 'billers': False, 'honeymoon': False, 'collaborators': False, 'mosey': False, 'larisa': False, 'francisco': False, 'panache': False, 'bumstead': False, 'toller': False, 'indifference': False, 'bumbling': False, 'horks': False, 'proctor': False, 'bests': False, 'pisken': False, 'house': False, 'wednesday': False, 'giddily': False, 'inmate': False, 'wallpaper': False, 'believes': False, 'elm': True, 'silvio': False, 'nannies': False, 'blips': False, 'natacha': False, 'sod': False, 'teaspoons': False, 'thomsen': False, 'telecast': False, 'savini': False, 'tightest': False, 'doa': False, 'tanked': False, 'toothy': False, 'shown': False, 'gigantic': False, '16': False, 'dement': False, 'perfectly': False, 'notably': False, 'totalitarian': False, 'genie': False, 'hedonistic': False, 'actively': False, 'zipper': False, 'usurped': False, 'eccleston': False, 'rowlands': False, 'branded': False, 'infinitum': False, 'xavier': False, 'shocked': False, '10000': False, 'nuggets': False, 'dolph': False, 'disturbed': False, 'fussy': False, 'stacy': False, 'snowy': False, 'foundering': False, 'planned': False, 'weave': False, 'resist': False, 'volleyball': False, 'swashbuckers': False, 'asides': False, 'organ': False, 'mudhole': False, 'pages': False, 'comparison': False, 'bungling': False, 'eng': False, 'methodologies': False, 'hucksters': False, 'trafficking': False, 'crept': False, 'gawkers': False, 'labeling': False, '2018': False, 'fleischer': False, 'arli': False, 'handles': False, 'cronenberg': False, 'lithgow': False, 'phone': False, 'clump': False, 'mins': False, 'monty': False, 'molten': False, 'rick': False, 'marrakech': False, 'strobe': False, 'partition': False, 'pilleggi': False, 'imparting': False, 'stephn': False, 'dumbed': False, 'collars': False, 'goner': False, 'tolling': False, 'competitors': False, 'clinical': False, 'fantasyland': False, 'munro': False, 'distinctly': False, 'avatar': False, 'substitution': False, 'rarest': False, 'smile': False, 'revolutionaries': False, '1900s': False, 'romanticise': False, 'lasers': False, '_election': False, 'reclaiming': False, 'shaved': False, 'thus': False, 'phonograph': False, 'weitzman': False, 'tummy': False, 'mtcts2': False, 'uproarious': False, 'neutrality': False, 'commensurately': False, 'evening': False, 'wears': False, '155': False, 'wrights': False, 'hexagons': False, 'electroshock': False, 'lude': False, 'localized': False, 'copes': False, 'snatches': False, 'participate': False, 'ventures': False, 'mumbled': False, 'cheerleaders': False, 'tricked': False, 'california': False, 'scouting': False, 'dummy': False, 'devastate': False, 'loaded': False, 'chart': False, 'smithees': False, 'catherine': False, 'overture': False, 'underhanded': False, 'helecopters': False, 'processing': False, 'sigel': False, 'undertsanding': False, 'overuse': False, 'rewrites': False, 'battler': False, 'replacements': False, 'backfires': False, 'lifestyle': False, 'chirpy': False, 'photogenic': False, 'enlistee': False, 'subsidies': False, 'drunkenness': False, 'constantly': False, 'garofolo': False, 'humphrey': False, 'multiple': False, 'therapist': False, 'classification': False, 'skepticism': False, 'probes': False, 'gus': False, 'disable': False, '400': False, 'zorro': False, 'dodgers': False, 'fiqure': False, 'bille': False, 'groovy': False, 'outdated': False, 'listless': False, 'tanker': False, 'spaced': False, 'treading': False, 'greenstreet': False, 'refined': False, 'integral': False, 'belle': False, 'solicit': False, 'kirshner': False, 'ronna': False, 'ack': False, 'bats': False, 'clearly': False, 'holley': False, 'dov': False, 'curdling': False, 'ducastel': False, 'jost': False, 'bauble': False, 'froehlich': False, 'plotting': False, 'spectrum': False, 'terry': False, 'prefixed': False, 'his': True, 'rachel': False, 'damages': False, 'ranks': False, 'crummy': False, 'grove': False, 'rollergirl': False, 'greene': False, 'rendell': False, 'elizabethan': False, 'perceptible': False, 'rastafarians': False, 'jeered': False, 'experess': False, 'beaudoin': False, 'assuring': False, 'bruise': False, 'toughs': False, 'husbands': False, 'uhry': False, 'minimums': False, 'ambiguous': False, 'flourishes': False, '1956': False, 'aquits': False, 'analogue': False, '$$$': False, 'stacking': False, 'wint': False, 'severed': False, 'luchino': False, 'regain': False, 'demeanor': False, 'densely': False, 'potraying': False, 'encounter': False, 'signify': False, 'melodramtic': False, 'hydrogen': False, 'soviets': False, 'woven': False, 'diet': False, 'schmoe': False, 'genes': False, 'potrayal': False, 'suave': False, 'outnumber': False, 'weapon': False, 'forgiveable': False, 'drops': False, 'unappetizing': False, 'frankfurters': False, 'compromising': False, 'flamm': False, 'plantation': False, 'snippet': False, 'unjustifiable': False, 'dissappointed': False, 'ing': False, 'airplanes': False, 'greer': False, 'brooder': False, 'thermopolis': False, 'loyalty': False, 'aloof': False, 'jnr': False, 'leyland': False, 'penelope': False, 'janeane': False, 'actionfest': False, 'gate': False, 'firstborn': False, 'willy': False, 'affleck': False, 'wkrp': False, 'protesting': False, 'infests': False, 'sterotypically': False, 'corresponds': False, 'illusive': False, 'storywise': False, 'wonderully': False, 'pretense': False, 'explicate': False, 'cleaves': False, 'reassuring': False, 'bacall': False, 'far': False, 'coasts': False, 'capsule': False, 'drove': False, 'laboured': False, 'shortcomings': False, 'purpose': False, 'democrat': False, 'manager': False, 'usa': False, 'conn': False, 'tarantula': False, 'responsibly': False, 'maka': False, 'greenlight': False, 'afficianados': False, 'intrigues': False, 'foretold': False, 'lily': False, 'analyzed': False, 'embarked': False, 'pairings': False, 'confusedly': False, 'tannek': False, 'drinking': False, 'supremely': False, 'referencing': False, 'kieran': False, 'stillness': False, 'clayton': False, 'analect': False, 'searchers': False, 'postponement': False, 'upcoming': False, 'unlike': False, 'inlists': False, 'tic': False, 'ardour': False, 'unprofessionalism': False, 'oldham': False, 'knell': False, 'shelley': False, 'rimmed': False, 'kimba': False, 'haphazardly': False, 'apparatuses': False, 'niftiest': False, 'offhand': False, 'impulsively': False, 'curtly': False, 'hap': False, 'hometown': False, 'flawless': False, 'connie': False, 'cerrano': False, 'lund': False, 'xxv': False, 'mediating': False, 'disregards': False, 'camembert': False, 'verna': False, 'dominating': False, 'pouting': False, 'classroom': False, 'meddle': False, 'tigher': False, 'consternation': False, 'assembles': False, 'sellers': False, 'conversely': False, 'snorks': False, 'forementioned': False, 'azazel': False, 'bathgate': False, 'odds': False, 'circles': False, 'stunts': False, 'broderick': False, 'pacha': False, 'tatoo': False, 'guards': False, 'sending': False, 'comedic': False, 'mediterranean': False, 'meatiest': False, 'shackled': False, 'breeze': False, 'maddalena': False, '1995': False, 'sequiturs': False, 'picard': False, 'runny': False, 'downcast': False, 'incompetency': False, 'javert': False, 'da': False, 'cruising': False, 'bewitched': False, 'bergman': False, 'anime': False, 'event': False, 'connor': False, 'machiavellian': False, 'hana': False, 'jingo': False, 'dads': False, 'calderon': False, 'flirtatious': False, 'fortunately': False, 'perkus': False, 'sppedboat': False, 'gregio': False, 'slaparound': False, 'geese': False, 'trashed': False, 'ad2am': False, 'sideline': False, 'vest': False, 'clones': False, 'pickpocket': False, 'harped': False, 'profiling': False, 'similar': False, 'lumbers': False, 'enthusiasm': False, 'frame': False, 'lamppost': False, 'tarheels': False, 'camera': False, 'junction': False, 'god': False, 'alike': False, 'cautiously': False, 'gara': False, 'otherworldliness': False, 'manifests': False, 'habitual': False, 'disillusioned': False, 'eyes': False, 'bailey': False, 'clapping': False, 'repressed': False, 'vivien': False, 'definitely': False, 'bossy': False, 'mckee': False, 'indefinitely': False, 'increase': False, 'glycerine': False, 'spoiling': False, 'fanatics': False, 'jax': False, 'contempt': False, 'wallpaperer': False, '/': True, 'surrealism': False, 'appearance': False, 'suggestions': False, 'long': False, 'pubbing': False, 'capitalism': False, 'corbett': False, 'tragically': False, 'mimieux': False, 'jarman': False, 'cellulars': False, 'plumbing': False, '56k': False, 'hairless': False, 'intensively': False, 'athletic': False, 'screaming': False, 'hatred': False, 'igor': False, 'storytellers': False, 'com': False, '\\x16': False, 'yuckity': False, '3': True, 'unapologetically': False, 'discernable': False, 'trusts': False, 'outweigh': False, 'arabella': False, 'steen': False, 'kudos': True, 'nicest': False, 'city': False, 'rococo': False, 'kaminski': False, 'kashiwabara': False, 'sumptuous': False, '000': False, 'forcefully': False, 'relatives': False, 'stalking': False, 'egotism': False, 'depending': False, 'aerospace': False, 'hoblit': False, 'stripper': False, 'yamazaki': False, 'quentin': False, 'contraptions': False, 'trippier': False, 'mckean': False, 'bumcheeks': False, 'victoire': False, 'lambasted': False, 'ones': False, 'frighteners': False, 'neidermeyer': False, 'cornfield': False, '2': True, 'unrepentant': False, 'overlaps': False, 'amyl': False, 'suspended': False, 'located': False, 'sculptor': False, 'rossellinia': False, 'jolt': False, 'mathieu': False, 'glowing': False, 'agnostics': False, 'tourism': False, 'sequence': False, 'longevity': False, 'sleepers': False, 'cypher': False, 'thermal': False, 'tian': False, 'yucked': False, 'harvests': False, 'portents': False, 'huff': False, 'renews': False, 'cocoon': False, 'bluescreen': False, 'majoring': False, 'excellence': False, 'reveling': False, 'downtrodden': False, 'contentiousness': False, 'lutz': False, 'rue': False, 'custodians': False, 'evolve': False, 'modesty': False, 'redone': False, 'theron': False, 'terminating': False, '1799': False, 'kops': False, 'remarked': False, 'abc': False, 'georgina': False, 'intelligently': False, 'riot': False, 'thirsty': False, 'planting': False, 'discernible': False, 'gear': False, 'ghettos': False, 'trainee': False, 'rickety': False, 'mandated': False, 'passionless': False, 'crests': False, 'errs': False, 'schlesinger': False, 'undevoted': False, 'zaentz': False, 'receptors': False, 'man': False, 'thanks': False, 'dizziness': False, 'usda': False, '_dead_man_on_campus_': False, 'winsome': False, 'gunfire': False, 'moptop': False, 'dazed': False, 'cannibalism': False, 'skittering': False, 'sputnik': False, 'bastion': False, 'naval': False, 'cocky': False, 'thai': False, 'dramatized': False, 'selena': False, 'stupendous': False, 'per': False, 'laurence': False, 'tiles': False, 'harrold': False, 'bear': False, 'downplaying': False, 'belcher': False, 'ads': False, 'taling': False, 'mawkish': False, 'unfrozen': False, 'misjudgment': False, 'miami': False, 'courtroom': False, 'snipers': False, 'loki': False, 'ammunitions': False, 'adams': False, 'delhem': False, 'purposes': False, 'not': True, 'see': True, 'wakes': False, 'triad': False, 'homecoming': False, 'jam': False, 'snuggling': False, 'assasination': False, 'chatty': False, 'awesomeness': False, 'ving': False, 'octopus': False, 'selick': False, 'outdone': False, 'bale': False, 'darcy': False, 'relevent': False, 'cover': False, 'oedipus': False, 'stimulants': False, 'yelling': False, 'preservation': False, 'mystique': False, 'sprouted': False, 'deane': False, 'cannibal': False, 'ugly': False, 'shagging': False, 'row': False, 'bravery': False, 'bantu': False, 'jivin': False, 'exacted': False, 'goons': False, 'entrepenaur': False, 'befriend': False, 'terraformed': False, 'parachutes': False, 'faze': False, 'recieve': False, 'dumbing': False, 'therefor': False, 'redeemed': False, 'stritch': False, 'committed': False, 'cruelly': False, 'manhatten': False, 'shondra': False, 'toque': False, 'lettuce': False, 'cheerleader': False, 'manufacturer': False, 'escalating': False, 'accumulate': False, 'graffiti': False, 'lv': False, '1898': False, 'kristin': False, 'bibile': False, 'overracting': False, 'conciseness': False, 'hissing': False, 'easily': False, 'blackwolf': False, 'knowingly': False, 'unlimited': False, 'artificial': False, 'darkness': False, 'mcneill': False, 'directorate': False, 'falseness': False, 'singularly': False, 'xtc': False, 'tswsm': False, 'harvest_': False, 'morlocks': False, 'alleviates': False, 'pressured': False, 'degenerated': False, 'schrader': False, 'lyricized': False, 'assholes': False, 'biggie': False, 'macks': False, 'woodwinds': False, 'strenuously': False, 'cluding': False, 'resplendent': False, 'welder': False, 'crossbows': False, 'campiness': False, 'choices': False, 'accurate': False, 'insipidness': False, 'doubtless': False, 'bros': False, 'subtheme': False, 'zoologist': False, 'palaces': False, 'stopwatch': False, 'lehman': False, 'phyllida': False, 'scotland': False, 'bantering': False, 'nephews': False, 'liberty': False, 'relive': False, 'centrestage': False, 'leftist': False, 'navarro': False, 'frisson': False, 'pau': False, 'doctrine': False, 'ailing': False, 'glow': False, 'bankrupt': False, 'gurgle': False, 'rewound': False, 'europe': False, 'feathery': False, 'seizes': False, 'pollution': False, 'resolving': False, 'clapton': False, 'plotwise': False, 'letdown': False, 'regretted': False, 'vota': False, 'dummies': False, 'retire': False, 'craving': False, 'humongous': False, 'apologetically': False, 'junior': False, 'nicolas': False, 'tangents': False, 'named': False, 'impossibilty': False, 'sip': False, 'siblings': False, 'mutated': False, 'formidably': False, 'don92t': False, 'adian': False, 'mementos': False, 'pallisades': False, 'saunters': False, 'mystically': False, 'bossman': False, 'maron': False, 'straightens': False, 'barta': False, 'sirens': False, 'brook': False, 'epic': False, 'milks': False, 'swamps': False, 'undisturbed': False, 'gaudy': False, 'crumpled': False, 'dichotomy': False, 'filby': False, 'enact': False, 'yessssss': False, 'wiping': False, 'cowrote': False, 'baron': False, 'oscillation': False, 'cooks': False, 'wooed': False, 'impressionistic': False, 'generically': False, 'relies': False, 'marred': False, 'polymorphously': False, 'sober': False, 'regretting': False, 'irish': False, 'dc': False, 'fleetingly': False, 'reclining': False, 'sitter': False, 'willed': False, 'dilapidated': False, 'presences': False, 'succeed': False, 'ridulous': False, 'restricted': False, 'extended': False, 'policemen': False, 'whew': False, 'labelling': False, 'downturn': False, 'reminders': False, 'climber': False, 'klass': False, 'rely': False, 'misadvertised': False, 'paradiso': False, 'abbott': False, 'renegades': False, 'tuttle': False, 'nch': False, 'wink': False, 'gwar': False, 'starsystem': False, 'blue': False, 'bourgeois': False, 'froth': False, 'desires': False, 'ulimate': False, 'quoc': False, 'blackness': False, 'chaz': False, 'klaus': False, 'worsening': False, 'accustomed': False, 'rogers': False, 'stagner': False, 'gunfighter': False, 'kinks': False, 'attractiveness': False, 'clamp': False, 'contraception': False, 'mascara': False, 'concentrating': False, 'reclaims': False, 'shaffer': False, 'wilds': False, 'ellis': False, 'pelvic': False, 'tucci': False, 'remedial': False, 'gough': False, 'titles': False, 'regularly': False, '_everybody_': False, 'keeley': False, 'stereotypes': False, 'braided': False, 'mistakingly': False, 'confirmation': False, 'kraftwerk': False, 'androgonys': False, 'noisily': False, 'harries': False, 'blas': False, 'caton': False, 'overachieving': False, 'langenkamp': False, 'scratching': False, 'telegraphing': False, 'influence': False, 'heartbreakers': False, 'regarded': False, 'concludes': False, 'refreshed': False, 'wan': False, 'plagues': False, 'soundstage': False, 'participants': False, 'blairwitch': False, 'contemplative': False, 'spies': False, 'stivaletti': False, 'recent': False, 'childs': False, 'disturbingly': False, 'valids': False, 'hughes': False, 'slumping': False, 'nico': False, 'setbacks': False, 'snickered': False, 'broyles': False, 'ooze': False, 'bedsprings': False, 'implanting': False, 'concurs': False, 'breath': False, 'aloofness': False, 'prizefighter': False, 'unsexy': False, 'troop': False, 'sac': False, 'stem': False, 'imbecilic': False, 'manifestation': False, 'uhhhhhm': False, 'singin': False, 'incited': False, 'canada': False, 'magoo': False, 'shrimp': False, 'knife': False, 'sabbato': False, 'vindicated': False, 'resting': False, 'medicine': False, 'eastwood': False, 'messenger': False, 'knifepoint': False, 'jimmie': False, 'reprises': False, 'registering': False, 'woodsboro': False, 'amen': False, 'shucking': False, 'bedazzled': False, 'waging': False, 'hearts': False, 'uninfected': False, 'confidante': False, 'shameful': False, 'giddiness': False, 'hatchett': False, 'scroll': False, 'governed': False, 'cams': False, 'torments': False, 'kinsella': False, 'negating': False, 'analogy': False, 'files': False, 'dent': False, 'utility': False, 'dans': False, 'sexist': False, 'grinch': False, 'constipation': False, 'timer': False, 'kio': False, 'pov': False, '_moby': False, 'ghettoized': False, 'onshore': False, 'humanly': False, 'bulgaria': False, 'else': False, 'punched': False, 'connolly': False, 'sabotage': False, 'smallish': False, 'sympathy': False, 'pistella': False, 'erik': False, 'doe': False, 'fluent': False, 'preachers': False, 'equaling': False, 'thusly': False, 'flatulent': False, 'juan': False, 'ghost': False, 'lebowski': False, 'crowing': False, 'enhancing': False, 'klutzy': False, 'middleton': False, 'auspicious': False, 'revel': False, 'jousting': False, 'santi': False, 'penchent': False, 'nonense': False, 'voila': False, 'herrings': False, 'khanijian': False, 'tailored': False, 'ponder': False, 'smokescreen': False, 'limit': False, 'phlegmming': False, 'networks': False, 'liam': False, 'definable': False, 'slim': False, 'eaters': False, 'em': False, 'empirical': False, 'casino': False, 'zeit': False, 'paint': False, 'sheepishly': False, 'falsetto': False, 'spits': False, 'barbs': False, 'discovery': False, 'sant': False, 'pumpkin': False, '35mm': False, 'affections': False, 'deciphered': False, 'equalizes': False, 'quot': False, 'safecracker': False, 'sync': False, 'paradoxes': False, 'coin': False, 'rables': False, 'hankering': False, 'fenced': False, 'whaley': False, 'careen': False, 'overscore': False, 'soy': False, 'joyfully': False, 'reunions': False, 'basketballs': False, '104': False, 'centeredness': False, 'colo': False, 'miscarrying': False, 'limp': False, 'helix': False, 'afternoons': False, 'joaquin': False, 'counterfeiters': False, 'firstly': False, 'advocating': False, 'inexperienced': False, 'bra': False, 'fingerprints': False, 'marvel': False, 'caligari': False, 'musical': False, 'troublesome': False, '_melvin': False, 'likeable': False, 'unfortunate': False, 'fabulously': False, 'linkage': False, 'macaulay': False, '_patlabor_': False, 'redd': False, 'droagon': False, 'cornflake': False, 'realization': False, 'gossip': False, 'virulent': False, 'pleasingly': False, 'groomed': False, 'mankiewicz': False, 'degrading': False, 'british': False, 'weisz': False, 'hep': False, 'showbiz': False, 'bluejeans': False, 'enlightened': False, 'embroidered': False, 'certain': False, 'reptilian': False, 'decipherer': False, 'begining': False, 'refuting': False, 'savagely': False, 'producers': False, 'wry': False, 'die': False, 'spielbergs': False, 'delightfully': False, 'restrained': False, 'sheng': False, 'distillation': False, 'cept': False, 'loni': False, 'feurerstein': False, 'pronged': False, 'makeovers': False, 'pacifier': False, 'endo': False, 'software': False, 'exhausted': False, 'back': True, 'deride': False, 'apoplectic': False, 'portly': False, 'ditch': False, 'cling': False, 'parenthetically': False, 'swapping': False, 'annoyed': False, 'ramp': False, 'paradoxical': False, 'resounding': False, 'skitters': False, 'masterminds': False, 'norville': False, 'spetters': False, 'romance': False, 'scold': False, 'culminate': False, 'naif': False, 'ineptness': False, 'deepened': False, 'existed': False, 'concentrate': False, 'postapocalyptic': False, 'perking': False, 'discrepancies': False, 'artful': False, 'institutes': False, 'orleans': False, 'tupac': False, 'lifestyles': False, 'extinguishing': False, 'fibber': False, 'weed': False, 'splendid': False, 'heighten': False, 'rational': False, 'glebas': False, 'sloppily': False, 'fiend': False, 'fretting': False, 'dovey': False, 'foppish': False, 'widescreen': False, 'underscoring': False, 'comprise': False, 'pivot': False, 'prob': False, 'paternal': False, 'settings': False, 'calvin': False, 'asteroids': False, 'unimportant': False, 'antiheroes': False, 'transcendental': False, 'amazon': False, 'stepfather': False, 'mobbed': False, 'dean': False, 'hammerbottom': False, 'scaffold': False, 'jetset': False, 'tearing': False, 'ravens': False, 'bennett': False, 'professory': False, 'godawa': False, 'mychael': False, 'renault': False, 'dah': False, 'presides': False, 'wielded': False, 'magdelene': False, 'duking': False, 'clean': False, 'magic_': False, 'hilfiger': False, 'roadside': False, 'sock': False, 'solider': False, 'threw': False, '_shaft': False, 'conventionalism': False, 'opium': False, 'lancaster': False, 'amuse': False, 'burnell': False, 'imagination': False, 'hab': False, 'irradiation': False, 'sources': False, 'keynote': False, 'coed': False, 'polluted': False, 'udall': False, 'changin': False, 'pyre': False, 'bidder': False, '939': False, 'negligence': False, 'adored': False, 'shags': False, 'atone': False, 'softball': False, 'ducks': False, 'restrict': False, 'buzz': False, 'sadists': False, 'jeesh': False, 'weekends': False, 'sandrine': False, 'playing': True, 'blinded': False, 'mansell': False, 'battlefields': False, 'barnfield': False, 'felliniesque': False, 'nookey': False, 'shill': False, 'feathered': False, 'exaggerating': False, 'hubley': False, 'silhouette': False, 'violate': False, 'boo': False, 'commiserate': False, 'smirkiest': False, 'apprise': False, 'reappears': False, 'aches': False, 'underappreciated': False, 'trump': False, 'gasping': False, 'ferraris': False, 'unwise': False, 'afterschool': False, '105': False, 'dowd': False, 'heady': False, 'healthy': False, 'mickelberry': False, 'compassion': False, 'yau': False, 'monosyllables': False, 'visits': False, 'tenement': False, 'garziano': False, 'chronicle': False, 'diddley': False, 'scene': False, 'panthers': False, 'scriptiing': False, 'rallied': False, 'greets': False, 'swiping': False, 'eleveate': False, 'tiptoe': False, 'believers': False, 'authoritarianism': False, 'uluru': False, 'degrades': False, 'anew': False, 'surfeit': False, 'scrubs': False, 'rainman': False, 'passes': False, 'connives': False, 'kip': False, 'brood': False, 'visiting': False, 'scots': False, 'entei': False, 'endemic': False, 'doens': False, 'thunderstorms': False, 'laughton': False, 'unflashy': False, 'ushers': False, 'evolves': False, 'pears': False, 'innacurate': False, 'shauny': False, 'fantasizing': False, 'uneasily': False, 'trekkie': False, 'twirl': False, 'harland': False, '_star': False, 'amulet': False, 'venus': False, 'beiderman': False, 'determines': False, 'performences': False, 'curb': False, 'winde': False, 'antz': False, 'brightness': False, 'traders': False, 'mcguigan': False, 'gbatokai': False, 'merriment': False, 'glide': False, 'voe': False, 'legend_': False, 'whispery': False, 'screed': False, 'lunch': False, 'voyages': False, 'confidential': False, 'diehard': False, 'schultz': False, 'neary': False, 'monroth': False, 'lobbyists': False, 'geographical': False, 'lundy': False, 'gaz': False, 'adorning': False, 'greg': False, 'dues': False, 'bobby': False, 'mufasa': False, 'firmer': False, 'burnhams': False, 'leguiziamo': False, 'remarkably': False, 'runs': False, 'protestor': False, 'romanov': False, 'eomann': False, 'carat': False, 'strapless': False, 'sameness': False, 'travel': False, 'gravely': False, 'lingo': False, 'devolve': False, 'mahal': False, 'protected': False, 'slavic': False, 'titanium': False, 'festive': False, 'stopover': False, 'lucid': False, 'appearence': False}\n"
     ]
    }
   ],
   "source": [
    "print(features)"
   ]
  },
  {
   "cell_type": "code",
   "execution_count": 41,
   "metadata": {},
   "outputs": [],
   "source": [
    "# for all documents\n",
    "featuresets = [(find_features(rev), category) for (rev, category) in documents]\n"
   ]
  },
  {
   "cell_type": "code",
   "execution_count": 42,
   "metadata": {},
   "outputs": [],
   "source": [
    "# train-test split of featureset using sklearn\n",
    "from sklearn import model_selection\n",
    "# define a seed for reproducibility\n",
    "seed = 1\n",
    "\n",
    "# spliting dataset\n",
    "train, test = model_selection.train_test_split(featuresets, test_size = 0.4, random_state=seed)"
   ]
  },
  {
   "cell_type": "code",
   "execution_count": 43,
   "metadata": {},
   "outputs": [
    {
     "name": "stdout",
     "output_type": "stream",
     "text": [
      "1200\n",
      "800\n"
     ]
    }
   ],
   "source": [
    "print(len(train))\n",
    "print(len(test))"
   ]
  },
  {
   "cell_type": "code",
   "execution_count": 44,
   "metadata": {},
   "outputs": [],
   "source": [
    "# using sklearn algorithms in NLTK\n",
    "from nltk.classify.scikitlearn import  SklearnClassifier\n",
    "from sklearn.svm import SVC"
   ]
  },
  {
   "cell_type": "code",
   "execution_count": 45,
   "metadata": {},
   "outputs": [],
   "source": [
    "model = SklearnClassifier(SVC(kernel = 'linear'))"
   ]
  },
  {
   "cell_type": "code",
   "execution_count": 46,
   "metadata": {},
   "outputs": [
    {
     "data": {
      "text/plain": [
       "<SklearnClassifier(SVC(C=1.0, cache_size=200, class_weight=None, coef0=0.0,\n",
       "  decision_function_shape='ovr', degree=3, gamma='auto_deprecated',\n",
       "  kernel='linear', max_iter=-1, probability=False, random_state=None,\n",
       "  shrinking=True, tol=0.001, verbose=False))>"
      ]
     },
     "execution_count": 46,
     "metadata": {},
     "output_type": "execute_result"
    }
   ],
   "source": [
    "# training \n",
    "model.train(train)"
   ]
  },
  {
   "cell_type": "code",
   "execution_count": 47,
   "metadata": {},
   "outputs": [
    {
     "name": "stdout",
     "output_type": "stream",
     "text": [
      "SVC Accuracy: 0.6475\n"
     ]
    }
   ],
   "source": [
    "# testing \n",
    "accuracy = nltk.classify.accuracy(model, test)\n",
    "print('SVC Accuracy: {}'.format(accuracy))"
   ]
  }
 ],
 "metadata": {
  "kernelspec": {
   "display_name": "Python 3",
   "language": "python",
   "name": "python3"
  },
  "language_info": {
   "codemirror_mode": {
    "name": "ipython",
    "version": 3
   },
   "file_extension": ".py",
   "mimetype": "text/x-python",
   "name": "python",
   "nbconvert_exporter": "python",
   "pygments_lexer": "ipython3",
   "version": "3.5.6"
  }
 },
 "nbformat": 4,
 "nbformat_minor": 2
}
