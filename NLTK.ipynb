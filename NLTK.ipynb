{
 "cells": [
  {
   "cell_type": "code",
   "execution_count": 54,
   "metadata": {},
   "outputs": [],
   "source": [
    "import nltk"
   ]
  },
  {
   "cell_type": "code",
   "execution_count": 55,
   "metadata": {},
   "outputs": [],
   "source": [
    "import sys\n",
    "import sklearn"
   ]
  },
  {
   "cell_type": "code",
   "execution_count": 56,
   "metadata": {},
   "outputs": [
    {
     "name": "stdout",
     "output_type": "stream",
     "text": [
      "Python : 3.5.6 |Anaconda custom (64-bit)| (default, Aug 26 2018, 16:05:27) [MSC v.1900 64 bit (AMD64)]\n",
      "nltk : 3.3\n",
      "sklearn : 0.20.0\n"
     ]
    }
   ],
   "source": [
    "print('Python : {}'.format(sys.version))\n",
    "print('nltk : {}'.format(nltk.__version__))\n",
    "print('sklearn : {}'.format(sklearn.__version__))"
   ]
  },
  {
   "cell_type": "markdown",
   "metadata": {},
   "source": [
    "## Sentence and Word tokenizing"
   ]
  },
  {
   "cell_type": "code",
   "execution_count": 57,
   "metadata": {},
   "outputs": [
    {
     "name": "stdout",
     "output_type": "stream",
     "text": [
      "['Hii there !', 'this is ISHANK TYAGI and I am Awesome.', 'PE PA PA PARAPPA']\n"
     ]
    }
   ],
   "source": [
    "from nltk.tokenize import sent_tokenize, word_tokenize\n",
    "text = 'Hii there ! this is ISHANK TYAGI and I am Awesome. PE PA PA PARAPPA  '\n",
    "print(sent_tokenize(text))"
   ]
  },
  {
   "cell_type": "code",
   "execution_count": 58,
   "metadata": {},
   "outputs": [
    {
     "name": "stdout",
     "output_type": "stream",
     "text": [
      "['Hii', 'there', '!', 'this', 'is', 'ISHANK', 'TYAGI', 'and', 'I', 'am', 'Awesome', '.', 'PE', 'PA', 'PA', 'PARAPPA']\n"
     ]
    }
   ],
   "source": [
    "print(word_tokenize(text))"
   ]
  },
  {
   "cell_type": "markdown",
   "metadata": {},
   "source": [
    "## Removing stopwords"
   ]
  },
  {
   "cell_type": "code",
   "execution_count": 59,
   "metadata": {},
   "outputs": [
    {
     "name": "stdout",
     "output_type": "stream",
     "text": [
      "{'be', 'doesn', 'was', 'those', 'below', 'haven', 'but', 'not', 'needn', \"isn't\", 'him', 'few', \"mightn't\", 'she', 'their', 'doing', 'mustn', 'aren', \"you've\", 'because', 'there', \"hasn't\", 'than', 'won', 'why', 'should', 'o', 'down', 'so', 'my', 'is', 'they', 'mightn', 'them', 'having', 'above', 'after', 'does', \"don't\", 'have', 'once', 'and', 'at', 'an', 'now', 'ma', 'shouldn', \"should've\", \"shouldn't\", 'very', 'whom', 'while', 'ours', 'which', 'on', \"you'll\", 'it', 'has', 'here', 'his', 'more', 'from', \"weren't\", 'themselves', 'isn', 'a', 'of', 'll', 'am', \"she's\", \"hadn't\", 'shan', 'some', 'in', 'her', \"couldn't\", \"wasn't\", 'this', 'been', 'i', 'me', 'do', 'hadn', 'himself', 'by', \"aren't\", 'most', 'can', 'wasn', 'we', 'during', 'only', \"needn't\", 'don', 'these', 'with', \"haven't\", 'each', 'about', 'yourself', 'what', \"it's\", 'he', \"mustn't\", \"wouldn't\", 'against', 'into', 'no', \"that'll\", 'when', 'between', 'd', 'you', 'under', 'if', 'ourselves', 'too', 'herself', 'who', 'itself', 'the', \"you'd\", 'as', \"doesn't\", 't', 'hers', 'both', 'hasn', 'ain', 'wouldn', 'just', 'had', 'further', 'will', 'for', 'same', 'or', 'over', 'that', 'theirs', 'again', 'then', 'such', 'nor', 've', 'its', 'all', \"won't\", 'were', 'up', 'didn', 'm', 's', 're', 'did', 'other', 'own', 'our', 'before', 'how', 'through', 'yours', \"you're\", 'where', 'any', 'weren', \"didn't\", 'to', 'are', 'being', \"shan't\", 'y', 'your', 'yourselves', 'out', 'myself', 'couldn', 'until', 'off'}\n"
     ]
    }
   ],
   "source": [
    "# removing stop words -useless data\n",
    "from nltk.corpus import stopwords\n",
    "print(set(stopwords.words('english')))"
   ]
  },
  {
   "cell_type": "code",
   "execution_count": 60,
   "metadata": {},
   "outputs": [],
   "source": [
    "example = 'This is some sample text showing stopword filtration'\n",
    "stop_words = set(stopwords.words('english'))\n",
    "word_tokens = word_tokenize(example)\n",
    "filtered_tokens = [w for w in word_tokens if not w in stop_words]"
   ]
  },
  {
   "cell_type": "code",
   "execution_count": 61,
   "metadata": {},
   "outputs": [
    {
     "name": "stdout",
     "output_type": "stream",
     "text": [
      "['This', 'sample', 'text', 'showing', 'stopword', 'filtration']\n"
     ]
    }
   ],
   "source": [
    "print(filtered_tokens)"
   ]
  },
  {
   "cell_type": "markdown",
   "metadata": {},
   "source": [
    "## Stemming"
   ]
  },
  {
   "cell_type": "code",
   "execution_count": 62,
   "metadata": {},
   "outputs": [],
   "source": [
    "# Stemming words with NLTK -- normslizing\n",
    "from nltk.stem import PorterStemmer\n",
    "ps = PorterStemmer()\n",
    "example_words = ['ride', 'rider', 'riding', 'rides']\n",
    "stems = [ps.stem(w) for w in example_words ]"
   ]
  },
  {
   "cell_type": "code",
   "execution_count": 63,
   "metadata": {},
   "outputs": [
    {
     "name": "stdout",
     "output_type": "stream",
     "text": [
      "['ride', 'rider', 'ride', 'ride']\n"
     ]
    }
   ],
   "source": [
    "print(stems)"
   ]
  },
  {
   "cell_type": "code",
   "execution_count": 64,
   "metadata": {},
   "outputs": [
    {
     "name": "stdout",
     "output_type": "stream",
     "text": [
      "['when', 'rider', 'are', 'ride', 'their', 'hors', ',', 'they', 'often', 'think', 'of', 'how', 'cowboy', 'rode', 'hors']\n"
     ]
    }
   ],
   "source": [
    "# Stemming an entire sentence\n",
    "new_text = 'When riders are riding their horses, they often think of how cowboys rode horses'\n",
    "words = word_tokenize(new_text)\n",
    "stem_words = [ps.stem(w) for w in words]\n",
    "print(stem_words)\n"
   ]
  },
  {
   "cell_type": "markdown",
   "metadata": {},
   "source": [
    "## POS"
   ]
  },
  {
   "cell_type": "code",
   "execution_count": 65,
   "metadata": {},
   "outputs": [
    {
     "name": "stdout",
     "output_type": "stream",
     "text": [
      "Universal Declaration of Human Rights\n",
      "Preamble\n",
      "Whereas recognition of the inherent dignity and of the equal and inalienable rights of all members of the human family is the foundation of freedom, justice and peace in the world, \n",
      "\n",
      "Whereas disregard and contempt for human rights have resulted in barbarous acts which have outraged the conscience of mankind, and the advent of a world in which human beings shall enjoy freedom of speech and belief and freedom from fear and want has been proclaimed as the highest aspiration of the common people, \n",
      "\n",
      "Whereas it is essential, if man is not to be compelled to have recourse, as a last resort, to rebellion against tyranny and oppression, that human rights should be protected by the rule of law, \n",
      "\n",
      "Whereas it is essential to promote the development of friendly relations between nations, \n",
      "\n",
      "Whereas the peoples of the United Nations have in the Charter reaffirmed their faith in fundamental human rights, in the dignity and worth of the human person and in the equal rights of men and women and have determined to promote social progress and better standards of life in larger freedom, \n",
      "\n",
      "Whereas Member States have pledged themselves to achieve, in cooperation with the United Nations, the promotion of universal respect for and observance of human rights and fundamental freedoms, \n",
      "\n",
      "Whereas a common understanding of these rights and freedoms is of the greatest importance for the full realization of this pledge, \n",
      "\n",
      "Now, therefore, \n",
      "\n",
      "The General Assembly, \n",
      "\n",
      "Proclaims this Universal Declaration of Human Rights as a common standard of achievement for all peoples and all nations, to the end that every individual and every organ of society, keeping this Declaration constantly in mind, shall strive by teaching and education to promote respect for these rights and freedoms and by progressive measures, national and international, to secure their universal and effective recognition and observance, both among the peoples of Member States themselves and among the peoples of territories under their jurisdiction. \n",
      "\n",
      "Article 1 \n",
      "All human beings are born free and equal in dignity and rights. They are endowed with reason and conscience and should act towards one another in a spirit of brotherhood. \n",
      "\n",
      "Article 2 \n",
      "Everyone is entitled to all the rights and freedoms set forth in this Declaration, without distinction of any kind, such as race, colour, sex, language, religion, political or other opinion, national or social origin, property, birth or other status. \n",
      "\n",
      "Furthermore, no distinction shall be made on the basis of the political, jurisdictional or international status of the country or territory to which a person belongs, whether it be independent, trust, non-self-governing or under any other limitation of sovereignty. \n",
      "\n",
      "Article 3 \n",
      "Everyone has the right to life, liberty and security of person. \n",
      "\n",
      "Article 4 \n",
      "No one shall be held in slavery or servitude; slavery and the slave trade shall be prohibited in all their forms. \n",
      "\n",
      "Article 5 \n",
      "No one shall be subjected to torture or to cruel, inhuman or degrading treatment or punishment. \n",
      "\n",
      "Article 6 \n",
      "Everyone has the right to recognition everywhere as a person before the law. \n",
      "\n",
      "Article 7 \n",
      "All are equal before the law and are entitled without any discrimination to equal protection of the law. All are entitled to equal protection against any discrimination in violation of this Declaration and against any incitement to such discrimination. \n",
      "\n",
      "Article 8 \n",
      "Everyone has the right to an effective remedy by the competent national tribunals for acts violating the fundamental rights granted him by the constitution or by law. \n",
      "\n",
      "Article 9 \n",
      "No one shall be subjected to arbitrary arrest, detention or exile. \n",
      "\n",
      "Article 10 \n",
      "Everyone is entitled in full equality to a fair and public hearing by an independent and impartial tribunal, in the determination of his rights and obligations and of any criminal charge against him. \n",
      "\n",
      "Article 11 \n",
      "Everyone charged with a penal offence has the right to be presumed innocent until proved guilty according to law in a public trial at which he has had all the guarantees necessary for his defence. \n",
      "No one shall be held guilty of any penal offence on account of any act or omission which did not constitute a penal offence, under national or international law, at the time when it was committed. Nor shall a heavier penalty be imposed than the one that was applicable at the time the penal offence was committed. \n",
      "Article 12 \n",
      "No one shall be subjected to arbitrary interference with his privacy, family, home or correspondence, nor to attacks upon his honour and reputation. Everyone has the right to the protection of the law against such interference or attacks. \n",
      "\n",
      "Article 13 \n",
      "Everyone has the right to freedom of movement and residence within the borders of each State. \n",
      "Everyone has the right to leave any country, including his own, and to return to his country. \n",
      "Article 14 \n",
      "Everyone has the right to seek and to enjoy in other countries asylum from persecution. \n",
      "This right may not be invoked in the case of prosecutions genuinely arising from non-political crimes or from acts contrary to the purposes and principles of the United Nations. \n",
      "Article 15 \n",
      "Everyone has the right to a nationality. \n",
      "No one shall be arbitrarily deprived of his nationality nor denied the right to change his nationality. \n",
      "Article 16 \n",
      "Men and women of full age, without any limitation due to race, nationality or religion, have the right to marry and to found a family. They are entitled to equal rights as to marriage, during marriage and at its dissolution. \n",
      "Marriage shall be entered into only with the free and full consent of the intending spouses. \n",
      "The family is the natural and fundamental group unit of society and is entitled to protection by society and the State. \n",
      "Article 17 \n",
      "Everyone has the right to own property alone as well as in association with others. \n",
      "No one shall be arbitrarily deprived of his property. \n",
      "Article 18 \n",
      "Everyone has the right to freedom of thought, conscience and religion; this right includes freedom to change his religion or belief, and freedom, either alone or in community with others and in public or private, to manifest his religion or belief in teaching, practice, worship and observance. \n",
      "\n",
      "Article 19 \n",
      "Everyone has the right to freedom of opinion and expression; this right includes freedom to hold opinions without interference and to seek, receive and impart information and ideas through any media and regardless of frontiers. \n",
      "\n",
      "Article 20 \n",
      "Everyone has the right to freedom of peaceful assembly and association. \n",
      "No one may be compelled to belong to an association. \n",
      "Article 21 \n",
      "Everyone has the right to take part in the government of his country, directly or through freely chosen representatives. \n",
      "Everyone has the right to equal access to public service in his country. \n",
      "The will of the people shall be the basis of the authority of government; this will shall be expressed in periodic and genuine elections which shall be by universal and equal suffrage and shall be held by secret vote or by equivalent free voting procedures. \n",
      "Article 22 \n",
      "Everyone, as a member of society, has the right to social security and is entitled to realization, through national effort and international co-operation and in accordance with the organization and resources of each State, of the economic, social and cultural rights indispensable for his dignity and the free development of his personality. \n",
      "\n",
      "Article 23 \n",
      "Everyone has the right to work, to free choice of employment, to just and favourable conditions of work and to protection against unemployment. \n",
      "Everyone, without any discrimination, has the right to equal pay for equal work. \n",
      "Everyone who works has the right to just and favourable remuneration ensuring for himself and his family an existence worthy of human dignity, and supplemented, if necessary, by other means of social protection. \n",
      "Everyone has the right to form and to join trade unions for the protection of his interests. \n",
      "Article 24 \n",
      "Everyone has the right to rest and leisure, including reasonable limitation of working hours and periodic holidays with pay. \n",
      "\n",
      "Article 25 \n",
      "Everyone has the right to a standard of living adequate for the health and well-being of himself and of his family, including food, clothing, housing and medical care and necessary social services, and the right to security in the event of unemployment, sickness, disability, widowhood, old age or other lack of livelihood in circumstances beyond his control. \n",
      "Motherhood and childhood are entitled to special care and assistance. All children, whether born in or out of wedlock, shall enjoy the same social protection. \n",
      "Article 26 \n",
      "Everyone has the right to education. Education shall be free, at least in the elementary and fundamental stages. Elementary education shall be compulsory. Technical and professional education shall be made generally available and higher education shall be equally accessible to all on the basis of merit. \n",
      "Education shall be directed to the full development of the human personality and to the strengthening of respect for human rights and fundamental freedoms. It shall promote understanding, tolerance and friendship among all nations, racial or religious groups, and shall further the activities of the United Nations for the maintenance of peace. \n",
      "Parents have a prior right to choose the kind of education that shall be given to their children. \n",
      "Article 27 \n",
      "Everyone has the right freely to participate in the cultural life of the community, to enjoy the arts and to share in scientific advancement and its benefits. \n",
      "Everyone has the right to the protection of the moral and material interests resulting from any scientific, literary or artistic production of which he is the author. \n",
      "Article 28 \n",
      "Everyone is entitled to a social and international order in which the rights and freedoms set forth in this Declaration can be fully realized. \n",
      "\n",
      "Article 29 \n",
      "Everyone has duties to the community in which alone th\n"
     ]
    }
   ],
   "source": [
    "# Part of Speech Tagging\n",
    "from nltk.corpus import udhr\n",
    "print(udhr.raw('English-Latin1'))"
   ]
  },
  {
   "cell_type": "markdown",
   "metadata": {},
   "source": [
    "## Loading text from corpora"
   ]
  },
  {
   "cell_type": "code",
   "execution_count": 66,
   "metadata": {},
   "outputs": [],
   "source": [
    "from nltk.corpus import state_union\n",
    "from nltk.tokenize import PunktSentenceTokenizer\n",
    "\n",
    "train_text = state_union.raw('2005-GWBush.txt')\n",
    "sample_text = state_union.raw('2006-GWBush.txt')"
   ]
  },
  {
   "cell_type": "markdown",
   "metadata": {},
   "source": [
    "## Training Senctence Tokenizer "
   ]
  },
  {
   "cell_type": "code",
   "execution_count": 67,
   "metadata": {},
   "outputs": [],
   "source": [
    "# training of PunktSentenceTokenizer\n",
    "custom_sent_tokenizer = PunktSentenceTokenizer(train_text)"
   ]
  },
  {
   "cell_type": "code",
   "execution_count": 68,
   "metadata": {},
   "outputs": [],
   "source": [
    "# using custom tokenizer to tokenize the text\n",
    "tokenized = custom_sent_tokenizer.tokenize(sample_text)"
   ]
  },
  {
   "cell_type": "code",
   "execution_count": 69,
   "metadata": {},
   "outputs": [
    {
     "name": "stdout",
     "output_type": "stream",
     "text": [
      "[\"PRESIDENT GEORGE W. BUSH'S ADDRESS BEFORE A JOINT SESSION OF THE CONGRESS ON THE STATE OF THE UNION\\n \\nJanuary 31, 2006\\n\\nTHE PRESIDENT: Thank you all.\", 'Mr. Speaker, Vice President Cheney, members of Congress, members of the Supreme Court and diplomatic corps, distinguished guests, and fellow citizens: Today our nation lost a beloved, graceful, courageous woman who called America to its founding ideals and carried on a noble dream.', 'Tonight we are comforted by the hope of a glad reunion with the husband who was taken so long ago, and we are grateful for the good life of Coretta Scott King.', '(Applause.)', 'President George W. Bush reacts to applause during his State of the Union Address at the Capitol, Tuesday, Jan.', '31, 2006.', \"White House photo by Eric DraperEvery time I'm invited to this rostrum, I'm humbled by the privilege, and mindful of the history we've seen together.\", 'We have gathered under this Capitol dome in moments of national mourning and national achievement.', 'We have served America through one of the most consequential periods of our history -- and it has been my honor to serve with you.', 'In a system of two parties, two chambers, and two elected branches, there will always be differences and debate.', 'But even tough debates can be conducted in a civil tone, and our differences cannot be allowed to harden into anger.', 'To confront the great issues before us, we must act in a spirit of goodwill and respect for one another -- and I will do my part.', 'Tonight the state of our Union is strong -- and together we will make it stronger.', '(Applause.)', 'In this decisive year, you and I will make choices that determine both the future and the character of our country.', 'We will choose to act confidently in pursuing the enemies of freedom -- or retreat from our duties in the hope of an easier life.', 'We will choose to build our prosperity by leading the world economy -- or shut ourselves off from trade and opportunity.', 'In a complex and challenging time, the road of isolationism and protectionism may seem broad and inviting -- yet it ends in danger and decline.', 'The only way to protect our people, the only way to secure the peace, the only way to control our destiny is by our leadership -- so the United States of America will continue to lead.', '(Applause.)', 'Abroad, our nation is committed to an historic, long-term goal -- we seek the end of tyranny in our world.', 'Some dismiss that goal as misguided idealism.', 'In reality, the future security of America depends on it.', 'On September the 11th, 2001, we found that problems originating in a failed and oppressive state 7,000 miles away could bring murder and destruction to our country.', 'Dictatorships shelter terrorists, and feed resentment and radicalism, and seek weapons of mass destruction.', 'Democracies replace resentment with hope, respect the rights of their citizens and their neighbors, and join the fight against terror.', \"Every step toward freedom in the world makes our country safer -- so we will act boldly in freedom's cause.\", '(Applause.)', 'Far from being a hopeless dream, the advance of freedom is the great story of our time.', 'In 1945, there were about two dozen lonely democracies in the world.', 'Today, there are 122.', \"And we're writing a new chapter in the story of self-government -- with women lining up to vote in Afghanistan, and millions of Iraqis marking their liberty with purple ink, and men and women from Lebanon to Egypt debating the rights of individuals and the necessity of freedom.\", 'At the start of 2006, more than half the people of our world live in democratic nations.', 'And we do not forget the other half -- in places like Syria and Burma, Zimbabwe, North Korea, and Iran -- because the demands of justice, and the peace of this world, require their freedom, as well.', '(Applause.)', 'President George W. Bush delivers his State of the Union Address at the Capitol, Tuesday, Jan.', '31, 2006.', 'White House photo by Eric Draper No one can deny the success of freedom, but some men rage and fight against it.', 'And one of the main sources of reaction and opposition is radical Islam -- the perversion by a few of a noble faith into an ideology of terror and death.', 'Terrorists like bin Laden are serious about mass murder -- and all of us must take their declared intentions seriously.', 'They seek to impose a heartless system of totalitarian control throughout the Middle East, and arm themselves with weapons of mass murder.', 'Their aim is to seize power in Iraq, and use it as a safe haven to launch attacks against America and the world.', 'Lacking the military strength to challenge us directly, the terrorists have chosen the weapon of fear.', 'When they murder children at a school in Beslan, or blow up commuters in London, or behead a bound captive, the terrorists hope these horrors will break our will, allowing the violent to inherit the Earth.', 'But they have miscalculated: We love our freedom, and we will fight to keep it.', '(Applause.)', 'In a time of testing, we cannot find security by abandoning our commitments and retreating within our borders.', 'If we were to leave these vicious attackers alone, they would not leave us alone.', 'They would simply move the battlefield to our own shores.', 'There is no peace in retreat.', 'And there is no honor in retreat.', 'By allowing radical Islam to work its will -- by leaving an assaulted world to fend for itself -- we would signal to all that we no longer believe in our own ideals, or even in our own courage.', 'But our enemies and our friends can be certain: The United States will not retreat from the world, and we will never surrender to evil.', '(Applause.)', 'America rejects the false comfort of isolationism.', 'We are the nation that saved liberty in Europe, and liberated death camps, and helped raise up democracies, and faced down an evil empire.', 'Once again, we accept the call of history to deliver the oppressed and move this world toward peace.', 'We remain on the offensive against terror networks.', 'We have killed or captured many of their leaders -- and for the others, their day will come.', 'President George W. Bush greets members of Congress after his State of the Union Address at the Capitol, Tuesday, Jan.', '31, 2006.', 'White House photo by Eric Draper We remain on the offensive in Afghanistan, where a fine President and a National Assembly are fighting terror while building the institutions of a new democracy.', \"We're on the offensive in Iraq, with a clear plan for victory.\", \"First, we're helping Iraqis build an inclusive government, so that old resentments will be eased and the insurgency will be marginalized.\", \"Second, we're continuing reconstruction efforts, and helping the Iraqi government to fight corruption and build a modern economy, so all Iraqis can experience the benefits of freedom.\", \"And, third, we're striking terrorist targets while we train Iraqi forces that are increasingly capable of defeating the enemy.\", 'Iraqis are showing their courage every day, and we are proud to be their allies in the cause of freedom.', '(Applause.)', 'Our work in Iraq is difficult because our enemy is brutal.', 'But that brutality has not stopped the dramatic progress of a new democracy.', 'In less than three years, the nation has gone from dictatorship to liberation, to sovereignty, to a constitution, to national elections.', 'At the same time, our coalition has been relentless in shutting off terrorist infiltration, clearing out insurgent strongholds, and turning over territory to Iraqi security forces.', 'I am confident in our plan for victory; I am confident in the will of the Iraqi people; I am confident in the skill and spirit of our military.', 'Fellow citizens, we are in this fight to win, and we are winning.', '(Applause.)', 'The road of victory is the road that will take our troops home.', 'As we make progress on the ground, and Iraqi forces increasingly take the lead, we should be able to further decrease our troop levels -- but those decisions will be made by our military commanders, not by politicians in Washington, D.C.', '(Applause.)', 'Our coalition has learned from our experience in Iraq.', \"We've adjusted our military tactics and changed our approach to reconstruction.\", 'Along the way, we have benefitted from responsible criticism and counsel offered by members of Congress of both parties.', 'In the coming year, I will continue to reach out and seek your good advice.', 'Yet, there is a difference between responsible criticism that aims for success, and defeatism that refuses to acknowledge anything but failure.', '(Applause.)', 'Hindsight alone is not wisdom, and second-guessing is not a strategy.', '(Applause.)', 'With so much in the balance, those of us in public office have a duty to speak with candor.', 'A sudden withdrawal of our forces from Iraq would abandon our Iraqi allies to death and prison, would put men like bin Laden and Zarqawi in charge of a strategic country, and show that a pledge from America means little.', 'Members of Congress, however we feel about the decisions and debates of the past, our nation has only one option: We must keep our word, defeat our enemies, and stand behind the American military in this vital mission.', '(Applause.)', 'Laura Bush is applauded as she is introduced Tuesday evening, Jan.', '31, 2006 during the State of the Union Address at United States Capitol in Washington.', 'White House photo by Eric Draper Our men and women in uniform are making sacrifices -- and showing a sense of duty stronger than all fear.', \"They know what it's like to fight house to house in a maze of streets, to wear heavy gear in the desert heat, to see a comrade killed by a roadside bomb.\", 'And those who know the costs also know the stakes.', 'Marine Staff Sergeant Dan Clay was killed last month fighting in Fallujah.', 'He left behind a letter to his family, but his words could just as well be addressed to every American.', 'Here is what Dan wrote: \"I know what honor is.', '... It has been an honor to protect and serve all of you.', 'I faced death with the secure knowledge that you would not have to....', 'Never falter!', 'Don\\'t hesitate to honor and support those of us who have the honor of protecting that which is worth protecting.\"', \"Staff Sergeant Dan Clay's wife, Lisa, and his mom and dad, Sara Jo and Bud, are with us this evening.\", 'Welcome.', '(Applause.)', 'Our nation is grateful to the fallen, who live in the memory of our country.', \"We're grateful to all who volunteer to wear our nation's uniform -- and as we honor our brave troops, let us never forget the sacrifices of America's military families.\", '(Applause.)', 'Our offensive against terror involves more than military action.', 'Ultimately, the only way to defeat the terrorists is to defeat their dark vision of hatred and fear by offering the hopeful alternative of political freedom and peaceful change.', 'So the United States of America supports democratic reform across the broader Middle East.', 'Elections are vital, but they are only the beginning.', 'Raising up a democracy requires the rule of law, and protection of minorities, and strong, accountable institutions that last longer than a single vote.', 'The great people of Egypt have voted in a multi-party presidential election -- and now their government should open paths of peaceful opposition that will reduce the appeal of radicalism.', 'The Palestinian people have voted in elections.', 'And now the leaders of Hamas must recognize Israel, disarm, reject terrorism, and work for lasting peace.', '(Applause.)', 'Saudi Arabia has taken the first steps of reform -- now it can offer its people a better future by pressing forward with those efforts.', 'Democracies in the Middle East will not look like our own, because they will reflect the traditions of their own citizens.', 'Yet liberty is the future of every nation in the Middle East, because liberty is the right and hope of all humanity.', '(Applause.)', 'President George W. Bush waves toward the upper visitors gallery of the House Chamber following his State of the Union remarks Tuesday, Jan.', '31, 2006 at the United States Capitol.', 'White House photo by Eric Draper The same is true of Iran, a nation now held hostage by a small clerical elite that is isolating and repressing its people.', 'The regime in that country sponsors terrorists in the Palestinian territories and in Lebanon -- and that must come to an end.', '(Applause.)', 'The Iranian government is defying the world with its nuclear ambitions, and the nations of the world must not permit the Iranian regime to gain nuclear weapons.', '(Applause.)', 'America will continue to rally the world to confront these threats.', 'Tonight, let me speak directly to the citizens of Iran: America respects you, and we respect your country.', 'We respect your right to choose your own future and win your own freedom.', 'And our nation hopes one day to be the closest of friends with a free and democratic Iran.', '(Applause.)', 'To overcome dangers in our world, we must also take the offensive by encouraging economic progress, and fighting disease, and spreading hope in hopeless lands.', 'Isolationism would not only tie our hands in fighting enemies, it would keep us from helping our friends in desperate need.', 'We show compassion abroad because Americans believe in the God-given dignity and worth of a villager with HIV/AIDS, or an infant with malaria, or a refugee fleeing genocide, or a young girl sold into slavery.', 'We also show compassion abroad because regions overwhelmed by poverty, corruption, and despair are sources of terrorism, and organized crime, and human trafficking, and the drug trade.', 'In recent years, you and I have taken unprecedented action to fight AIDS and malaria, expand the education of girls, and reward developing nations that are moving forward with economic and political reform.', 'For people everywhere, the United States is a partner for a better life.', 'Short-changing these efforts would increase the suffering and chaos of our world, undercut our long-term security, and dull the conscience of our country.', 'I urge members of Congress to serve the interests of America by showing the compassion of America.', 'Our country must also remain on the offensive against terrorism here at home.', 'The enemy has not lost the desire or capability to attack us.', 'Fortunately, this nation has superb professionals in law enforcement, intelligence, the military, and homeland security.', 'These men and women are dedicating their lives, protecting us all, and they deserve our support and our thanks.', '(Applause.)', 'They also deserve the same tools they already use to fight drug trafficking and organized crime -- so I ask you to reauthorize the Patriot Act.', '(Applause.)', 'It is said that prior to the attacks of September the 11th, our government failed to connect the dots of the conspiracy.', 'We now know that two of the hijackers in the United States placed telephone calls to al Qaeda operatives overseas.', 'But we did not know about their plans until it was too late.', 'So to prevent another attack -- based on authority given to me by the Constitution and by statute -- I have authorized a terrorist surveillance program to aggressively pursue the international communications of suspected al Qaeda operatives and affiliates to and from America.', 'Previous Presidents have used the same constitutional authority I have, and federal courts have approved the use of that authority.', 'Appropriate members of Congress have been kept informed.', 'The terrorist surveillance program has helped prevent terrorist attacks.', 'It remains essential to the security of America.', 'If there are people inside our country who are talking with al Qaeda, we want to know about it, because we will not sit back and wait to be hit again.', '(Applause.)', 'In all these areas -- from the disruption of terror networks, to victory in Iraq, to the spread of freedom and hope in troubled regions -- we need the support of our friends and allies.', 'To draw that support, we must always be clear in our principles and willing to act.', 'The only alternative to American leadership is a dramatically more dangerous and anxious world.', 'Yet we also choose to lead because it is a privilege to serve the values that gave us birth.', 'American leaders -- from Roosevelt to Truman to Kennedy to Reagan -- rejected isolation and retreat, because they knew that America is always more secure when freedom is on the march.', 'Our own generation is in a long war against a determined enemy -- a war that will be fought by Presidents of both parties, who will need steady bipartisan support from the Congress.', 'And tonight I ask for yours.', 'Together, let us protect our country, support the men and women who defend us, and lead this world toward freedom.', '(Applause.)', 'Here at home, America also has a great opportunity: We will build the prosperity of our country by strengthening our economic leadership in the world.', 'Our economy is healthy and vigorous, and growing faster than other major industrialized nations.', 'In the last two-and-a-half years, America has created 4.6 million new jobs -- more than Japan and the European Union combined.', '(Applause.)', 'Even in the face of higher energy prices and natural disasters, the American people have turned in an economic performance that is the envy of the world.', 'The American economy is preeminent, but we cannot afford to be complacent.', \"In a dynamic world economy, we are seeing new competitors, like China and India, and this creates uncertainty, which makes it easier to feed people's fears.\", \"So we're seeing some old temptations return.\", 'Protectionists want to escape competition, pretending that we can keep our high standard of living while walling off our economy.', 'Others say that the government needs to take a larger role in directing the economy, centralizing more power in Washington and increasing taxes.', 'We hear claims that immigrants are somehow bad for the economy -- even though this economy could not function without them.', '(Applause.)', 'All these are forms of economic retreat, and they lead in the same direction -- toward a stagnant and second-rate economy.', 'Tonight I will set out a better path: an agenda for a nation that competes with confidence; an agenda that will raise standards of living and generate new jobs.', 'Americans should not fear our economic future, because we intend to shape it.', 'Keeping America competitive begins with keeping our economy growing.', 'And our economy grows when Americans have more of their own money to spend, save, and invest.', 'In the last five years, the tax relief you passed has left $880 billion in the hands of American workers, investors, small businesses, and families -- and they have used it to help produce more than four years of uninterrupted economic growth.', '(Applause.)', 'Yet the tax relief is set to expire in the next few years.', 'If we do nothing, American families will face a massive tax increase they do not expect and will not welcome.', 'Because America needs more than a temporary expansion, we need more than temporary tax relief.', 'I urge the Congress to act responsibly, and make the tax cuts permanent.', '(Applause.)', 'Keeping America competitive requires us to be good stewards of tax dollars.', \"Every year of my presidency, we've reduced the growth of non-security discretionary spending, and last year you passed bills that cut this spending.\", 'This year my budget will cut it again, and reduce or eliminate more than 140 programs that are performing poorly or not fulfilling essential priorities.', 'By passing these reforms, we will save the American taxpayer another $14 billion next year, and stay on track to cut the deficit in half by 2009.', '(Applause.)', 'I am pleased that members of Congress are working on earmark reform, because the federal budget has too many special interest projects.', '(Applause.)', 'And we can tackle this problem together, if you pass the line-item veto.', '(Applause.)', 'We must also confront the larger challenge of mandatory spending, or entitlements.', \"This year, the first of about 78 million baby boomers turn 60, including two of my Dad's favorite people -- me and President Clinton.\", '(Laughter.)', 'This milestone is more than a personal crisis -- (laughter) -- it is a national challenge.', 'The retirement of the baby boom generation will put unprecedented strains on the federal government.', 'By 2030, spending for Social Security, Medicare and Medicaid alone will be almost 60 percent of the entire federal budget.', 'And that will present future Congresses with impossible choices -- staggering tax increases, immense deficits, or deep cuts in every category of spending.', 'Congress did not act last year on my proposal to save Social Security -- (applause) -- yet the rising cost of entitlements is a problem that is not going away.', '(Applause.)', 'And every year we fail to act, the situation gets worse.', 'So tonight, I ask you to join me in creating a commission to examine the full impact of baby boom retirements on Social Security, Medicare, and Medicaid.', 'This commission should include members of Congress of both parties, and offer bipartisan solutions.', 'We need to put aside partisan politics and work together and get this problem solved.', '(Applause.)', 'Keeping America competitive requires us to open more markets for all that Americans make and grow.', 'One out of every five factory jobs in America is related to global trade, and we want people everywhere to buy American.', 'With open markets and a level playing field, no one can out-produce or out-compete the American worker.', '(Applause.)', 'Keeping America competitive requires an immigration system that upholds our laws, reflects our values, and serves the interests of our economy.', 'Our nation needs orderly and secure borders.', '(Applause.)', 'To meet this goal, we must have stronger immigration enforcement and border protection.', '(Applause.)', 'And we must have a rational, humane guest worker program that rejects amnesty, allows temporary jobs for people who seek them legally, and reduces smuggling and crime at the border.', '(Applause.)', 'Keeping America competitive requires affordable health care.', '(Applause.)', 'Our government has a responsibility to provide health care for the poor and the elderly, and we are meeting that responsibility.', '(Applause.)', 'For all Americans -- for all Americans, we must confront the rising cost of care, strengthen the doctor-patient relationship, and help people afford the insurance coverage they need.', '(Applause.)', 'We will make wider use of electronic records and other health information technology, to help control costs and reduce dangerous medical errors.', 'We will strengthen health savings accounts -- making sure individuals and small business employees can buy insurance with the same advantages that people working for big businesses now get.', '(Applause.)', 'We will do more to make this coverage portable, so workers can switch jobs without having to worry about losing their health insurance.', '(Applause.)', 'And because lawsuits are driving many good doctors out of practice -- leaving women in nearly 1,500 American counties without a single OB/GYN -- I ask the Congress to pass medical liability reform this year.', '(Applause.)', 'Keeping America competitive requires affordable energy.', 'And here we have a serious problem: America is addicted to oil, which is often imported from unstable parts of the world.', 'The best way to break this addiction is through technology.', 'Since 2001, we have spent nearly $10 billion to develop cleaner, cheaper, and more reliable alternative energy sources -- and we are on the threshold of incredible advances.', 'So tonight, I announce the Advanced Energy Initiative -- a 22-percent increase in clean-energy research -- at the Department of Energy, to push for breakthroughs in two vital areas.', 'To change how we power our homes and offices, we will invest more in zero-emission coal-fired plants, revolutionary solar and wind technologies, and clean, safe nuclear energy.', '(Applause.)', 'We must also change how we power our automobiles.', 'We will increase our research in better batteries for hybrid and electric cars, and in pollution-free cars that run on hydrogen.', \"We'll also fund additional research in cutting-edge methods of producing ethanol, not just from corn, but from wood chips and stalks, or switch grass.\", 'Our goal is to make this new kind of ethanol practical and competitive within six years.', '(Applause.)', 'Breakthroughs on this and other new technologies will help us reach another great goal: to replace more than 75 percent of our oil imports from the Middle East by 2025.', '(Applause.)', 'By applying the talent and technology of America, this country can dramatically improve our environment, move beyond a petroleum-based economy, and make our dependence on Middle Eastern oil a thing of the past.', '(Applause.)', 'And to keep America competitive, one commitment is necessary above all: We must continue to lead the world in human talent and creativity.', \"Our greatest advantage in the world has always been our educated, hardworking, ambitious people -- and we're going to keep that edge.\", \"Tonight I announce an American Competitiveness Initiative, to encourage innovation throughout our economy, and to give our nation's children a firm grounding in math and science.\", '(Applause.)', 'First, I propose to double the federal commitment to the most critical basic research programs in the physical sciences over the next 10 years.', \"This funding will support the work of America's most creative minds as they explore promising areas such as nanotechnology, supercomputing, and alternative energy sources.\", 'Second, I propose to make permanent the research and development tax credit -- (applause) -- to encourage bolder private-sector initiatives in technology.', 'With more research in both the public and private sectors, we will improve our quality of life -- and ensure that America will lead the world in opportunity and innovation for decades to come.', '(Applause.)', 'Third, we need to encourage children to take more math and science, and to make sure those courses are rigorous enough to compete with other nations.', \"We've made a good start in the early grades with the No Child Left Behind Act, which is raising standards and lifting test scores across our country.\", 'Tonight I propose to train 70,000 high school teachers to lead advanced-placement courses in math and science, bring 30,000 math and science professionals to teach in classrooms, and give early help to students who struggle with math, so they have a better chance at good, high-wage jobs.', \"If we ensure that America's children succeed in life, they will ensure that America succeeds in the world.\", '(Applause.)', 'Preparing our nation to compete in the world is a goal that all of us can share.', 'I urge you to support the American Competitiveness Initiative, and together we will show the world what the American people can achieve.', 'America is a great force for freedom and prosperity.', 'Yet our greatness is not measured in power or luxuries, but by who we are and how we treat one another.', 'So we strive to be a compassionate, decent, hopeful society.', 'In recent years, America has become a more hopeful nation.', 'Violent crime rates have fallen to their lowest levels since the 1970s.', 'Welfare cases have dropped by more than half over the past decade.', 'Drug use among youth is down 19 percent since 2001.', 'There are fewer abortions in America than at any point in the last three decades, and the number of children born to teenage mothers has been falling for a dozen years in a row.', '(Applause.)', 'These gains are evidence of a quiet transformation -- a revolution of conscience, in which a rising generation is finding that a life of personal responsibility is a life of fulfillment.', 'Government has played a role.', 'Wise policies, such as welfare reform and drug education and support for abstinence and adoption have made a difference in the character of our country.', 'And everyone here tonight, Democrat and Republican, has a right to be proud of this record.', '(Applause.)', 'Yet many Americans, especially parents, still have deep concerns about the direction of our culture, and the health of our most basic institutions.', \"They're concerned about unethical conduct by public officials, and discouraged by activist courts that try to redefine marriage.\", 'They worry about children in our society who need direction and love, and about fellow citizens still displaced by natural disaster, and about suffering caused by treatable diseases.', 'As we look at these challenges, we must never give in to the belief that America is in decline, or that our culture is doomed to unravel.', 'The American people know better than that.', 'We have proven the pessimists wrong before -- and we will do it again.', '(Applause.)', 'A hopeful society depends on courts that deliver equal justice under the law.', 'The Supreme Court now has two superb new members -- new members on its bench: Chief Justice John Roberts and Justice Sam Alito.', '(Applause.)', 'I thank the Senate for confirming both of them.', 'I will continue to nominate men and women who understand that judges must be servants of the law, and not legislate from the bench.', '(Applause.)', 'Today marks the official retirement of a very special American.', \"For 24 years of faithful service to our nation, the United States is grateful to Justice Sandra Day O'Connor.\", '(Applause.)', 'A hopeful society has institutions of science and medicine that do not cut ethical corners, and that recognize the matchless value of every life.', 'Tonight I ask you to pass legislation to prohibit the most egregious abuses of medical research: human cloning in all its forms, creating or implanting embryos for experiments, creating human-animal hybrids, and buying, selling, or patenting human embryos.', 'Human life is a gift from our Creator -- and that gift should never be discarded, devalued or put up for sale.', '(Applause.)', 'A hopeful society expects elected officials to uphold the public trust.', '(Applause.)', 'Honorable people in both parties are working on reforms to strengthen the ethical standards of Washington -- I support your efforts.', 'Each of us has made a pledge to be worthy of public responsibility -- and that is a pledge we must never forget, never dismiss, and never betray.', '(Applause.)', 'As we renew the promise of our institutions, let us also show the character of America in our compassion and care for one another.', 'A hopeful society gives special attention to children who lack direction and love.', \"Through the Helping America's Youth Initiative, we are encouraging caring adults to get involved in the life of a child -- and this good work is being led by our First Lady, Laura Bush.\", '(Applause.)', \"This year we will add resources to encourage young people to stay in school, so more of America's youth can raise their sights and achieve their dreams.\", \"A hopeful society comes to the aid of fellow citizens in times of suffering and emergency -- and stays at it until they're back on their feet.\", 'So far the federal government has committed $85 billion to the people of the Gulf Coast and New Orleans.', \"We're removing debris and repairing highways and rebuilding stronger levees.\", \"We're providing business loans and housing assistance.\", 'Yet as we meet these immediate needs, we must also address deeper challenges that existed before the storm arrived.', 'In New Orleans and in other places, many of our fellow citizens have felt excluded from the promise of our country.', 'The answer is not only temporary relief, but schools that teach every child, and job skills that bring upward mobility, and more opportunities to own a home and start a business.', 'As we recover from a disaster, let us also work for the day when all Americans are protected by justice, equal in hope, and rich in opportunity.', '(Applause.)', 'A hopeful society acts boldly to fight diseases like HIV/AIDS, which can be prevented, and treated, and defeated.', 'More than a million Americans live with HIV, and half of all AIDS cases occur among African Americans.', 'I ask Congress to reform and reauthorize the Ryan White Act, and provide new funding to states, so we end the waiting lists for AIDS medicines in America.', '(Applause.)', 'We will also lead a nationwide effort, working closely with African American churches and faith-based groups, to deliver rapid HIV tests to millions, end the stigma of AIDS, and come closer to the day when there are no new infections in America.', '(Applause.)', \"Fellow citizens, we've been called to leadership in a period of consequence.\", \"We've entered a great ideological conflict we did nothing to invite.\", 'We see great changes in science and commerce that will influence all our lives.', 'Sometimes it can seem that history is turning in a wide arc, toward an unknown shore.', 'Yet the destination of history is determined by human action, and every great movement of history comes to a point of choosing.', 'Lincoln could have accepted peace at the cost of disunity and continued slavery.', 'Martin Luther King could have stopped at Birmingham or at Selma, and achieved only half a victory over segregation.', 'The United States could have accepted the permanent division of Europe, and been complicit in the oppression of others.', 'Today, having come far in our own historical journey, we must decide: Will we turn back, or finish well?', 'Before history is written down in books, it is written in courage.', 'Like Americans before us, we will show that courage and we will finish well.', \"We will lead freedom's advance.\", 'We will compete and excel in the global economy.', 'We will renew the defining moral commitments of this land.', 'And so we move forward -- optimistic about our country, faithful to its cause, and confident of the victories to come.', 'May God bless America.', '(Applause.)']\n"
     ]
    }
   ],
   "source": [
    "print(tokenized)"
   ]
  },
  {
   "cell_type": "code",
   "execution_count": 70,
   "metadata": {},
   "outputs": [],
   "source": [
    "#define a function tht will tag each tokenized word with a part of speech\n",
    "def process_content():\n",
    "    try:\n",
    "        for i in tokenized[:5]:\n",
    "            words = nltk.word_tokenize(i)\n",
    "            tagged = nltk.pos_tag(words)\n",
    "            print(tagged)\n",
    "            print('\\n');\n",
    "    except Exception as e:\n",
    "        print(str(e))"
   ]
  },
  {
   "cell_type": "code",
   "execution_count": 71,
   "metadata": {},
   "outputs": [
    {
     "name": "stdout",
     "output_type": "stream",
     "text": [
      "[('PRESIDENT', 'NNP'), ('GEORGE', 'NNP'), ('W.', 'NNP'), ('BUSH', 'NNP'), (\"'S\", 'POS'), ('ADDRESS', 'NNP'), ('BEFORE', 'IN'), ('A', 'NNP'), ('JOINT', 'NNP'), ('SESSION', 'NNP'), ('OF', 'IN'), ('THE', 'NNP'), ('CONGRESS', 'NNP'), ('ON', 'NNP'), ('THE', 'NNP'), ('STATE', 'NNP'), ('OF', 'IN'), ('THE', 'NNP'), ('UNION', 'NNP'), ('January', 'NNP'), ('31', 'CD'), (',', ','), ('2006', 'CD'), ('THE', 'NNP'), ('PRESIDENT', 'NNP'), (':', ':'), ('Thank', 'NNP'), ('you', 'PRP'), ('all', 'DT'), ('.', '.')]\n",
      "\n",
      "\n",
      "[('Mr.', 'NNP'), ('Speaker', 'NNP'), (',', ','), ('Vice', 'NNP'), ('President', 'NNP'), ('Cheney', 'NNP'), (',', ','), ('members', 'NNS'), ('of', 'IN'), ('Congress', 'NNP'), (',', ','), ('members', 'NNS'), ('of', 'IN'), ('the', 'DT'), ('Supreme', 'NNP'), ('Court', 'NNP'), ('and', 'CC'), ('diplomatic', 'JJ'), ('corps', 'NN'), (',', ','), ('distinguished', 'JJ'), ('guests', 'NNS'), (',', ','), ('and', 'CC'), ('fellow', 'JJ'), ('citizens', 'NNS'), (':', ':'), ('Today', 'VB'), ('our', 'PRP$'), ('nation', 'NN'), ('lost', 'VBD'), ('a', 'DT'), ('beloved', 'VBN'), (',', ','), ('graceful', 'JJ'), (',', ','), ('courageous', 'JJ'), ('woman', 'NN'), ('who', 'WP'), ('called', 'VBD'), ('America', 'NNP'), ('to', 'TO'), ('its', 'PRP$'), ('founding', 'NN'), ('ideals', 'NNS'), ('and', 'CC'), ('carried', 'VBD'), ('on', 'IN'), ('a', 'DT'), ('noble', 'JJ'), ('dream', 'NN'), ('.', '.')]\n",
      "\n",
      "\n",
      "[('Tonight', 'NN'), ('we', 'PRP'), ('are', 'VBP'), ('comforted', 'VBN'), ('by', 'IN'), ('the', 'DT'), ('hope', 'NN'), ('of', 'IN'), ('a', 'DT'), ('glad', 'JJ'), ('reunion', 'NN'), ('with', 'IN'), ('the', 'DT'), ('husband', 'NN'), ('who', 'WP'), ('was', 'VBD'), ('taken', 'VBN'), ('so', 'RB'), ('long', 'RB'), ('ago', 'RB'), (',', ','), ('and', 'CC'), ('we', 'PRP'), ('are', 'VBP'), ('grateful', 'JJ'), ('for', 'IN'), ('the', 'DT'), ('good', 'JJ'), ('life', 'NN'), ('of', 'IN'), ('Coretta', 'NNP'), ('Scott', 'NNP'), ('King', 'NNP'), ('.', '.')]\n",
      "\n",
      "\n",
      "[('(', '('), ('Applause', 'NNP'), ('.', '.'), (')', ')')]\n",
      "\n",
      "\n",
      "[('President', 'NNP'), ('George', 'NNP'), ('W.', 'NNP'), ('Bush', 'NNP'), ('reacts', 'VBZ'), ('to', 'TO'), ('applause', 'VB'), ('during', 'IN'), ('his', 'PRP$'), ('State', 'NNP'), ('of', 'IN'), ('the', 'DT'), ('Union', 'NNP'), ('Address', 'NNP'), ('at', 'IN'), ('the', 'DT'), ('Capitol', 'NNP'), (',', ','), ('Tuesday', 'NNP'), (',', ','), ('Jan', 'NNP'), ('.', '.')]\n",
      "\n",
      "\n"
     ]
    }
   ],
   "source": [
    "process_content()"
   ]
  },
  {
   "cell_type": "markdown",
   "metadata": {},
   "source": [
    "## Various Tag of POS in NLTK"
   ]
  },
  {
   "cell_type": "code",
   "execution_count": 72,
   "metadata": {},
   "outputs": [
    {
     "name": "stdout",
     "output_type": "stream",
     "text": [
      "$: dollar\n",
      "    $ -$ --$ A$ C$ HK$ M$ NZ$ S$ U.S.$ US$\n",
      "'': closing quotation mark\n",
      "    ' ''\n",
      "(: opening parenthesis\n",
      "    ( [ {\n",
      "): closing parenthesis\n",
      "    ) ] }\n",
      ",: comma\n",
      "    ,\n",
      "--: dash\n",
      "    --\n",
      ".: sentence terminator\n",
      "    . ! ?\n",
      ":: colon or ellipsis\n",
      "    : ; ...\n",
      "CC: conjunction, coordinating\n",
      "    & 'n and both but either et for less minus neither nor or plus so\n",
      "    therefore times v. versus vs. whether yet\n",
      "CD: numeral, cardinal\n",
      "    mid-1890 nine-thirty forty-two one-tenth ten million 0.5 one forty-\n",
      "    seven 1987 twenty '79 zero two 78-degrees eighty-four IX '60s .025\n",
      "    fifteen 271,124 dozen quintillion DM2,000 ...\n",
      "DT: determiner\n",
      "    all an another any both del each either every half la many much nary\n",
      "    neither no some such that the them these this those\n",
      "EX: existential there\n",
      "    there\n",
      "FW: foreign word\n",
      "    gemeinschaft hund ich jeux habeas Haementeria Herr K'ang-si vous\n",
      "    lutihaw alai je jour objets salutaris fille quibusdam pas trop Monte\n",
      "    terram fiche oui corporis ...\n",
      "IN: preposition or conjunction, subordinating\n",
      "    astride among uppon whether out inside pro despite on by throughout\n",
      "    below within for towards near behind atop around if like until below\n",
      "    next into if beside ...\n",
      "JJ: adjective or numeral, ordinal\n",
      "    third ill-mannered pre-war regrettable oiled calamitous first separable\n",
      "    ectoplasmic battery-powered participatory fourth still-to-be-named\n",
      "    multilingual multi-disciplinary ...\n",
      "JJR: adjective, comparative\n",
      "    bleaker braver breezier briefer brighter brisker broader bumper busier\n",
      "    calmer cheaper choosier cleaner clearer closer colder commoner costlier\n",
      "    cozier creamier crunchier cuter ...\n",
      "JJS: adjective, superlative\n",
      "    calmest cheapest choicest classiest cleanest clearest closest commonest\n",
      "    corniest costliest crassest creepiest crudest cutest darkest deadliest\n",
      "    dearest deepest densest dinkiest ...\n",
      "LS: list item marker\n",
      "    A A. B B. C C. D E F First G H I J K One SP-44001 SP-44002 SP-44005\n",
      "    SP-44007 Second Third Three Two * a b c d first five four one six three\n",
      "    two\n",
      "MD: modal auxiliary\n",
      "    can cannot could couldn't dare may might must need ought shall should\n",
      "    shouldn't will would\n",
      "NN: noun, common, singular or mass\n",
      "    common-carrier cabbage knuckle-duster Casino afghan shed thermostat\n",
      "    investment slide humour falloff slick wind hyena override subhumanity\n",
      "    machinist ...\n",
      "NNP: noun, proper, singular\n",
      "    Motown Venneboerger Czestochwa Ranzer Conchita Trumplane Christos\n",
      "    Oceanside Escobar Kreisler Sawyer Cougar Yvette Ervin ODI Darryl CTCA\n",
      "    Shannon A.K.C. Meltex Liverpool ...\n",
      "NNPS: noun, proper, plural\n",
      "    Americans Americas Amharas Amityvilles Amusements Anarcho-Syndicalists\n",
      "    Andalusians Andes Andruses Angels Animals Anthony Antilles Antiques\n",
      "    Apache Apaches Apocrypha ...\n",
      "NNS: noun, common, plural\n",
      "    undergraduates scotches bric-a-brac products bodyguards facets coasts\n",
      "    divestitures storehouses designs clubs fragrances averages\n",
      "    subjectivists apprehensions muses factory-jobs ...\n",
      "PDT: pre-determiner\n",
      "    all both half many quite such sure this\n",
      "POS: genitive marker\n",
      "    ' 's\n",
      "PRP: pronoun, personal\n",
      "    hers herself him himself hisself it itself me myself one oneself ours\n",
      "    ourselves ownself self she thee theirs them themselves they thou thy us\n",
      "PRP$: pronoun, possessive\n",
      "    her his mine my our ours their thy your\n",
      "RB: adverb\n",
      "    occasionally unabatingly maddeningly adventurously professedly\n",
      "    stirringly prominently technologically magisterially predominately\n",
      "    swiftly fiscally pitilessly ...\n",
      "RBR: adverb, comparative\n",
      "    further gloomier grander graver greater grimmer harder harsher\n",
      "    healthier heavier higher however larger later leaner lengthier less-\n",
      "    perfectly lesser lonelier longer louder lower more ...\n",
      "RBS: adverb, superlative\n",
      "    best biggest bluntest earliest farthest first furthest hardest\n",
      "    heartiest highest largest least less most nearest second tightest worst\n",
      "RP: particle\n",
      "    aboard about across along apart around aside at away back before behind\n",
      "    by crop down ever fast for forth from go high i.e. in into just later\n",
      "    low more off on open out over per pie raising start teeth that through\n",
      "    under unto up up-pp upon whole with you\n",
      "SYM: symbol\n",
      "    % & ' '' ''. ) ). * + ,. < = > @ A[fj] U.S U.S.S.R * ** ***\n",
      "TO: \"to\" as preposition or infinitive marker\n",
      "    to\n",
      "UH: interjection\n",
      "    Goodbye Goody Gosh Wow Jeepers Jee-sus Hubba Hey Kee-reist Oops amen\n",
      "    huh howdy uh dammit whammo shucks heck anyways whodunnit honey golly\n",
      "    man baby diddle hush sonuvabitch ...\n",
      "VB: verb, base form\n",
      "    ask assemble assess assign assume atone attention avoid bake balkanize\n",
      "    bank begin behold believe bend benefit bevel beware bless boil bomb\n",
      "    boost brace break bring broil brush build ...\n",
      "VBD: verb, past tense\n",
      "    dipped pleaded swiped regummed soaked tidied convened halted registered\n",
      "    cushioned exacted snubbed strode aimed adopted belied figgered\n",
      "    speculated wore appreciated contemplated ...\n",
      "VBG: verb, present participle or gerund\n",
      "    telegraphing stirring focusing angering judging stalling lactating\n",
      "    hankerin' alleging veering capping approaching traveling besieging\n",
      "    encrypting interrupting erasing wincing ...\n",
      "VBN: verb, past participle\n",
      "    multihulled dilapidated aerosolized chaired languished panelized used\n",
      "    experimented flourished imitated reunifed factored condensed sheared\n",
      "    unsettled primed dubbed desired ...\n",
      "VBP: verb, present tense, not 3rd person singular\n",
      "    predominate wrap resort sue twist spill cure lengthen brush terminate\n",
      "    appear tend stray glisten obtain comprise detest tease attract\n",
      "    emphasize mold postpone sever return wag ...\n",
      "VBZ: verb, present tense, 3rd person singular\n",
      "    bases reconstructs marks mixes displeases seals carps weaves snatches\n",
      "    slumps stretches authorizes smolders pictures emerges stockpiles\n",
      "    seduces fizzes uses bolsters slaps speaks pleads ...\n",
      "WDT: WH-determiner\n",
      "    that what whatever which whichever\n",
      "WP: WH-pronoun\n",
      "    that what whatever whatsoever which who whom whosoever\n",
      "WP$: WH-pronoun, possessive\n",
      "    whose\n",
      "WRB: Wh-adverb\n",
      "    how however whence whenever where whereby whereever wherein whereof why\n",
      "``: opening quotation mark\n",
      "    ` ``\n"
     ]
    }
   ],
   "source": [
    "nltk.help.upenn_tagset()"
   ]
  },
  {
   "cell_type": "markdown",
   "metadata": {},
   "source": [
    "## Chunking "
   ]
  },
  {
   "cell_type": "code",
   "execution_count": 73,
   "metadata": {},
   "outputs": [],
   "source": [
    "# chunking with NLTK using Regexp\n",
    "\n",
    "\n",
    "train_text = state_union.raw('2005-GWBush.txt')\n",
    "sample_text = state_union.raw('2006-GWBush.txt')\n",
    "\n",
    "custom_sent_tokenizer = PunktSentenceTokenizer(train_text)\n",
    "\n",
    "\n",
    "def process_content():\n",
    "    try:\n",
    "        for i in tokenized[:10]:\n",
    "            words = nltk.word_tokenize(i)\n",
    "            tagged = nltk.pos_tag(words)\n",
    "            \n",
    "            # combine the part of speech tag with a regular expressio\n",
    "            chunkGram = r\"\"\"Chunk: {<RB.?>*<VB.?>*<NNP>+<NN>?}\"\"\"\n",
    "            chunkParser = nltk.RegexpParser(chunkGram)\n",
    "            chunked = chunkParser.parse(tagged)\n",
    "            for subtree in chunked.subtrees(filter=lambda t: t.label() == 'Chunk'):\n",
    "                print(subtree)\n",
    "            \n",
    "#             chunked.draw()\n",
    "    except Exception as e:\n",
    "        print(str(e))"
   ]
  },
  {
   "cell_type": "code",
   "execution_count": 74,
   "metadata": {},
   "outputs": [
    {
     "name": "stdout",
     "output_type": "stream",
     "text": [
      "(Chunk PRESIDENT/NNP GEORGE/NNP W./NNP BUSH/NNP)\n",
      "(Chunk ADDRESS/NNP)\n",
      "(Chunk A/NNP JOINT/NNP SESSION/NNP)\n",
      "(Chunk THE/NNP CONGRESS/NNP ON/NNP THE/NNP STATE/NNP)\n",
      "(Chunk THE/NNP UNION/NNP January/NNP)\n",
      "(Chunk THE/NNP PRESIDENT/NNP)\n",
      "(Chunk Thank/NNP)\n",
      "(Chunk Mr./NNP Speaker/NNP)\n",
      "(Chunk Vice/NNP President/NNP Cheney/NNP)\n",
      "(Chunk Congress/NNP)\n",
      "(Chunk Supreme/NNP Court/NNP)\n",
      "(Chunk called/VBD America/NNP)\n",
      "(Chunk Coretta/NNP Scott/NNP King/NNP)\n",
      "(Chunk Applause/NNP)\n",
      "(Chunk President/NNP George/NNP W./NNP Bush/NNP)\n",
      "(Chunk State/NNP)\n",
      "(Chunk Union/NNP Address/NNP)\n",
      "(Chunk Capitol/NNP)\n",
      "(Chunk Tuesday/NNP)\n",
      "(Chunk Jan/NNP)\n",
      "(Chunk White/NNP House/NNP photo/NN)\n",
      "(Chunk Eric/NNP DraperEvery/NNP time/NN)\n",
      "(Chunk Capitol/NNP dome/NN)\n",
      "(Chunk have/VBP served/VBN America/NNP)\n"
     ]
    }
   ],
   "source": [
    "process_content()"
   ]
  },
  {
   "cell_type": "markdown",
   "metadata": {},
   "source": [
    "## Chinking "
   ]
  },
  {
   "cell_type": "code",
   "execution_count": 75,
   "metadata": {},
   "outputs": [],
   "source": [
    "#chinking  with nltk\n",
    "\n",
    "train_text = state_union.raw('2005-GWBush.txt')\n",
    "sample_text = state_union.raw('2006-GWBush.txt')\n",
    "\n",
    "custom_sent_tokenizer = PunktSentenceTokenizer(train_text)\n",
    "\n",
    "\n",
    "def process_content():\n",
    "    try:\n",
    "        for i in tokenized[:10]:\n",
    "            words = nltk.word_tokenize(i)\n",
    "            tagged = nltk.pos_tag(words)\n",
    "            \n",
    "            # combine the part of speech tag with a regular expressio\n",
    "            chunkGram = r\"\"\"Chunk: {<.*>+}\n",
    "                                        }<VB.?|IN|DT|TO>+{\"\"\"\n",
    "            chunkParser = nltk.RegexpParser(chunkGram)\n",
    "            chunked = chunkParser.parse(tagged)\n",
    "            for subtree in chunked.subtrees(filter=lambda t: t.label() == 'Chunk'):\n",
    "                print(subtree)\n",
    "            \n",
    "#             chunked.draw()\n",
    "    except Exception as e:\n",
    "        print(str(e))"
   ]
  },
  {
   "cell_type": "code",
   "execution_count": 76,
   "metadata": {},
   "outputs": [
    {
     "name": "stdout",
     "output_type": "stream",
     "text": [
      "(Chunk PRESIDENT/NNP GEORGE/NNP W./NNP BUSH/NNP 'S/POS ADDRESS/NNP)\n",
      "(Chunk A/NNP JOINT/NNP SESSION/NNP)\n",
      "(Chunk THE/NNP CONGRESS/NNP ON/NNP THE/NNP STATE/NNP)\n",
      "(Chunk\n",
      "  THE/NNP\n",
      "  UNION/NNP\n",
      "  January/NNP\n",
      "  31/CD\n",
      "  ,/,\n",
      "  2006/CD\n",
      "  THE/NNP\n",
      "  PRESIDENT/NNP\n",
      "  :/:\n",
      "  Thank/NNP\n",
      "  you/PRP)\n",
      "(Chunk ./.)\n",
      "(Chunk\n",
      "  Mr./NNP\n",
      "  Speaker/NNP\n",
      "  ,/,\n",
      "  Vice/NNP\n",
      "  President/NNP\n",
      "  Cheney/NNP\n",
      "  ,/,\n",
      "  members/NNS)\n",
      "(Chunk Congress/NNP ,/, members/NNS)\n",
      "(Chunk\n",
      "  Supreme/NNP\n",
      "  Court/NNP\n",
      "  and/CC\n",
      "  diplomatic/JJ\n",
      "  corps/NN\n",
      "  ,/,\n",
      "  distinguished/JJ\n",
      "  guests/NNS\n",
      "  ,/,\n",
      "  and/CC\n",
      "  fellow/JJ\n",
      "  citizens/NNS\n",
      "  :/:)\n",
      "(Chunk our/PRP$ nation/NN)\n",
      "(Chunk ,/, graceful/JJ ,/, courageous/JJ woman/NN who/WP)\n",
      "(Chunk America/NNP)\n",
      "(Chunk its/PRP$ founding/NN ideals/NNS and/CC)\n",
      "(Chunk noble/JJ dream/NN ./.)\n",
      "(Chunk Tonight/NN we/PRP)\n",
      "(Chunk hope/NN)\n",
      "(Chunk glad/JJ reunion/NN)\n",
      "(Chunk husband/NN who/WP)\n",
      "(Chunk so/RB long/RB ago/RB ,/, and/CC we/PRP)\n",
      "(Chunk grateful/JJ)\n",
      "(Chunk good/JJ life/NN)\n",
      "(Chunk Coretta/NNP Scott/NNP King/NNP ./.)\n",
      "(Chunk (/( Applause/NNP ./. )/))\n",
      "(Chunk President/NNP George/NNP W./NNP Bush/NNP)\n",
      "(Chunk his/PRP$ State/NNP)\n",
      "(Chunk Union/NNP Address/NNP)\n",
      "(Chunk Capitol/NNP ,/, Tuesday/NNP ,/, Jan/NNP ./.)\n",
      "(Chunk 31/CD ,/, 2006/CD ./.)\n",
      "(Chunk White/NNP House/NNP photo/NN)\n",
      "(Chunk Eric/NNP DraperEvery/NNP time/NN I/PRP)\n",
      "(Chunk invited/JJ)\n",
      "(Chunk rostrum/NN ,/, I/PRP)\n",
      "(Chunk privilege/NN ,/, and/CC mindful/NN)\n",
      "(Chunk history/NN we/PRP)\n",
      "(Chunk together/RB ./.)\n",
      "(Chunk We/PRP)\n",
      "(Chunk Capitol/NNP dome/NN)\n",
      "(Chunk moments/NNS)\n",
      "(Chunk national/JJ mourning/NN and/CC national/JJ achievement/NN ./.)\n",
      "(Chunk We/PRP)\n",
      "(Chunk America/NNP)\n",
      "(Chunk one/CD)\n",
      "(Chunk most/RBS consequential/JJ periods/NNS)\n",
      "(Chunk our/PRP$ history/NN --/: and/CC it/PRP)\n",
      "(Chunk my/PRP$ honor/NN)\n",
      "(Chunk you/PRP ./.)\n",
      "(Chunk system/NN)\n",
      "(Chunk\n",
      "  two/CD\n",
      "  parties/NNS\n",
      "  ,/,\n",
      "  two/CD\n",
      "  chambers/NNS\n",
      "  ,/,\n",
      "  and/CC\n",
      "  two/CD\n",
      "  elected/JJ\n",
      "  branches/NNS\n",
      "  ,/,\n",
      "  there/EX\n",
      "  will/MD\n",
      "  always/RB)\n",
      "(Chunk differences/NNS and/CC debate/NN ./.)\n"
     ]
    }
   ],
   "source": [
    "process_content()"
   ]
  },
  {
   "cell_type": "markdown",
   "metadata": {},
   "source": [
    "## Named Entity Recognition"
   ]
  },
  {
   "cell_type": "code",
   "execution_count": 77,
   "metadata": {},
   "outputs": [],
   "source": [
    "# Named word entity recognition like people, place, location, things\n",
    "\n",
    "def process_content():\n",
    "    try:\n",
    "        for i in tokenized[:5]:\n",
    "            words = nltk.word_tokenize(i)\n",
    "            tagged = nltk.pos_tag(words)\n",
    "            namedEnt = nltk.ne_chunk(tagged, binary=False)\n",
    "            namedEnt.draw();\n",
    "#             chunked.draw()\n",
    "    except Exception as e:\n",
    "        print(str(e))"
   ]
  },
  {
   "cell_type": "code",
   "execution_count": 78,
   "metadata": {},
   "outputs": [],
   "source": [
    "process_content()"
   ]
  },
  {
   "cell_type": "markdown",
   "metadata": {},
   "source": [
    "## Lemmatizing\n"
   ]
  },
  {
   "cell_type": "code",
   "execution_count": 79,
   "metadata": {},
   "outputs": [
    {
     "name": "stdout",
     "output_type": "stream",
     "text": [
      "cat\n",
      "cactus\n",
      "goose\n",
      "rock\n",
      "python\n",
      "good\n",
      "best\n",
      "run\n",
      "run\n"
     ]
    }
   ],
   "source": [
    "# Lemmatizing\n",
    "from nltk.stem import WordNetLemmatizer\n",
    "\n",
    "lemmatizer = WordNetLemmatizer()\n",
    "\n",
    "print(lemmatizer.lemmatize(\"cats\"))\n",
    "print(lemmatizer.lemmatize(\"cacti\"))\n",
    "print(lemmatizer.lemmatize(\"geese\"))\n",
    "print(lemmatizer.lemmatize(\"rocks\"))\n",
    "print(lemmatizer.lemmatize(\"python\"))\n",
    "print(lemmatizer.lemmatize(\"better\", pos=\"a\"))\n",
    "print(lemmatizer.lemmatize(\"best\", pos=\"a\"))\n",
    "print(lemmatizer.lemmatize(\"run\"))\n",
    "print(lemmatizer.lemmatize(\"run\",'v'))"
   ]
  },
  {
   "cell_type": "markdown",
   "metadata": {},
   "source": [
    "## Wordnet "
   ]
  },
  {
   "cell_type": "code",
   "execution_count": 80,
   "metadata": {},
   "outputs": [
    {
     "name": "stdout",
     "output_type": "stream",
     "text": [
      "[Synset('plan.n.01'), Synset('program.n.02'), Synset('broadcast.n.02'), Synset('platform.n.02'), Synset('program.n.05'), Synset('course_of_study.n.01'), Synset('program.n.07'), Synset('program.n.08'), Synset('program.v.01'), Synset('program.v.02')]\n"
     ]
    }
   ],
   "source": [
    "# wordnet\n",
    "from nltk.corpus import wordnet\n",
    "syns = wordnet.synsets(\"program\")\n",
    "\n",
    "print(syns)"
   ]
  },
  {
   "cell_type": "code",
   "execution_count": 81,
   "metadata": {},
   "outputs": [
    {
     "name": "stdout",
     "output_type": "stream",
     "text": [
      "Synset('plan.n.01')\n",
      "plan.n.01\n",
      "Lemma('plan.n.01.plan')\n",
      "plan\n",
      "a series of steps to be carried out or goals to be accomplished\n",
      "['they drew up a six-step plan', 'they discussed plans for a new bond issue']\n"
     ]
    }
   ],
   "source": [
    "print(syns[0])\n",
    "print(syns[0].name())\n",
    "print(syns[0].lemmas()[0])\n",
    "print(syns[0].lemmas()[0].name())\n",
    "print(syns[0].definition())\n",
    "print(syns[0].examples())\n"
   ]
  },
  {
   "cell_type": "code",
   "execution_count": 82,
   "metadata": {},
   "outputs": [],
   "source": [
    "synonyms = []\n",
    "antonyms = []\n",
    "\n",
    "for syn in wordnet.synsets(\"good\"):\n",
    "    for l in syn.lemmas():\n",
    "        synonyms.append(l.name())\n",
    "        if l.antonyms():\n",
    "            antonyms.append(l.antonyms()[0].name())"
   ]
  },
  {
   "cell_type": "code",
   "execution_count": 83,
   "metadata": {},
   "outputs": [
    {
     "name": "stdout",
     "output_type": "stream",
     "text": [
      "{'just', 'expert', 'trade_good', 'unspoiled', 'soundly', 'commodity', 'skilful', 'sound', 'good', 'right', 'honorable', 'full', 'near', 'safe', 'respectable', 'effective', 'unspoilt', 'well', 'adept', 'estimable', 'skillful', 'thoroughly', 'in_force', 'goodness', 'dear', 'serious', 'ripe', 'practiced', 'honest', 'secure', 'in_effect', 'undecomposed', 'upright', 'dependable', 'salutary', 'proficient', 'beneficial'}\n"
     ]
    }
   ],
   "source": [
    "print(set(synonyms))"
   ]
  },
  {
   "cell_type": "code",
   "execution_count": 84,
   "metadata": {},
   "outputs": [
    {
     "name": "stdout",
     "output_type": "stream",
     "text": [
      "{'evil', 'ill', 'bad', 'badness', 'evilness'}\n"
     ]
    }
   ],
   "source": [
    "print(set(antonyms))"
   ]
  },
  {
   "cell_type": "code",
   "execution_count": 85,
   "metadata": {},
   "outputs": [
    {
     "name": "stdout",
     "output_type": "stream",
     "text": [
      "0.9090909090909091\n"
     ]
    }
   ],
   "source": [
    "w1 = wordnet.synset('ship.n.01')\n",
    "w2 = wordnet.synset('boat.n.01')\n",
    "print(w1.wup_similarity(w2))"
   ]
  },
  {
   "cell_type": "code",
   "execution_count": 86,
   "metadata": {},
   "outputs": [
    {
     "name": "stdout",
     "output_type": "stream",
     "text": [
      "0.6956521739130435\n"
     ]
    }
   ],
   "source": [
    "w1 = wordnet.synset('ship.n.01')\n",
    "w2 = wordnet.synset('car.n.01')\n",
    "print(w1.wup_similarity(w2))"
   ]
  },
  {
   "cell_type": "code",
   "execution_count": 87,
   "metadata": {},
   "outputs": [
    {
     "name": "stdout",
     "output_type": "stream",
     "text": [
      "0.32\n"
     ]
    }
   ],
   "source": [
    "w1 = wordnet.synset('ship.n.01')\n",
    "w2 = wordnet.synset('cat.n.01')\n",
    "print(w1.wup_similarity(w2))"
   ]
  },
  {
   "cell_type": "markdown",
   "metadata": {},
   "source": [
    "# Text Classification with NLTK"
   ]
  },
  {
   "cell_type": "code",
   "execution_count": 88,
   "metadata": {},
   "outputs": [],
   "source": [
    "import random\n",
    "import nltk\n",
    "from nltk.corpus import movie_reviews"
   ]
  },
  {
   "cell_type": "code",
   "execution_count": 89,
   "metadata": {},
   "outputs": [
    {
     "name": "stdout",
     "output_type": "stream",
     "text": [
      "Number of documents: 2000\n",
      "First Review: (['mike', 'myers', ',', 'you', 'certainly', 'did', 'throw', 'us', 'a', '?', 'frickin', \"'\", 'bone', 'here', 'in', 'what', 'you', 'call', '?', 'the', 'biggest', 'austin', 'powers', 'adventure', 'yet', '.', \"'\", 'austin', 'powers', ':', 'the', 'spy', 'who', 'shagged', 'me', 'is', 'the', 'sequel', 'to', 'the', '1997', 'smash', 'comedy', 'austin', 'powers', ':', 'international', 'man', 'of', 'mystery', '.', 'many', 'are', 'skeptical', 'about', 'sequels', ',', 'saying', 'that', 'the', 'sequel', 'is', 'never', 'better', 'or', 'as', 'good', 'as', 'the', 'original', ',', 'but', 'austin', 'powers', ':', 'tswsm', 'goes', 'beyond', 'the', 'first', 'film', '.', 'austin', 'powers', ':', 'the', 'spy', 'who', 'shagged', 'me', 'stars', 'mike', 'myers', 'in', 'three', 'different', 'roles', '.', 'he', 'reprises', 'his', 'role', 'as', 'the', 'title', 'character', ',', 'austin', 'powers', ',', 'the', 'shagadelic', 'spy', 'whose', 'body', 'was', 'frozen', 'in', '1967', ',', 'and', 'unfrozen', 'in', '1997', 'to', 'stop', 'his', 'long', 'time', 'nemesis', 'dr', '.', 'evil', ',', 'also', 'played', 'by', 'mike', 'myers', ',', 'from', 'destroying', 'the', 'earth', '.', 'tswsm', 'leaves', 'off', 'where', 'the', 'original', 'stopped', ',', 'with', 'dr', '.', 'evil', \"'\", 's', '?', 'frisch', \"'\", 's', 'big', 'boy', \"'\", 'space', 'capsule', 'floating', 'through', 'space', '.', 'dr', '.', 'evil', 'returns', 'back', 'to', 'earth', 'by', 'ejecting', 'from', 'his', 'capsule', ',', 'plotting', 'to', 'go', 'back', 'in', 'his', 'time', 'machine', 'to', 'the', 'year', '1967', ',', 'in', 'which', 'he', 'plans', 'to', 'steal', 'austin', 'powers', \"'\", '\"', 'mojo', '\"', ',', 'what', 'keeps', 'austin', 'going', 'with', 'spy', 'talents', '.', 'upon', 'his', 'return', 'to', 'his', 'secret', 'lair', ',', 'which', 'is', 'now', 'a', 'starbucks', 'coffee', 'shop', ',', 'dr', '.', 'evil', 'learns', 'that', 'his', 'evil', 'henchman', ',', 'which', 'includes', 'the', 'returning', 'robert', 'wagner', 'as', 'number', '2', 'and', 'mindy', 'sterling', 'as', 'frau', ',', 'have', 'created', 'a', '1', '/', '8', 'size', 'clone', 'of', 'dr', '.', 'evil', ',', 'which', 'is', 'later', 'named', 'mini', 'me', '.', 'the', 'evil', 'mini', 'me', 'replaces', 'scott', 'evil', ',', 'played', 'by', 'seth', 'green', ',', 'as', 'dr', '.', 'evil', \"'\", 's', 'son', 'in', 'the', 'madman', \"'\", 's', 'mind', ',', 'because', 'dr', '.', 'evil', 'thinks', 'of', 'scott', 'to', 'be', 'only', '\"', 'quasi', '-', 'evil', '.', '\"', 'dr', '.', 'evil', 'has', 'always', 'wanted', 'a', 'son', 'that', 'is', 'evil', 'just', 'like', 'him', ',', 'and', 'now', 'he', 'has', 'one', '.', 'dr', '.', 'evil', 'tells', 'mini', 'me', ',', '\"', 'you', 'complete', 'me', ',', '\"', 'in', 'a', 'loving', 'manner', '.', 'dr', '.', 'evil', 'loving', '?', 'wow', '!', 'mike', 'myers', \"'\", 'third', 'role', 'is', 'as', 'fat', 'bastard', ',', 'a', 'scottish', 'henchman', 'of', 'dr', '.', 'evil', \"'\", 's', ',', 'who', 'is', 'sent', 'to', 'steal', 'the', 'mojo', 'from', 'austin', 'powers', \"'\", 'frozen', 'body', '.', 'austin', 'powers', 'learns', 'of', 'dr', '.', 'evil', \"'\", 's', 'trip', 'back', 'into', 'the', '60s', ',', 'and', 'uses', 'his', 'own', 'time', 'machine', 'to', 'take', 'him', 'back', 'to', '1967', ',', 'to', 'try', 'to', 'save', 'his', 'mojo', 'before', 'fat', 'bastard', 'gets', 'a', 'hold', 'of', 'it', '.', 'once', 'arriving', 'in', 'the', 'year', '1967', ',', 'austin', 'travels', 'to', 'his', '\"', 'pad', '\"', ',', 'his', 'smashing', 'home', '/', 'dance', 'club', ',', 'where', 'he', 'meets', 'felicity', 'shagwell', ',', 'played', 'by', 'heather', 'graham', ',', 'a', 'cia', 'agent', 'who', 'is', 'willing', 'to', 'help', 'him', 'in', 'his', 'journey', 'to', 'stop', 'dr', '.', 'evil', '.', 'as', 'the', 'film', 'progresses', ',', 'hilarious', 'one', 'liners', 'are', 'thrown', 'at', 'us', ',', 'mainly', 'by', 'dr', '.', 'evil', ',', 'for', 'example', ',', '\"', 'don', \"'\", 't', 'go', 'there', ',', 'girlfriend', '!', '\"', 'to', 'the', 'president', 'of', 'the', 'united', 'states', '.', 'many', 'witty', 'gags', 'take', 'place', ',', 'note', 'the', 'entire', 'tent', 'scene', ',', 'and', 'just', 'plain', ',', 'funny', 'scenes', 'which', 'are', 'so', 'stupid', '-', 'they', \"'\", 're', 'funny', 'come', 'a', 'dozen', 'per', 'fifteen', 'minutes', '.', 'take', 'for', 'example', ',', 'scott', 'evil', 'going', 'on', 'the', 'jerry', 'springer', 'show', 'complaining', 'about', 'how', 'evil', 'his', 'father', 'is', '.', 'the', 'way', 'austin', 'powers', ':', 'tswsm', 'uses', 'its', 'humor', 'is', 'clever', ',', 'throwing', 'a', 'hilarious', 'scene', 'at', 'you', ',', 'followed', 'by', 'five', 'minutes', 'of', 'one', 'liners', ',', 'followed', 'by', 'another', 'outrageous', 'scene', ',', 'so', 'you', 'never', 'stop', 'laughing', '.', 'there', 'was', 'honestly', 'not', 'one', 'moment', 'in', 'austin', 'powers', ':', 'tswsm', 'where', 'i', 'wasn', \"'\", 't', 'laughing', '.', 'the', 'last', 'film', 'that', 'i', 'laughed', 'so', 'hard', 'in', ',', 'was', 'well', ',', 'austin', 'powers', '!', 'it', 'is', 'apparent', 'that', 'mike', 'myers', 'knew', 'how', 'funny', 'this', 'film', 'was', 'while', 'writing', 'it', '.', 'the', 'film', 'even', 'makes', 'fun', 'of', 'itself', 'in', 'a', 'line', ',', 'something', 'along', 'the', 'lines', 'of', ',', '\"', 'it', \"'\", 's', 'funny', 'how', 'england', 'and', 'southern', 'california', 'look', 'nothing', 'alike', '.', '\"', 'tswsm', 'was', 'filmed', 'in', 'southern', 'california', ',', 'but', 'was', 'supposed', 'to', 'take', 'place', 'in', 'england', '.', 'i', 'can', 'tell', 'you', 'one', 'thing', '-', 'he', 'is', 'having', 'a', 'lot', 'of', 'fun', 'with', 'this', 'enormously', 'popular', 'character', ',', 'which', 'is', 'all', 'over', 'television', ',', 'newspapers', ',', 'magazines', ',', 'and', 'the', 'movie', 'theaters', '.', 'i', 'believe', 'that', 'dr', '.', 'evil', 'got', 'more', 'attention', 'in', 'the', 'tswsm', 'than', 'austin', 'powers', 'did', '.', 'dr', '.', 'evil', 'provided', 'more', 'laughs', ',', 'more', 'memorable', 'moments', ',', 'and', 'more', 'interesting', 'dialogue', 'than', 'austin', 'did', 'this', 'time', 'around', ',', 'who', 'seems', 'to', 'missing', 'the', 'funny', 'touch', 'that', 'he', 'had', 'in', 'the', 'first', 'film', '.', 'i', 'felt', 'that', 'austin', 'really', 'did', 'have', 'his', 'mojo', 'taken', 'away', ',', 'but', 'from', 'screenplay', 'writer', 'mike', 'myers', ',', 'not', 'fat', 'bastard', '.', 'also', 'making', 'a', 'great', 'addition', 'to', 'the', 'series', 'is', 'mini', 'me', ',', 'who', 'is', 'played', 'by', 'verne', 'troyer', '.', 'even', 'though', 'the', 'midget', 'actor', 'is', '30', 'years', 'old', ',', 'he', 'is', 'adorable', 'by', 'dr', '.', 'evil', \"'\", 's', 'side', 'constantly', '.', 'the', 'first', 'austin', 'powers', 'film', 'had', 'barely', 'any', 'sentimental', 'quality', ',', 'such', 'as', 'lack', 'of', 'character', 'development', ',', 'barely', 'any', 'detailed', 'plot', 'characteristics', ',', 'and', 'barely', 'any', 'good', 'acting', ',', 'but', 'austin', 'powers', 'tswsm', 'actually', 'shows', 'some', 'quality', 'behind', 'the', 'frequent', 'humor', '.', 'mike', 'myers', ',', 'with', 'his', 'three', 'roles', ',', 'acts', 'as', 'eddie', 'murphy', 'did', 'in', 'the', 'nutty', 'professor', ',', 'disguising', 'himself', 'completely', 'in', 'one', 'of', 'the', 'roles', '.', '(', 'fat', 'bastard', ')', 'all', 'three', 'characters', 'are', 'different', ',', 'and', 'mike', 'myers', 'does', 'do', 'a', 'good', 'job', 'handling', 'each', 'one', 'of', 'them', '.', 'heather', 'graham', 'made', 'a', 'great', 'addition', 'with', 'her', 'talent', 'to', 'tswsm', ',', 'and', 'does', 'a', 'much', 'better', 'job', 'than', 'elizabeth', 'hurley', 'did', ',', 'who', 'gave', 'a', 'very', 'flat', 'performance', 'in', 'the', 'original', ',', 'speaking', 'her', 'lines', 'without', 'any', 'feeling', 'or', 'emotion', '.', 'speaking', 'of', 'hurley', ',', 'she', 'can', 'be', 'seen', 'in', 'tswsm', 'for', 'a', 'few', 'brief', 'moments', '.', 'hopefully', ',', 'graham', 'tags', 'along', 'for', 'future', 'austin', 'powers', 'adventures', '.', 'the', 'bottom', 'line', '-', 'a', 'groovy', 'sequel', 'that', 'mike', 'myers', 'put', 'all', 'of', 'his', 'mojo', 'into', 'writing', '.'], 'pos')\n"
     ]
    },
    {
     "name": "stdout",
     "output_type": "stream",
     "text": [
      "Most common words: [(',', 77717), ('the', 76529), ('.', 65876), ('a', 38106), ('and', 35576), ('of', 34123), ('to', 31937), (\"'\", 30585), ('is', 25195), ('in', 21822), ('s', 18513), ('\"', 17612), ('it', 16107), ('that', 15924), ('-', 15595)]\n",
      "the word happy: 215\n"
     ]
    }
   ],
   "source": [
    "# build a list of documents\n",
    "documents = [(list(movie_reviews.words(fileid)), category)\n",
    "             for category in movie_reviews.categories()\n",
    "             for fileid in movie_reviews.fileids(category)\n",
    "            ]\n",
    "# shuffle the documents\n",
    "random.shuffle(documents)\n",
    "print('Number of documents: {}'.format(len(documents)))\n",
    "print('First Review: {}'.format(documents[0]))\n",
    "\n",
    "all_words = []\n",
    "for w in movie_reviews.words():\n",
    "    all_words.append(w.lower())\n",
    "\n",
    "all_words = nltk.FreqDist(all_words)\n",
    "\n",
    "print('Most common words: {}'.format(all_words.most_common(15)))\n",
    "print('the word happy: {}'.format(all_words[\"happy\"]))"
   ]
  },
  {
   "cell_type": "code",
   "execution_count": 90,
   "metadata": {},
   "outputs": [
    {
     "name": "stdout",
     "output_type": "stream",
     "text": [
      "39768\n"
     ]
    }
   ],
   "source": [
    "print(len(all_words))"
   ]
  },
  {
   "cell_type": "code",
   "execution_count": 91,
   "metadata": {},
   "outputs": [],
   "source": [
    "# using the first 4000 most common words as features\n",
    "word_features = list(all_words.keys())[:4000]"
   ]
  },
  {
   "cell_type": "code",
   "execution_count": 92,
   "metadata": {},
   "outputs": [
    {
     "name": "stdout",
     "output_type": "stream",
     "text": [
      "away\n",
      "completely\n",
      "deal\n",
      "given\n",
      "would\n",
      "here\n",
      "4\n",
      "to\n",
      "be\n",
      "so\n",
      "start\n",
      "girlfriend\n",
      "offering\n",
      "hide\n",
      "fed\n",
      "find\n",
      "entire\n",
      "happen\n",
      "when\n",
      "world\n",
      "my\n",
      "they\n",
      "with\n",
      "visions\n",
      "life\n",
      "also\n",
      "bit\n",
      "street\n",
      "sense\n",
      "entertaining\n",
      "showing\n",
      "neighborhood\n",
      "since\n",
      "don\n",
      "figured\n",
      "your\n",
      "sitting\n",
      "break\n"
     ]
    }
   ],
   "source": [
    "# a function to find features that will determine which of the 4000 word features are contained in review\n",
    "def find_features(document):\n",
    "    words = set(document)\n",
    "    features = {}\n",
    "    \n",
    "    for w in word_features:\n",
    "        features[w] = (w in words)\n",
    "    return features\n",
    "\n",
    "#using an example from a negative review\n",
    "features = find_features(movie_reviews.words('neg/cv000_29416.txt'))\n",
    "for key, value in features.items():\n",
    "    if value == True:\n",
    "        print(key)"
   ]
  },
  {
   "cell_type": "code",
   "execution_count": 93,
   "metadata": {},
   "outputs": [
    {
     "name": "stdout",
     "output_type": "stream",
     "text": [
      "{'loot': False, 'singularly': False, 'polemic': False, 'reinvents': False, 'secondhand': False, 'replaceable': False, 'forlorn': False, 'richard': False, 'inspite': False, 'fleshing': False, 'defends': False, 'dormitory': False, 'attentive': False, 'somersets': False, 'kennif': False, 'huckleberry': False, 'pronged': False, 'mammals': False, 'hierarchy': False, 'tsi': False, 'kinda': False, 'brinks': False, 'gunton': False, 'misfits': False, 'exhibits': False, 'prefecture': False, 'rumba': False, 'ventured': False, 'hazy': False, 'lowest': False, 'vat': False, 'intersperesed': False, 'punctuated': False, 'authors': False, 'tenderness': False, 'supreme': False, 'selfishly': False, 'cower': False, 'stations': False, 'dalton': False, 'gittin': False, 'comepete': False, 'openings': False, 'superbowl': False, 'ireland': False, 'trimming': False, 'spirit': False, 'awfully': False, 'gallantry': False, 'experiment': False, 'caters': False, 'awakes': False, 'babe': False, 'dreyer': False, 'flavorful': False, 'ob': False, 'reaches': False, 'parlor': False, 'dryland': False, 'barred': False, 'geiger': False, 'deadening': False, 'tabloid': False, 'gangbusters': False, 'covering': False, 'collectors': False, 'pasadena': False, 'futures': False, 'likeable': False, 'strawberry': False, 'frenchman': False, 'borscht': False, 'shindler': False, 'ironing': False, 'affections': False, 'katrina': False, 'guts': False, 'incompatible': False, 'prejudice': False, 'assurance': False, 'squandered': False, 'calibrated': False, 'written': False, 'viewer': False, 'questions': False, 'diedre': False, 'bayouesque': False, 'beal': False, 'person': False, 'dangles': False, 'blasted': False, 'pratfalling': False, 'hyperviolent': False, 'certificate': False, 'peril': False, 'nerve': False, 'stalls': False, 'bruskotter': False, \"-'\": False, 'task': False, '_least_': False, 'kario': False, 'tranquility': False, 'nincompoops': False, 'rozencrantz': False, 'forensics': False, 'comfortable': False, 'ya': False, 'inferring': False, 'olin': False, 'deadline': False, 'popitti': False, 'rigormortis': False, 'aphrodiasiatic': False, 'bancroft': False, 'dispondent': False, 'dispatches': False, 'skg': False, 'northern': False, 'figeroa': False, 'retaliates': False, 'frivilous': False, 'chews': False, 'scent': False, 'masturbator': False, 'unmoved': False, 'tirelessly': False, 'gettin': False, 'gunplay': False, 'hydrogen': False, 'swiftness': False, 'clump': False, 'anime': False, 'debilitating': False, 'freewheeling': False, 'depths': False, 'geoff': False, 'ambiguous': False, 'torments': False, 'abyssinian': False, 'psychosis': False, 'precise': False, 'illustrating': False, 'mozambique': False, 'defended': False, 'rebel': False, 'cybil': False, '161': False, 'lack': False, 'epics': False, 'partnered': False, 'levy': False, 'nincompoop': False, 'tiffani': False, 'pointing': False, 'conformity': False, 'hasidics': False, 'tagged': False, 'biopic': False, 'guesswork': False, 'telescopes': False, 'miracurously': False, 'heberle': False, 'recreational': False, 'zane': False, 'eet': False, 'coerced': False, 'grope': False, 'yep': False, 'donald': False, 'siren': False, 'expertly': False, 'lebowski': False, 'isley': False, 'repeats': False, 'emotionally': False, 'humanized': False, 'blah': False, 'remembers': False, 'cruddy': False, 'eeeewwwww': False, 'platform': False, 'magic': False, 'justify': False, 'supervillain': False, 'hendren': False, 'earthbound': False, 'kathie': False, 'airs': False, 'misinterpreted': False, 'platonic': False, 'copolla': False, 'adding': False, 'dueling': False, 'bookstores': False, 'subtly': False, 'oblique': False, 'tossable': False, 'sally': False, 'filmmakers': False, 'jumble': False, 'nun': False, 'priestley': False, 'away': True, 'depended': False, 'tics': False, 'doppelganger': False, 'voices': False, 'windswept': False, 'steinberg': False, 'homemaker': False, 'lows': False, 'pedro': False, 'melvin': False, 'completely': True, 'outrageousness': False, 'bankruptcy': False, 'minimize': False, 'painkillers': False, '5671': False, 'egan': False, 'overplayed': False, 'inflections': False, 'hook': False, 'disasterous': False, 'trollop': False, 'ridiculousy': False, 'war': False, 'invaluable': False, 'boozed': False, 'growling': False, 'deepening': False, 'ferraris': False, 'desolation': False, 'barked': False, 'weirdo': False, 'carrion': False, 'firefighter': False, 'destinies': False, 'libero': False, 'chord': False, 'matrimony': False, 'missed': False, 'buzzcocks': False, 'hygiene': False, 'graciela': False, 'rectitude': False, 'diluted': False, 'fork': False, 'confections': False, 'cadets': False, 'sources': False, 'wetsuits': False, 'influenced': False, 'goldblum': False, 'scharzenegger': False, 'lision': False, 'moviehouses': False, 'sillyness': False, 'importance': False, 'westerns': False, 'crimson': False, 'sidewalks': False, 'disastrously': False, 'schizophrenic': False, 'demeaning': False, 'brunet': False, 'dragged': False, 'lehman': False, 'catsuit': False, 'journeyed': False, 'induce': False, 'intrusions': False, 'barks': False, 'ceo': False, 'plusse': False, 'betrayal': False, 'deal': True, 'virile': False, 'crawled': False, 'additions': False, 'implanted': False, 'soldini': False, 'sucess': False, 'emissaries': False, 'trainee': False, 'goon': False, 'sentencing': False, 'exhibited': False, 'novella': False, 'rooftop': False, 'splenetik': False, 'separation': False, 'nation': False, 'hiver': False, 'generated': False, 'limply': False, 'overcloud': False, 'boingo': False, 'springboard': False, 'incision': False, 'understandably': False, 'unquestionably': False, 'occupy': False, 'tara': False, 'casualty': False, 'conception': False, 'slashing': False, 'sprinkler': False, 'morquio': False, 'gabriela': False, 'considered': False, 'given': True, 'harumph': False, 'objectified': False, 'boondocks': False, 'hardness': False, 'motor': False, 'capsule': False, 'dazzled': False, 'rains': False, 'reminiscent': False, 'blackburn': False, 'dangers': False, 'doing': False, 'flipped': False, 'fun': False, 'wrecked': False, 'pint': False, 'gawky': False, 'alright': False, 'situating': False, 'mc2': False, 'horrifying': False, 'meddling': False, 'pulse': False, 'sorely': False, 'less': False, 'incomprehensibly': False, 'cherish': False, 'browning': False, 'comfortably': False, 'detachment': False, 'defiance': False, 'figurative': False, 'chapter': False, 'counterparts': False, 'indemnity': False, 'revenues': False, 'comaprison': False, 'scientifically': False, 'biased': False, 'snitches': False, 'bondsmen': False, 'oeuvre': False, 'sharks': False, 'redcoats': False, 'defuse': False, 'attendent': False, 'nba': False, 'honk': False, 'crown': False, 'third': False, 'giants': False, 'reproduce': False, 'would': True, 'nescafe': False, 'predates': False, 'unequipped': False, 'corroborated': False, 'kung': False, 'settlement': False, 'trappings': False, 'cropped': False, 'munch': False, 'spaniards': False, 'shallow': False, 'runners': False, 'shrouded': False, 'bonneville': False, 'once': False, 'tailed': False, 'codirectors': False, 'overshadowed': False, 'synthesizer': False, 'eng': False, 'slumming': False, 'schwab': False, 'hotep': False, 'thurgood': False, 'pities': False, 'cullen': False, 'gilfedder': False, 'booty': False, 'russo': False, 'ticket': False, 'voluntary': False, 'pledges': False, 'stephanopolus': False, 'here': True, 'atkins': False, 'discombobulated': False, 'sneezing': False, 'broadcaster': False, 'popping': False, 'astonishing': False, 'julliana': False, 'slinging': False, 'frivolous': False, 'mcneill': False, 'mistakes': False, 'definable': False, 'grosser': False, 'abraded': False, 'aisling': False, 'louder': False, 'opposed': False, 'doin': False, 'mayan': False, 'elie': False, 'fairman': False, 'bumping': False, 'galpal': False, 'corleones': False, 'stoners': False, 'skimped': False, 'stubbornly': False, 'rudy': False, 'wanderer': False, 'sobieski': False, 'lysterine': False, '11th': False, 'manni': False, 'ramsden': False, 'forecaster': False, 'execs': False, 'montana': False, 'loom': False, 'gerry': False, 'unclaimed': False, 'girls': False, 'enemies': False, 'prydain': False, 'sustaining': False, 'fulfils': False, 'deciding': False, 'cyborsuit': False, 'withholds': False, 'vampira': False, 'convey': False, '1862': False, 'figurine': False, 'commiserate': False, 'denzel': False, 'advanced': False, 'lassez': False, 'corrupted': False, 'worrall': False, 'vadar': False, 'accidental': False, 'obliges': False, 'napoleon': False, 'jivin': False, 'laundry': False, 'quagmire': False, 'abject': False, 'anchor': False, 'sway': False, 'flaunts': False, 'emulate': False, 'snook': False, 'escapism': False, 'businessman': False, 'cemetery': False, 'tactic': False, 'lined': False, 'showy': False, 'change': False, 'unerotic': False, 'blindness': False, 'bets': False, 'quality': False, 'nuptials': False, 'preventing': False, 'paup': False, 'witless': False, 'ye': False, 'com': False, 'cushions': False, 'softness': False, 'enslaved': False, 'rollerblading': False, 'baring': False, 'deadly': False, 'boat': False, 'gutlessness': False, 'hemp': False, 'natassja': False, 'incorrect': False, 'eyeful': False, 'avenging': False, 'umpire': False, 'prominence': False, '_shaft_in_africa_': False, 'disgruntled': False, 'stigma': False, 'unwritten': False, 'distilling': False, 'pope': False, 'dessert': False, 'bother': False, 'jonny': False, 'pokes': False, '59': False, 'incumbent': False, 'homing': False, 'unions': False, 'listened': False, 'bvoice': False, '4': True, 'wei': False, 'disregards': False, 'tee': False, 'shavenness': False, 'topics': False, 'oliveira': False, 'dimwit': False, 'nothiiiiiinggggggggggg': False, 'hounds': False, 'muscat': False, 'brotherhood': False, 'fever': False, 'malik': False, 'surrendered': False, 'revisitings': False, 'iceberg': False, 'skilful': False, 'extravertedness': False, 'lopping': False, 'majestic': False, 'automatically': False, 'f': False, 'rubbery': False, 'tumbleweeds': False, 'paths': False, 'hes': False, 'coven': False, 'adequately': False, 'accidentally': False, 'rapes': False, 'burdensome': False, 'remodeled': False, 'freakin': False, 'whisk': False, 'chiseled': False, 'resonance': False, 'hostess': False, 'knock': False, 'broodwarriors': False, 'blankety': False, 'drunkard': False, 'exclaim': False, 'dionysius': False, 'boutte': False, 'oilrig': False, 'pans': False, 'thyself': False, 'dial': False, 'burgeoning': False, 'maher': False, 'cultures': False, 'andy': False, 'underscoring': False, 'breath': False, 'to': True, 'addled': False, 'peculiarly': False, 'womantic': False, 'mesmerising': False, 'lady': False, 'osment': False, 'seville': False, 'pastoral': False, 'bohemians': False, 'violet': False, 'multiplies': False, 'hideaway': False, 'rickie': False, 'occult': False, 'courses': False, 'dictated': False, 'tolerate': False, 'fig': False, 'endlessly': False, 'rodney': False, 'disaffirm': False, 'swat': False, 'be': True, 'picaresque': False, 'faults': False, 'delineated': False, 'earnestness': False, 'pleasance': False, 'gatlin': False, 'unnecessarily': False, 'kidnappers': False, 'craziest': False, 'timorous': False, 'locksley': False, 'explosive': False, 'illeana': False, 'venue': False, 'recount': False, 'glorify': False, 'suddenly': False, 'predict': False, 'mirkin': False, 'smits': False, 'underside': False, 'longshot': False, 'unexpected': False, 'audiotapes': False, 'aiello': False, 'defenseless': False, 'eliminate': False, 'trinidad': False, 'devastating': False, 'reindeer': False, 'unappetizing': False, 'delia': False, 'piaf': False, 'segregation': False, 'naifeh': False, 'ajax': False, 'rescues': False, 'zimmerman': False, 'larceny': False, 'parasites': False, 'mesmerizing': False, 'italicize': False, 'puh': False, 'vapid': False, 'indianapolis': False, 'dutiful': False, 'figuring': False, 'farce': False, 'deviation': False, '_urban_legend_': False, 'newsgroups': False, 'complemented': False, 'adeptness': False, 'danica': False, 'weeks': False, 'greasy': False, 'so': True, 'drift': False, 'examinations': False, 'professions': False, 'farley': False, 'marx': False, 'craning': False, 'laure': False, 'graduate': False, 'anguish': False, 'somewhat': False, 'johto': False, 'expenses': False, 'peploe': False, 'valentine_': False, 'elitists': False, 'overzealous': False, 'list': False, 'gloop': False, 'roxanne': False, 'duct': False, 'mysterious': False, 'disrespect': False, 'decipher': False, 'roger': False, 'gabriel': False, 'hofstra': False, 'akiva': False, 'icons': False, 'acrylic': False, 'encore': False, 'loftier': False, 'ect': False, 'eliminating': False, 'baxter': False, 'humorously': False, 'picturesque': False, 'participant': False, 'circular': False, 'apprehensively': False, 'panic': False, 'propaganda': False, 'magma': False, 'retrospection': False, 'muresan': False, 'sucker': False, 'teeters': False, 'reversing': False, 'start': True, 'reassured': False, 'helmed': False, 'filth': False, 'cloths': False, 'subjective': False, 'hacked': False, 'handyman': False, 'reformers': False, 'matte': False, 'stifled': False, 'sledgehammer': False, 'seep': False, 'pound': False, 'newlyweds': False, 'jab': False, 'penelope': False, 'salt': False, 'caerthan': False, 'talking': False, 'vermin': False, 'computers': False, 'regis': False, 'modeled': False, 'tipping': False, 'syrupy': False, 'latin': False, 'transparently': False, 'childish': False, 'superstardom': False, 'silk': False, 'tri': False, 'excluding': False, 'alexandra': False, 'insightful': False, 'financee': False, 'unprintable': False, 'princeton': False, 'associated': False, 'outdoors': False, 'spends': False, 'conflicting': False, 'adulterer': False, 'poetic': False, 'pastiche': False, 'slate': False, 'shoulder': False, 'poled': False, 'hideout': False, 'vans': False, 'calculating': False, 'bracing': False, 'castration': False, 'ensuing': False, 'sugarland': False, 'parisian': False, 'expressly': False, 'uniqe': False, 'harasses': False, 'liverpool': False, 'sensical': False, 'switches': False, 'softball': False, 'travels': False, 'evars': False, 'luxury': False, 'fasano': False, 'alienation': False, 'hunting': False, 'faction': False, 'tailspin': False, 'blockbuster': False, 'furter': False, 'cope': False, 'cinematographr': False, 'whazoo': False, 'vomitted': False, 'wellness': False, 'heavier': False, 'leader': False, 'surfboards': False, 'beaudene': False, 'pastor': False, 'bueller_': False, 'aural': False, 'wright': False, 'viceroy': False, 'muffle': False, 'conciliatory': False, 'waterbeds': False, 'relocate': False, 'ramses': False, 'ethically': False, 'equally': False, 'jetpacks': False, 'resurfacing': False, 'sandefur': False, 'lively': False, 't2': False, 'warping': False, 'clan': False, 'berardinelli': False, 'generous': False, 'lump': False, 'idolising': False, 'mansions': False, 'sicker': False, 'tiepin': False, '110': False, 'defecting': False, 'cluttered': False, 'hopeful': False, 'stakes': False, 'mowed': False, 'adopted': False, 'straits': False, 'socialite': False, 'stubble': False, 'crippen': False, 'evidencing': False, 'suited': False, 'ideas': False, 'tender': False, 'cirque': False, 'suppose': False, 'cheek': False, 'hosted': False, 'plumped': False, 'je': False, 'attributed': False, 'bashing': False, 'involvment': False, 'fairytale': False, 'nevermind': False, 'breuer': False, 'tyke': False, 'pens': False, 'nodded': False, 'elimination': False, 'azaria': False, 'route': False, 'favor': False, 'protestor': False, 'kissy': False, 'hampton': False, 'incisive': False, 'mementos': False, 'pertwee': False, 'brightening': False, 'huiessan': False, 'girlfriend': True, 'allowing': False, 'gall': False, 'mailman': False, 'splattered': False, 'generalized': False, 'downcast': False, 'smokescreen': False, 'overpowers': False, 'de': False, 'nielson': False, 'overeager': False, 'brained': False, 'utilised': False, 'calif': False, 'berger': False, 'exile': False, 'introduces': False, 'rendition': False, 'highlander': False, 'analyse': False, 'mellis': False, 'settling': False, 'masterwork': False, 'parallel': False, 'perfectionist': False, 'lukas': False, 'reoccurrence': False, 'wrights': False, 'stomped': False, 'brilliancy': False, 'maintaining': False, '53': False, 'evaluation': False, 'biloxi': False, 'uncommercial': False, 'essentially': False, 'dick_': False, 'cozart': False, 'scamper': False, 'dariush': False, 'strays': False, 'standers': False, 'ape': False, 'lodger': False, 'manse': False, 'romanian': False, 'peel': False, 'dribble': False, 'delilah': False, 'partner': False, 'kristin': False, 'padua': False, 'razzie': False, 'requested': False, 'dog': False, 'ack': False, 'blanche': False, 'adores': False, 'anna': False, 'manuscript': False, 'cru': False, 'dolphin': False, 'delievered': False, 'inappropriate': False, 'impacts': False, 'slated': False, 'celerity': False, 'sundered': False, 'recounting': False, 'stressful': False, '\\x05': False, 'someway': False, 'franken': False, 'founded': False, 'stagnate': False, 'counts': False, 'silent': False, 'offhand': False, 'lurve': False, 'schools': False, 'petula': False, 'wissner': False, 'poems': False, 'transporters': False, 'fairer': False, 'elevating': False, 'horne': False, 'walked': False, '130': False, 'chrichton': False, 'videotaping': False, 'tammy': False, 'sniffing': False, 'undirected': False, 'blends': False, 'validation': False, 'moptop': False, 'dystopian': False, 'preempt': False, 'computerized': False, 'uneventful': False, 'erickson': False, 'glean': False, 'midnight': False, 'screw': False, 'pidgeonhole': False, 'increasingly': False, 'son': False, 'preoccupation': False, 'pared': False, 'awoke': False, 'straightman': False, 'shots': False, 'hollywoods': False, 'deftness': False, 'selected': False, 'fiji': False, 'warmers': False, 'terrifyingly': False, 'immaturity': False, 'downbeat': False, 'hodges': False, 'malice': False, 'advocate': False, 'ranging': False, 'meowth': False, 'silvie': False, 'whelmed': False, 'duller': False, 'chucklesome': False, 'legitimize': False, 'impersonators': False, '_to': False, 'heartedly': False, 'synchronized': False, 'osemt': False, 'amarcord': False, 'bonnefroy': False, 'detox': False, 'vine': False, 'bucketsful': False, 'hamminess': False, 'fanaro': False, 'cups': False, 'frying': False, 'merciless': False, 'rearrange': False, 'finesses': False, 'cyrus': False, 'moulin': False, 'revell': False, 'nyah': False, 'fondest': False, 'rican': False, 'championship': False, 'standup': False, 'execution': False, 'cousine': False, 'tristar': False, 'schroeder': False, 'bachelor': False, 'steaming': False, 'bologna': False, 'snorting': False, 'infrequent': False, 'triggered': False, 'sentimental': False, 'declare': False, 'heralding': False, 'epitome': False, 'terrifically': False, 'haughtiness': False, 'quotient': False, 'tolerable': False, 'chaser': False, 'requirement': False, 'procreate': False, 'dippy': False, 'quiz': False, '85': False, 'demolishes': False, 'during': False, 'crocker': False, 'kwietniowski': False, 'offering': True, 'indulged': False, 'peaks': False, 'excuses': False, 'serviceman': False, 'nigh': False, 'gobbledygook': False, 'cold': False, 'fledged': False, 'steam': False, 'droagon': False, 'cordless': False, 'ought': False, 'granddaddy': False, 'laboring': False, 'berle': False, 'dulled': False, 'chased': False, 'spilt': False, 'payoff': False, 'milking': False, 'crunching': False, 'capable': False, 'taps': False, 'checkout': False, 'globus': False, 'mural': False, 'orpheus': False, 'fan': False, 'histories': False, 'insultingly': False, 'spilled': False, 'abduction': False, 'masse': False, 'rigg': False, 'centenial': False, 'mongrel': False, 'stints': False, 'addendum': False, 'innuendos': False, 'segues': False, 'cerebrality': False, 'germans': False, 'tableware': False, 'cabinet': False, 'hasn': False, '710': False, 'cell': False, 'rocketship': False, 'surf': False, 'whizzing': False, 'enlightens': False, 'brandi': False, 'zealously': False, 'hazel': False, 'belch': False, 'phase': False, 'mayer': False, 'unsubstantial': False, 'worse': False, 'interacting': False, 'paleontology': False, 'schoonmaker': False, 'prohibition': False, 'familiarity': False, 'messiness': False, 'ladybug': False, 'harelik': False, 'granted': False, 'devotees': False, 'fewest': False, 'definitions': False, 'avowed': False, 'idaho': False, 'wished': False, 'inexorable': False, 'inventie': False, 'diverts': False, 'tinker': False, 'javert': False, 'darn': False, 'sexism': False, 'wreck': False, 'paradoxical': False, 'dorks': False, 'resultant': False, 'hide': True, 'redeemed': False, 'architecturally': False, 'detract': False, '_require_': False, 'crapper': False, 'tedious': False, 'welsh': False, 'ers': False, 'photograph': False, 'practitioner': False, 'caviar': False, 'flasher': False, 'bea': False, 'beaufoy': False, 'embracing': False, 'shocks': False, 'cassandra': False, 'auditor': False, 'mum': False, 'hopeless': False, 'farrell': False, 'hooks': False, 'male': False, 'download': False, 'slithering': False, 'chief': False, 'wonders': False, 'mooch': False, 'porches': False, 'strindberg': False, 'carrere': False, 'konner': False, 'threats': False, 'hitches': False, 'caustic': False, 'kennedy': False, '70': False, 'frolicked': False, 'structured': False, 'reliance': False, 'marijo': False, 'paints': False, 'severe': False, 'pegged': False, 'outraging': False, 'fletch': False, 'plaudits': False, 'endeavored': False, 'notches': False, 'dune': False, 'guido': False, 'digestive': False, 'supervisor': False, 'fleas': False, 'especially': False, 'epsode': False, 'publishing': False, 'kell': False, 'beach': False, 'enjoying': False, '@$&%': False, 'hermaphrodite': False, 'graduated': False, 'howls': False, 'risking': False, 'liars': False, 'shiny': False, 'doffs': False, 'bresson': False, 'hoses': False, 'inevitably': False, 'stripclub': False, 'jails': False, 'brood': False, 'either': False, 'torches': False, 'stabber': False, 'harassed': False, 'jurisdiction': False, 'underpaying': False, 'pinch': False, 'abusers': False, 'contrivance': False, 'cyndi': False, 'defensively': False, 'doggy': False, 'michele': False, 'soaks': False, 'scrutinization': False, 'gaffer': False, 'gazzara': False, 'critters': False, 'boarder': False, 'pudgy': False, 'inmate': False, 'nuttiest': False, 'comaraderie': False, 'crazy': False, 'doreen': False, 'veil': False, 'adapters': False, 'logistical': False, 'clubbed': False, 'matrix_': False, 'companion': False, 'kiefer': False, 'cetera': False, 'acknowledgement': False, 'blanks': False, 'melodramas': False, 'bonds': False, 'crossing': False, 'vibrate': False, 'hutton': False, 'adoration': False, 'alienate': False, 'torture': False, 'mired': False, 'responsibly': False, 'scamp': False, 'gazarra': False, 'sign': False, 'demented': False, 'anabasis': False, 'indecency': False, '_loathe_': False, 'reply': False, 'hulk': False, 'steen': False, 'elaborated': False, 'denis': False, 'importantly': False, 'facehugger': False, 'fed': True, 'lauren': False, 'wooden': False, 'superhuman': False, 'attachment': False, 'moonshine': False, 'dolled': False, 'looters': False, 'message': False, 'tumble': False, 'testimony': False, 'angelou': False, 'fergus': False, 'receipts': False, 'eqsuisite': False, 'burglary': False, 'cuba': False, 'barbed': False, 'cutbacks': False, 'dither': False, 'singing': False, 'eggert': False, 'necessary': False, 'uganda': False, 'belong': False, 'immaculate': False, 'personalities': False, 'capra': False, 'unenjoyable': False, 'kent': False, 'speech': False, 'ideals': False, 'fails': False, 'meteorite': False, 'alikes': False, 'fei': False, 'draft': False, 'extreme': False, 'exited': False, 'aristocrat': False, 'veronicca': False, 'charcoal': False, 'investigations': False, 'bender': False, 'coward': False, 'ingenuous': False, 'picked': False, 'shuns': False, 'peasant': False, 'assassinate': False, 'showcase': False, 'creators': False, 'zephyr': False, 'nntp': False, 'gaby': False, 'unknown': False, 'outlined': False, 'gester': False, 'exuberant': False, 'prix': False, 'clues': False, 'dark': False, 'wahoo': False, 'pedophile': False, 'centrestage': False, 'zooming': False, 'comediennes': False, 'snobbish': False, 'variants': False, 'irwin': False, 'upping': False, 'nimble': False, 'whirry': False, 'transatlantic': False, 'excelled': False, 'late': False, 'helper': False, 'ceremony': False, 'foyle': False, 'langer': False, 'throwback': False, 'deformed': False, 'choderlos': False, 'bending': False, 'insist': False, 'ibenez': False, 'sisterhood': False, 'skarsgard': False, 'dingy': False, 'amplified': False, 'audiences': False, 'cries': False, 'deriving': False, 'huffing': False, 'patric': False, 'plaything': False, 'odious': False, 'marquee': False, 'razor': False, 'meloncholy': False, 'unfetching': False, 'melvon': False, 'boss': False, 'directon': False, 'advertisement': False, 'mallory': False, 'diner': False, 'liking': False, 'gaulthier': False, 'find': True, 'biel': False, 'valenti': False, 'bottle': False, 'student': False, 'heartless': False, 'landslide': False, 'mekum': False, 'fictions': False, 'vestern': False, 'retirement': False, 'vinyl': False, 'probide': False, 'drawn': False, 'exciting': False, 'zemeckis': False, 'watcher': False, 'aspires': False, 'sinfully': False, 'attack': False, 'objective': False, 'icon': False, 'evidenced': False, 'inspires': False, 'pedal': False, 'ava': False, 'wear': False, 'imprint': False, 'reprint': False, 'column': False, 'uuuhmm': False, 'limp': False, 'bemusing': False, 'lobbyists': False, 'kaaya': False, 'deed': False, 'bashfully': False, 'relate': False, 'kennedys': False, 'terrified': False, 'colleagues': False, 'paulina': False, \"''\": False, 'pomade': False, 'recipe': False, 'yours': False, 'alea': False, 'lillian': False, 'bonked': False, 'receptions': False, 'kid': False, 'coincide': False, 'sisters': False, 'pavlov': False, 'favour': False, 'ginger': False, 'suvari': False, 'christianne': False, 'pfeiffer': False, 'sleepwalking': False, 'cans': False, 'newhart': False, 'perceptively': False, 'peck': False, 'dumbed': False, 'walton': False, 'cloned': False, 'bouncy': False, 'giovanni': False, 'totty': False, 'magnify': False, 'hmm': False, 'absent': False, 'pileggi': False, 'independant': False, 'excesses': False, 'uninteresting': False, 'tigers': False, 'espoused': False, 'tangerine': False, 'commendable': False, 'mcfly': False, 'mentor': False, 'betwixt': False, 'bookie': False, 'punch': False, 'slowly': False, 'darlanne': False, 'scrapping': False, 'mimi': False, 'naturally': False, 'amen': False, 'ingested': False, 'cpl': False, 'advisors': False, 'recognizable': False, 'coupon': False, 'possesses': False, 'outburst': False, 'vadis': False, 'sourabaya': False, 'unloving': False, 'udesky': False, 'knicked': False, 'searchers': False, 'sigourney': False, 'practise': False, 'ziyi': False, '_fantastic_': False, 'glenda': False, 'rothchild': False, 'attractions': False, 'stalwart': False, 'daugher': False, 'phosphorus': False, 'hooper': False, 'packed': False, 'aplenty': False, 'huevelman': False, 'butterfly': False, 'estimation': False, 'bluebirds': False, 'reprograms': False, 'entire': True, 'ichor': False, 'muff': False, 'coping': False, '_all_': False, 'upsets': False, 'scrawling': False, 'ruin': False, 'dunces': False, 'retained': False, 'unwatchable': False, 'highschool': False, 'geez': False, 'kevil': False, 'smuntz': False, 'schlockfest': False, 'preserve': False, 'assertive': False, 'tremendous': False, 'happen': True, 'yearns': False, 'peters': False, 'hydra': False, 'sagas': False, 'ricardo': False, 'rupaul': False, 'benichou': False, '_mafia_': False, 'group': False, 'wrestling': False, 'launches': False, 'bernie': False, 'crooning': False, 'trees': False, 'laureates': False, 'hearing': False, 'assassinates': False, 'poppa': False, 'tasmania': False, 'cartoonist': False, 'siam': False, 'lb': False, 'motherf': False, 'musters': False, 'relishes': False, 'toller': False, 'winsomely': False, 'charge': False, 'mayfield': False, 'fryer': False, '172': False, 'bud': False, 'liscinski': False, 'leaps': False, 'magritte': False, 'aspirations': False, 'duds': False, 'nutrition': False, 'baseketball': False, 'favoring': False, 'dantes': False, 'truncated': False, 'simulated': False, 'characterizations': False, 'tycoon': False, 'eases': False, 'possiblities': False, 'mcniell': False, 'considerably': False, 'badges': False, 'lollipop': False, 'trachtenberg': False, 'dundee': False, 'waver': False, 'bidets': False, 'murmur': False, 'dell': False, 'clayton': False, 'trucking': False, 'everglades': False, 'indifference': False, 'posthlewaite': False, 'cox': False, 'slickster': False, 'mindy': False, 'propagated': False, 'himself': False, 'collect': False, 'sliding': False, 'stacy': False, 'crimes': False, 'recitals': False, 'puns': False, 'incompetence': False, 'inundates': False, 'squader': False, 'rainfall': False, 'bars': False, 'executioner': False, 'eventual': False, 'mackey': False, 'cough': False, 'bargained': False, 'frantically': False, 'serials': False, 'processing': False, 'rowlf': False, 'dorm': False, 'endowment': False, 'sweats': False, 'qb': False, 'bank': False, 'wherewithal': False, 'hoodoo': False, 'ian': False, 'periphery': False, 'airplanes': False, 'beckinsale': False, 'biggs': False, 'undertones': False, 'everton': False, 'porky': False, 'crutch': False, 'mews': False, 'insistent': False, 'indistinguishable': False, 'captured': False, 'wimpy': False, 'ventricle': False, 'direction': False, 'forwards': False, 'sam': False, 'manderley': False, 'barrels': False, 'progressively': False, 'assume': False, 'yer': False, 'rhodes': False, 'affirmation': False, 'deciphered': False, '_is_': False, 'opener': False, 'pas': False, '_moby': False, 'sanxay': False, 'refunds': False, 'irreparable': False, 'troy': False, 'when': True, 'banditos': False, 'passionately': False, 'passangers': False, 'factors': False, 'ny': False, 'canister': False, 'dey': False, 'wilder': False, 'labelling': False, 'sexist': False, 'powell': False, 'fiber': False, 'sonnenfield': False, 'dropout': False, 'moores': False, 'philosophizing': False, 'cahiers': False, 'bart': False, 'withdrawn': False, 'finer': False, 'nah': False, 'cruise': False, 'narrated': False, 'spate': False, 'world': True, 'explore': False, 'patinkin': False, 'spatulas': False, 'waif': False, 'alley': False, 'lovemaker': False, 'internalized': False, 'nonetheless': False, 'valet': False, 'pornographic': False, 'publicized': False, 'attached': False, 'piza': False, 'proof': False, 'khachaturian': False, '90': False, 'broiled': False, 'nonmembers': False, 'driven': False, 'compartmented': False, 'slays': False, 'bill': False, 'prise': False, 'payload': False, 'maltin': False, 'reversals': False, 'rosalind': False, 'alluringly': False, 'saucy': False, 'diffusing': False, 'jaunts': False, 'showed': False, 'staff': False, 'overacted': False, 'heat': False, 'littles': False, 'infallible': False, 'organisms': False, 'terminals': False, 'ply': False, 'leviathan': False, 'plucks': False, 'josu': False, 'mascot': False, 'exercising': False, 'fireplace': False, 'geared': False, 'unmistakable': False, 'roommate': False, 'romancing': False, 'mu': False, 'bees': False, 'synched': False, 'snobs': False, 'defunct': False, 'vienna': False, 'dolly': False, 'tattoo': False, 'cassidy': False, 'conquers': False, 'segment': False, 'manhunt': False, 'slight': False, 'cover': False, 'breaks': False, 'decks': False, 'skills': False, 'resist': False, 'kelvin': False, 'scary': False, 'inflicting': False, 'possibly': False, 'lake': False, 'deborah': False, 'zeroing': False, 'successfuly': False, 'monologue': False, 'crenna': False, 'infantry': False, 'stating': False, 'bombarding': False, 'ed': False, 'wind': False, 'diary': False, 'experienced': False, 'spills': False, 'synthesized': False, 'netherworld': False, 'penetrate': False, 'hampered': False, 'assistant': False, 'petitioned': False, 'klose': False, 'victoria': False, 'canoe': False, 'pupil': False, 'whic': False, 'loanshark': False, 'mummified': False, 'ihmoetep': False, 'peripheral': False, 'ripper': False, 'pawn': False, 'volvo': False, 'banjos': False, 'casual': False, 'located': False, 'polymorphously': False, 'curiosities': False, 'incohesive': False, 'shoot': False, 'schnook': False, 'pimply': False, 'scrubbed': False, 'cathrine': False, 'hormone': False, 'widower': False, 'bears': False, 'behaving': False, 'marijuana': False, 'monsters': False, 'ratty': False, 'combat': False, 'degeneres': False, 'events': False, 'my': True, 'whales': False, 'graynamore': False, 'muldoon': False, 'paneling': False, 'lenser': False, 'reel': False, 'laughs': False, 'progressive': False, 'succulent': False, 'braintree': False, 'accomplish': False, 'sfxfest': False, 'obsession': False, 'forrest': False, 'unprecedented': False, 'davies': False, 'glover': False, 'downsized': False, 'orser': False, 'warns': False, 'coat': False, 'irreplaceable': False, 'badies': False, 'furthers': False, 'bile': False, 'taraji': False, 'renowned': False, 'dealer': False, 'ninjas': False, '175': False, 'wallace': False, 'ivory': False, 'unites': False, 'delved': False, 'medak': False, 'vinnie': False, 'sikh': False, 'seinfeld': False, 'expansionism': False, 'hunts': False, 'soil': False, 'ailing': False, 'trajectory': False, 'admired': False, 'multifaceted': False, 'inviting': False, 'moist': False, 'definate': False, 'decked': False, 'bolster': False, 'substandard': False, 'lovemaking': False, 'lobster': False, 'apprehend': False, 'glen': False, 'dooming': False, 'oedipal': False, 'yakusho': False, 'lipstick': False, 'bostock': False, 'valid': False, 'muted': False, 'friendships': False, 'hypothetically': False, 'unscary': False, 'harriet': False, 'dissimilar': False, 'mackintosh': False, 'benefits': False, 'surrealist': False, 'squalid': False, 'intro': False, 'slips': False, '1919': False, 'trip': False, 'ludicrousness': False, 'methodology': False, 'recollection': False, 'puberty': False, 'hooking': False, 'simplistic': False, 'pleads': False, 'smugness': False, 'wholeheartedly': False, 'flamenco': False, 'scoffs': False, 'whitewater': False, 'inportant': False, 'assaulted': False, 'actress': False, 'gripes': False, 'permeated': False, 'rosebudd': False, 'womanized': False, 'trilogy': False, 'taxes': False, 'shannon': False, 'litz': False, 'masterful': False, 'consists': False, 'schooler': False, 'turgeon': False, 'inventor': False, 'smithee': False, 'fingal': False, 'videocassette': False, 'cycles': False, 'fetched': False, 'desi': False, 'trove': False, 'desparation': False, 'gramophone': False, 'reveling': False, 'paying': False, 'assasination': False, 'bogeyman': False, 'text': False, 'svenwara': False, 'josef': False, 'evening': False, 'ongoing': False, 'atoll': False, 'probes': False, 'talkin': False, 'bret': False, 'previously': False, 'fassbinder': False, 'mozart': False, 'label': False, 'tumultuous': False, 'nichols': False, 'hannibal': False, 'mpaa': False, 'difference': False, 'rapture': False, 'alienated': False, 'instigates': False, 'bateer': False, 'uncommon': False, 'edith': False, 'knowledge': False, 'marsters': False, 'mcgehee': False, 'docks': False, 'trust': False, 'herzfeld': False, 'green': False, 'insipidly': False, 'raison': False, 'intonation': False, 'playtone': False, 'saints': False, 'journalists': False, 'turtleneck': False, 'slowed': False, 'brightened': False, 'coil': False, 'reilly': False, 'moderate': False, 'filler': False, 'cinematographers': False, 'scientist': False, 'cremer': False, 'walhberg': False, 'marie': False, 'antonioni': False, 'prioritized': False, 'aroway': False, 'auschwitz': False, 'kaczkowski': False, '_red': False, 'lengthen': False, 'referenced': False, 'binoche': False, 'grittier': False, 'distributor': False, 'romanticizing': False, 'blunt': False, 'treatise': False, 'announcements': False, 'unkempt': False, 'lo': False, 'malloy': False, 'patriarch': False, 'raskolnikov': False, 'unimaginative': False, 'eye': False, 'carpings': False, 'novotny': False, 'liman': False, 'intersplices': False, 'assuredly': False, 'abby': False, 'basement': False, 'passageways': False, 'leafy': False, 'joie': False, 'casablanca': False, 'dreamer': False, 'criticise': False, 'sakaguchi': False, 'viewing': False, 'fatal': False, 'polito': False, 'uhm': False, 'hypnotist': False, 'furthering': False, 'korsmo': False, 'dream': False, 'upheaval': False, 'dollops': False, 'anybody': False, 'flushed': False, 'shattered': False, 'declining': False, 'vie': False, 'governed': False, 'pointer': False, 'anyway': False, 'kressler': False, 'tree': False, 'persuading': False, 'adventure': False, 'estrangement': False, 'demands': False, 'sleepwalk': False, 'vicariously': False, 'waisted': False, 'rocker': False, 'blindsided': False, 'indescribable': False, 'thuroughly': False, 'abdul': False, 'vanishes': False, 'chandler': False, 'incomprehensible': False, 'interior': False, 'avocations': False, 'auction': False, 'coke': False, 'politcally': False, 'delores': False, 'designer': False, 'erotic': False, 'reeking': False, 'avoids': False, 'neglecting': False, 'highlights': False, 'goaded': False, 'commensurately': False, 'lays': False, 'sins': False, 'bes': False, 'petrovsky': False, 'significant': False, 'muddled': False, 'opera': False, 'apex': False, 'proclivities': False, 'riffini': False, 'sacrificial': False, 'described': False, 'travesty': False, 'flawed': False, 'capturing': False, 'theirselves': False, 'basics': False, 'connotations': False, 'doss': False, 'limps': False, 'laughlin': False, 'grilling': False, 'fraught': False, 'cheesiness': False, 'tracer': False, 'academics': False, 'revolt': False, 'menstruating': False, 'phillotson': False, 'zhuangzhuang': False, 'haunt': False, 'shred': False, 'tendancies': False, 'stimulants': False, 'qui': False, '1973': False, 'toeing': False, 'toni': False, 'fuels': False, 'exudes': False, 'fame': False, 'unmistakably': False, 'shootouts': False, 'deliveree': False, 'detect': False, 'edifying': False, 'grinding': False, 'bandits': False, '38th': False, 'hurls': False, 'roberta': False, 'spirals': False, 'muhammad': False, '30s': False, 'droney': False, 'captures': False, 'sadsacks': False, 'depalma': False, 'silverback': False, 'neilsen': False, 'they': True, 'documented': False, 'impersonation': False, 'tavington': False, 'responsibility': False, 'counseling': False, 'jungles': False, 'groom': False, 'nathan': False, 'tightest': False, 'looker': False, 'aboriginals': False, 'fleshes': False, 'costing': False, 'incarceration': False, 'daydreams': False, 'precursor': False, 'paraplegic': False, 'modesty': False, 'phrase': False, 'poignant': False, 'yearbook': False, 'escalating': False, 'presuming': False, 'release': False, 'lurks': False, 'misbehavers': False, 'alibi': False, 'fuentes': False, 'cursory': False, 'keeps': False, 'negating': False, 'ghidrah': False, 'electrocuted': False, 'surroundings': False, 'boham': False, 'boosterism': False, 'transcendental': False, 'orphan': False, 'fibber': False, 'disadvantage': False, '_remains': False, 'poignantly': False, 'strives': False, 'hairnets': False, 'ritually': False, 'garret': False, 'glossing': False, 'pisken': False, 'burnt': False, 'ledge': False, 'undies': False, 'prisoners': False, 'rights': False, 'gravedigger': False, 'gevedon': False, 'lancelot': False, 'takehiro': False, 'periodical': False, 'contributes': False, 'inhereit': False, 'waltz': False, 'dull': False, 'breeze': False, 'piousness': False, 'occurs': False, 'barnes': False, 'winger': False, 'surgical': False, 'trunk': False, 'gyrations': False, 'portobello': False, 'picturing': False, 'hopes': False, 'seth': False, 'overseas': False, 'elementary': False, 'agamemnon': False, 'brosnon': False, 'splatter': False, 'gap': False, 'purposes': False, 'thunderclaps': False, 'cornball': False, 'outweigh': False, 'ashe': False, 'absence': False, 'youull': False, 'cutherton': False, 'diminuitive': False, 'fishy': False, 'pharmacological': False, 'ambiance': False, 'pricelessly': False, 'purported': False, 'balderdash': False, 'foolery': False, 'symptomatic': False, 'sociopath': False, '144': False, 'with': True, 'successor': False, 'clarisse': False, 'followup': False, 'nieces': False, 'comraderie': False, 'each': False, 'accepted': False, 'buyer': False, 'babysitter': False, 'experimenting': False, 'renewed': False, 'earthlings': False, 'thom': False, 'dusk': False, 'legion': False, 'migraines': False, 'reeve': False, 'inferno': False, 'conscientious': False, 'oboe': False, 'movingly': False, 'richness': False, 'supercop': False, 'ads': False, 'posthumous': False, 'jibberish': False, 'unarmed': False, 'gangland': False, 'outing': False, 'sequal': False, 'atlantis': False, 'conspirators': False, 'dropping': False, 'cramped': False, 'grim': False, 'inadequacies': False, 'barest': False, 'wandering': False, 'senge': False, 'crossroads': False, 'curse': False, 'pacify': False, 'libs': False, 'eschews': False, 'experimenters': False, 'breach': False, 'ascends': False, 'surfaced': False, 'penetrated': False, 'epectations': False, 'meteorologist': False, 'surrendering': False, 'calgary': False, 'stonily': False, 'soused': False, 'shoring': False, 'lifeboats': False, 'adapted': False, 'rennie': False, 'goddamned': False, 'quoted': False, 'negligees': False, 'morale': False, 'copycat': False, 'distinquished': False, 'miniatures': False, 'mrs': False, 'swings': False, 'ishtar': False, 'relatives': False, 'closese': False, 'trickery': False, 'jeb': False, 'downpour': False, 'sigh': False, 'consisting': False, 'astonished': False, 'shirase': False, 'gignac': False, 'blundered': False, 'flight': False, 'panscholi': False, 'sandstorm': False, 'theodore': False, 'robbed': False, 'phoenix': False, 'enamored': False, 'northeast': False, 'ben': False, '21': False, 'slater': False, 'scanners': False, 'linearity': False, 'fete': False, 'mongering': False, 'borrows': False, 'visions': True, 'bigtime': False, 'uncorking': False, 'article': False, 'superbly': False, 'campily': False, 'zoe': False, 'plethora': False, 'ahab': False, 'beasley': False, 'springfield': False, 'simpleminded': False, 'jetee': False, 'mizrahi': False, 'secession': False, 'characterizes': False, 'turks': False, 'beckons': False, 'sensually': False, 'yourselves': False, 'cauldron': False, 'felons': False, 'preceding': False, 'sverak': False, 'teapot': False, 'provides': False, 'marcy': False, 'veinotte': False, 'mettle': False, 'c3p0': False, '1830s': False, 'wades': False, 'versus': False, 'groveling': False, 'shelmikedmu': False, 'oozes': False, 'affordable': False, 'immeadiate': False, 'cranky': False, '36th': False, 'tornado': False, 'stylelessly': False, 'hero': False, 'nihilistic': False, 'comprehendible': False, 'uncrowned': False, 'pre': False, 'resent': False, 'ratings': False, 'r': False, 'bouts': False, 'lowell': False, 'life': True, 'milks': False, 'cave': False, 'sank': False, 'lengths': False, 'holdover': False, 'also': True, 'unassailable': False, 'thunk': False, 'blandy': False, '426': False, 'tomboy': False, 'fluttering': False, 'cafeteria': False, 'fellows': False, 'digits': False, 'furnishings': False, 'moralistically': False, 'natasha': False, '_blade_': False, 'rednecks': False, 'accepting': False, 'booster': False, 'hedley': False, 'flapping': False, 'sculptress': False, 'olsson': False, 'anarchic': False, 'dietz': False, 'bit': True, 'inspire': False, 'mcglone': False, 'seediness': False, '_fifty_': False, 'visited': False, 'encourages': False, 'anne': False, 'luc': False, 'morte': False, 'bronwen': False, 'blackboards': False, 'shits': False, 'tighter': False, 'belabors': False, 'toaster': False, 'sarossy': False, 'cora': False, 'moss': False, 'whitfeld': False, 'grunted': False, 'puritan': False, 'aalyah': False, 'soderburgh': False, 'lamely': False, 'monotony': False, 'banner': False, 'gloom': False, 'voila': False, 'generals': False, 'inducers': False, '\\x14': False, 'aretha': False, 'garnered': False, 'undertone': False, 'heroin': False, 'toghether': False, 'dries': False, 'weddell': False, 'jellylike': False, 'puppy': False, 'windbag': False, 'laboratory': False, 'husbands': False, 'brainer': False, 'implicates': False, 'street': True, 'jamey': False, 'knights': False, 'mortars': False, 'venable': False, 'el': False, 'baron': False, 'dissect': False, 'presently': False, 'hockney': False, 'death': False, 'bokeem': False, 'converted': False, 'stutters': False, 'traveler': False, 'invisible': False, 'cropduster': False, 'submarines': False, 'caveat': False, 'fixedly': False, 'tugboat': False, 'lulled': False, 'laserdiscs': False, 'pouncing': False, 'lovin': False, 'hospitalized': False, '1943': False, 'tantalizingly': False, 'mission': False, 'terence': False, 'argonautica': False, 'incoherent': False, 'avid': False, 'projections': False, 'carded': False, 'nov': False, 'rocks': False, 'assigns': False, 'walsh': False, 'advise': False, 'sidewalk': False, 'tzi': False, 'celebrates': False, 'garage': False, 'gainfully': False, 'profiteers': False, 'goldeneye': False, 'hayashi': False, 'endor': False, 'rejected': False, 'civilised': False, 'bouajila': False, 'woodside': False, 'fehr': False, 'disintigrated': False, 'competitions': False, 'busload': False, 'dicillo': False, 'boatman': False, 'sailboat': False, 'nexus': False, 'hitchhikes': False, 'franco': False, 'bailing': False, 'replenish': False, 'sppedboat': False, 'marketwise': False, 'classier': False, 'whisked': False, 'shuttles': False, 'gailard': False, 'forecast': False, 'aristocracy': False, 'evelyn': False, 'concentrate': False, 'revenge': False, 'vertiginous': False, 'rector': False, 'fades': False, 'starved': False, 'loki': False, 'immolates': False, 'whocares': False, 'indulgent': False, 'calculation': False, 'herein': False, 'unidentified': False, 'quadruple': False, 'tabasco': False, 'geographical': False, 'unrelentless': False, 'brazilian': False, '_would_': False, 'bourgeoisie': False, 'sheeva': False, 'dohlen': False, 'midget': False, 'inconveniences': False, 'knott': False, 'debts': False, 'inducting': False, 'traumnovelle': False, 'soared': False, 'hilariously': False, 'paradigm': False, 'fizzle': False, 'excavating': False, 'germ': False, 'smashing': False, 'appalachian': False, 'port': False, 'photojournalist': False, 'dissapointly': False, '_great_': False, 'magazines': False, 'intolerable': False, 'sense': True, 'airwolf': False, 'nooks': False, 'jamaica': False, 'overseer': False, 'friends': False, 'spraying': False, 'lessen': False, 'marc': False, 'naturalness': False, 'vowed': False, 'helpings': False, 'meeting': False, 'log': False, 'soho': False, 'strained': False, 'belittling': False, 'cheetah': False, 'welcoming': False, 'dance': False, 'faltered': False, 'marvelously': False, 'deceit': False, 'robotics': False, 'humored': False, 'parrish': False, 'aboard': False, 'kuzco': False, 'lewis': False, 'producing': False, 'simulate': False, 'disheartened': False, 'tick': False, 'occupational': False, 'prefer': False, 'ostensible': False, 'banisters': False, 'loop': False, 'impending': False, 'loin': False, 'satirical': False, 'terrorise': False, 'rohypnol': False, 'tournaments': False, 'entertaining': True, 'delroy': False, 'swingers': False, 'humor': False, 'dear': False, 'voyeurism': False, 'parrot': False, 'mcguigan': False, 'psychically': False, 'oliver': False, 'dissipate': False, 'shaven': False, 'vixen': False, 'overwrought': False, 'antarctica': False, 'couple': False, 'percent': False, 'hoot': False, 'caraboo': False, 'nudge': False, 'renounce': False, 'entrance': False, 'vols': False, 'hours': False, 'inserts': False, 'roomie': False, 'resplendent': False, 'tullymore': False, 'mcgoohan': False, 'preppy': False, 'brennick': False, 'embodies': False, 'psychomagically': False, 'psychobabbler': False, 'projecting': False, 'noticably': False, 'tschombe': False, 'striking': False, 'bowden': False, 'happenings': False, 'eyelids': False, 'paparazzo': False, 'unobjective': False, 'prequel': False, 'bejesus': False, 'bizaare': False, 'naomi': False, 'rifkin': False, '155': False, 'arranges': False, 'assures': False, 'manifestation': False, 'specials': False, 'uncompromising': False, 'bratiness': False, 'cincinnati': False, 'charred': False, 'castilian': False, 'ballad': False, 'jackie': False, 'kim': False, 'szwarc': False, 'audi': False, 'fastened': False, 'rake': False, 'tannek': False, 'telegraphic': False, 'castle': False, 'strike': False, 'striptease': False, 'stuggles': False, 'oohs': False, 'sealed': False, 'picky': False, 'kinka': False, 'floods': False, 'marshmallow': False, 'startup': False, 'risks': False, 'wyatts': False, 'mildly': False, 'inset': False, 'tremendously': False, 'featherweight': False, 'diners': False, 'deputies': False, 'processions': False, 'capability': False, 'countryish': False, 'trish': False, 'antenna': False, 'intelligentsia': False, 'schticks': False, 'merged': False, 'videotapes': False, 'torah': False, 'glazer': False, 'discomfort': False, 'warped': False, 'prophesies': False, 'psychotically': False, 'duke': False, 'ignorant': False, 'puff': False, 'blocked': False, 'wily': False, 'orson': False, 'gaskell': False, 'elgin': False, 'harries': False, 'bot': False, 'raged': False, 'gauthier': False, 'privy': False, 'tastefully': False, 'oaf': False, 'shread': False, 'purveyor': False, 'limbaugh': False, 'proft': False, 'composed': False, 'jocular': False, 'frederique': False, 'upstages': False, 'yellows': False, 'proposals': False, 'progresses': False, 'mirren': False, 'fabrice': False, 'detached': False, 'conciousness': False, 'rings': False, 'fort': False, 'modestly': False, 'festively': False, 'tome': False, 'topped': False, 'milos': False, 'push': False, 'unappreciated': False, 'sissy': False, 'swastika': False, 'prostitution': False, 'pikul': False, 'juni': False, 'rattner': False, 'stoicism': False, 'cerrano': False, 'hermosa': False, 'yourselfer': False, 'karaszewski': False, 'employs': False, 'bobby': False, 'loathe': False, 'bloomington': False, 'shyer': False, 'fortunately': False, 'seminary': False, 'guzman': False, 'pelicans': False, 'sloppily': False, 'cimino': False, 'uniform': False, 'skyrocketing': False, 'evangelical': False, 'clubbing': False, 'opportunities': False, 'corpses': False, 'desserts': False, 'louisiana': False, 'living': False, 'hype': False, 'judi': False, 'roads': False, 'pearlstein': False, 'catastrophic': False, 'beta': False, 'sucessful': False, 'radical': False, 'doormen': False, 'oldies': False, 'kidvid': False, 'tracking': False, 'ornery': False, 'devoured': False, 'saturated': False, 'warren': False, 'cleansing': False, 'asserting': False, 'gretchen': False, 'gourmets': False, 'titillate': False, 'paralleled': False, 'petter': False, 'roller': False, 'humanoid': False, 'unbelief': False, 'insignificant': False, 'switched': False, 'interrupt': False, 'opinionated': False, 'asset': False, 'lovlier': False, 'clamor': False, 'nonexistent': False, 'creations': False, 'unhinged': False, 'degrading': False, 'floop': False, 'material': False, 'wallpaper': False, 'imbalances': False, 'salami': False, 'slicker': False, 'woolsley': False, 'meier': False, 'depravation': False, 'technicality': False, 'struggling': False, 'vukovich': False, 'loitered': False, 'bizarre': False, 'blasphemy': False, 'cotterill': False, 'steely': False, 'campus': False, 'workload': False, 'lillianna': False, 'contextualize': False, 'morals': False, 'talbot': False, 'erosion': False, 'janevski': False, 'ogre': False, 'boyum': False, 'predicting': False, 'strangle': False, 'shown': False, 'school': False, 'thickened': False, 'nutcracker': False, 'selflessly': False, 'luedeke': False, 'guarding': False, 'anabella': False, 'complaint': False, 'predators': False, 'hots': False, 'bowling': False, '2017': False, 'timoney': False, 'permission': False, 'sanctimony': False, 'commercial': False, 'immigrants': False, 'bottoms': False, 'cedars': False, 'unspeakable': False, 'fwahahahahahahahaha': False, 'reluctant': False, 'swords': False, 'orville': False, 'gives': False, 'surmise': False, 'contraceptive': False, 'hemisphere': False, 'times': False, 'pelts': False, 'condescend': False, 'slickest': False, 'mathieu': False, 'song': False, 'dionna': False, 'hill': False, 'attributable': False, 'near': False, 'schlumpy': False, 'billie': False, 'nguyen': False, 'noooo': False, 'mortally': False, 'iraqi': False, 'crouches': False, 'immobilise': False, 'sweepstakes': False, 'overrides': False, 'assemble': False, 'dominates': False, 'daily': False, 'jada': False, 'mazin': False, 'zach': False, 'unmenacing': False, 'vernon': False, 'chopra': False, 'buy': False, 'diggers': False, 'drummond': False, 'activist': False, 'prepostrous': False, 'pest': False, 'chokes': False, 'whorehouse': False, 'biotech': False, 'couplings': False, 'dekay': False, 'chipmunk': False, 'slapstickness': False, 'marin': False, 'showing': True, 'movement': False, 'mast': False, 'unjustifiable': False, 'inherent': False, 'conducive': False, 'hudsucker': False, 'tennessee': False, 'downtrodden': False, 'crawly': False, 'disrepair': False, 'pankow': False, 'indien': False, 'environmentally': False, 'schlock': False, 'inventive': False, 'preschoolers': False, 'racing': False, 'earns': False, 'marco': False, 'impactful': False, 'tactful': False, 'ticking': False, 'urbano': False, 'hogs': False, 'uninformed': False, 'traumatised': False, 'truths': False, 'positronic': False, 'roro': False, 'cautious': False, 'olyphant': False, 'bossy': False, 'wealthiest': False, 'midler': False, 'brenneman': False, 'lovably': False, 'voyage': False, 'successive': False, 'timbers': False, 'broken': False, 'timecop': False, '48': False, 'smary': False, 'freshener': False, 'mozilla': False, 'thing': False, 'dozen': False, 'grownup': False, 'buddy': False, '2029': False, 'resurrecting': False, 'equated': False, 'artful': False, 'grubbing': False, 'ami': False, 'benton': False, 'considers': False, 'soulless': False, 'kernel': False, 'scruches': False, 'negotiations': False, 'faculties': False, 'eskow': False, 'irascible': False, 'slogging': False, 'responsibilities': False, 'subsidiary': False, 'survivalist': False, 'jen': False, 'wax': False, 'beleiveable': False, 'older': False, 'grouchy': False, 'chestnuts': False, 'cuffs': False, 'prancer': False, 'johnston': False, 'premeditated': False, 'cul': False, 'birkin': False, 'megabuck': False, 'yielded': False, 'bails': False, 'wider': False, 'myra': False, 'skewed': False, 'neighborhood': True, 'masturbation': False, 'populus': False, 'since': True, 'continued': False, 'breathed': False, 'marci': False, '1': False, 'horrible': False, 'liar': False, 'jefferson': False, 'greenstreet': False, 'fahey': False, 'safety': False, 'intensifies': False, 'stanze': False, 'don': True, 'blurry': False, 'revolver': False, 'token': False, 'honorably': False, 'nother': False, 'morocco': False, 'cronenbergto': False, 'hick': False, 'jared': False, 's_romeo_': False, 'rochefort': False, 'cardshark': False, 'sze': False, 'dividing': False, 'oddball': False, 'jovial': False, 'injected': False, 'bolek': False, 'deeply': False, 'accordion': False, 'ramsey': False, 'huang': False, 'trusted': False, 'cow': False, 'drizzling': False, 'eggnog': False, 'koch': False, 'bisset': False, 'curtain': False, 'moniker': False, 'artistical': False, 'without': False, 'kingpins': False, 'impassioned': False, 'escobar': False, 'lakes': False, 'postmodern': False, 'misuse': False, 'joust': False, 'altman': False, 'rookie': False, 'contort': False, 'figured': True, 'capacity': False, 'goodnight': False, 'ruling': False, 'nubla': False, 'brazillian': False, 'ians': False, 'misspelling': False, 'videogames': False, 'quo': False, 'bestowed': False, 'imdb': False, 'schematics': False, 'vegetarianism': False, 'cholera': False, 'weight': False, 'traveled': False, 'ang': False, 'discord': False, 'rudd': False, 'widespread': False, 'swagger': False, 'lingers': False, 'splattering': False, 'reelviews': False, 'cyberdog': False, 'figgis': False, 'depress': False, 'transvestitism': False, 'print': False, 'mainland': False, 'grossfest': False, 'keeping': False, 'clarke': False, 'imr': False, 'touts': False, 'elliptical': False, 'disorganised': False, 'country': False, 'snicker': False, 'envisioned': False, 'attest': False, 'hammerhead': False, 'mouthing': False, 'labour': False, 'acclimatize': False, 'waddling': False, 'gulliver': False, 'imelda': False, 'rollickingly': False, 'unerringly': False, 'bash': False, 'caddies': False, 'grudge': False, 'stoolie': False, 'muses': False, 'extracted': False, 'inversion': False, 'thank': False, 'alarms': False, 'caper': False, 'nuns': False, 'army': False, 'shatters': False, 'doorstep': False, 'unadulterated': False, 'judged': False, 'seasoning': False, 'dialogues': False, 'precipitous': False, 'regular': False, 'tapioca': False, 'zit': False, 'trendily': False, 'vicar': False, 'polygamy': False, 'spark': False, 'weighing': False, 'offered': False, 'helps': False, 'grew': False, 'asking': False, 'jeopardise': False, 'showcases': False, 'aft': False, 'occurring': False, 'ut': False, 'oracle': False, 'anette': False, 'dignity': False, 'circumventing': False, 'wobbles': False, 'murray': False, 'draws': False, 'hugo': False, 'amiable': False, '50th': False, 'anticipate': False, 'clippings': False, 'pimpernel': False, 'spouse': False, 'expresses': False, 'winslett': False, 'uhhm': False, '_urban': False, 'likability': False, 'darren': False, 'hosts': False, 'monger': False, 'blender': False, 'telephones': False, 'embezzlement': False, 'kilt': False, \"/'\": False, 'teeth': False, 'shmaltzy': False, 'schlesinger': False, 'detects': False, 'dreyfus': False, 'smelly': False, 'joyfully': False, 'mindful': False, 'spousal': False, 'ushered': False, 'emrboidered': False, 'blatherings': False, 'sofia': False, 'speculate': False, 'selects': False, 'unborn': False, 'raucous': False, 'knell': False, 'ouija': False, 'carelessly': False, 'scribbles': False, 'etienne': False, 'harm': False, 'faithfully': False, 'foray': False, 'insulin': False, 'gleiberman': False, 'redundantly': False, 'crusoe': False, 'grading': False, 'means': False, 'grinder': False, 'cyborg': False, 'swirling': False, 'smoking': False, 'bleachers': False, 'fonz': False, 'unkind': False, 'contested': False, 'jetliners': False, 'harpoons': False, 'harshest': False, 'inefficiencies': False, 'voids': False, 'showiest': False, 'aol': False, 'quentin': False, 'apprenticeship': False, 'practically': False, 'paucity': False, 'coordinators': False, 'undeterred': False, 'alda': False, 'miniature': False, 'pun': False, 'revelation': False, 'fix': False, 'enjoyably': False, 'waylon': False, 'tourism': False, 'demo': False, 'yikes': False, 'skarsgaard': False, 'assumptions': False, 'unskilled': False, 'marv': False, 'candor': False, 'signficance': False, 'furrow': False, 'nosebleeding': False, 'mopey': False, 'accustomed': False, 'amuse': False, 'contenders': False, 'wants': False, 'bucking': False, 'lovelace': False, 'adamson': False, 'unfathomable': False, 'directives': False, 'thermia': False, 'henriksen': False, 'hopefuls': False, 'dumbest': False, 'linda': False, 'lifeforms': False, 'retrieved': False, 'laflour': False, 'confederation': False, 'outshines': False, 'anticlimax': False, 'grieg': False, 'observe': False, 'squeeze': False, 'tuscan': False, 'juror': False, 'lennix': False, 'set': False, 'smarmy': False, 'god': False, 'pledged': False, 'convicted': False, 'boastful': False, '911': False, 'formal': False, 'salon': False, 'puppies': False, 'singed': False, 'survived': False, 'covertly': False, 'colon': False, 'furrier': False, 'beachfront': False, 'hiatus': False, 'spielbergization': False, 'backfires': False, 'burt': False, 'ahead': False, '007': False, 'hernandez': False, 'miyake': False, 'genders': False, 'lolipop': False, 'dow': False, 'hesse': False, 'journals': False, 'biebe': False, 'implication': False, 'scooped': False, 'pallid': False, 'invest': False, 'observation': False, 'misteps': False, 'mastering': False, 'vallejo': False, 'unispiring': False, 'screened': False, 'ingrown': False, 'belonging': False, 'nerds': False, 'worry': False, 'page': False, 'valiantly': False, 'licensed': False, 'armoire': False, 'expectation': False, 'aleck': False, 'inspired': False, 'needful': False, 'gatekeeper': False, 'newmar': False, 'peron': False, 'matchmaking': False, 'totalitarian': False, 'unredeemable': False, 'sought': False, 'praised': False, 'syllables': False, 'attar': False, 'sprinkle': False, 'altercation': False, 'fixture': False, 'boolie': False, 'sasha': False, 'catalog': False, 'eater': False, 'greer': False, 'everyman': False, 'financially': False, 'gestures': False, 'internment': False, 'fetishistic': False, 'bullets': False, 'unparalleled': False, 'survey': False, 'answers': False, 'protestations': False, 'kasdan': False, 'volcanic': False, 'directorial': False, 'butcher': False, 'reductionism': False, 'tinseltown': False, 'executes': False, 'reportedly': False, 'rushes': False, 'strongman': False, 'capita': False, 'conservative': False, 'millennia': False, 'dominant': False, 'concepts': False, 'gathered': False, 'subscription': False, 'tomes': False, 'professionally': False, 'baio': False, 'munches': False, 'guild': False, 'trophy': False, 'baltimore': False, 'usher': False, 'claps': False, 'schoolboy': False, 'cleverly': False, 'abolitionists': False, 'bison': False, 'digitalized': False, 'genetic': False, 'abbreviated': False, 'simplified': False, 'vices': False, 'precedents': False, 'your': True, 'draining': False, 'utopian': False, 'automobile': False, 'racially': False, 'exemplified': False, 'watershed': False, 'diminish': False, 'identification': False, 'catch': False, 'crevillen': False, 'williamson': False, 'aaron': False, 'barnacles': False, 'remorseful': False, 'pellegrino': False, 'terminally': False, 'disobeys': False, 'chalkboard': False, 'boomer': False, 'melora': False, 'landed': False, 'stowaway': False, 'binds': False, 'ziembicki': False, 'concluded': False, 'fascistic': False, 'discharging': False, 'chain': False, 'ferrer': False, 'humanizing': False, 'wincer': False, '_home_alone_': False, 'reconnassaince': False, 'softener': False, 'tide': False, 'backus': False, 'cosette': False, 'savoury': False, 'rapper': False, 'mortality': False, 'guffman': False, 'scriptwriters': False, 'healers': False, 'overseen': False, 'clemens': False, 'watanabe': False, 'consensus': False, 'overheated': False, 'inscribe': False, 'hypothalamii': False, 'stinkers': False, 'bowls': False, 'reclaiming': False, 'vet': False, 'dutch': False, 'defusing': False, 'stow': False, 'feisty': False, 'desparate': False, 'mary': False, 'fulfilled': False, 'undo': False, 'romero': False, 'princess': False, 'privileges': False, 'nominated': False, 'harlequin': False, 'sugarish': False, 'renna': False, '1946': False, 'truly': False, 'chronicles': False, 'accordingly': False, 'debilitates': False, 'synapses': False, 'spacesuit': False, 'ragtag': False, 'technobabble': False, 'wrestle': False, 'convulsions': False, 'unconcious': False, 'floundering': False, 'undeserved': False, 'dowd': False, 'festive': False, 'spiceworld': False, 'performences': False, 'pantaeva': False, 'wait': False, 'kroon': False, 'saddest': False, 'exclusivity': False, 'guitry': False, 'harris': False, '56': False, 'climbs': False, 'naughton': False, 'notices': False, 'believability': False, 'act': False, 'shrugging': False, 'hiberli': False, 'dennehy': False, 'procreation': False, 'forethought': False, 'shalt': False, 'oversaturated': False, 'bonnie': False, 'cut': False, 'haig': False, 'sexton': False, 'cinergi': False, 'beristain': False, 'archaic': False, 'bath': False, '92ve': False, 'firth': False, 'catty': False, 'rounders': False, 'centers': False, 'remedial': False, 'eventuality': False, 'week': False, 'saville': False, 'imagines': False, 'sitting': True, 'dismal': False, 'accelerator': False, 'neverending': False, 'zoologist': False, 'uncles': False, 'lifesaving': False, 'cynic': False, 'esteemed': False, 'campery': False, 'ooooo': False, 'buton': False, 'honours': False, 'manny': False, 'staying': False, 'otherworldliness': False, 'sparkle': False, 'assedly': False, 'wwi': False, 'phenomenally': False, 'awol': False, 'paves': False, 'sub': False, 'excel': False, 'peace': False, 'raid': False, 'anderson': False, 'winningham': False, 'gm': False, 'break': True, 'feasting': False, 'attitudes': False, 'ranged': False, 'thugs': False, 'lapage': False, 'rampage': False, 'nickname': False, 'forceful': False, 'tumbleweed': False, 'hootworthy': False, 'horizon': False, 'bastardised': False, 'nonplused': False, 'fink': False, 'remission': False, 'patrons': False, 'interred': False, 'trashily': False, 'frozen': False, 'illogical': False, 'natured': False, 'wade': False, 'backlit': False, 'platoon': False, 'taught': False, 'rubs': False, 'gus': False, 'prisons': False, 'massee': False, 'consoling': False, 'moviestar': False, 'sands': False, 'rainmaker': False, 'ophelia': False, 'overabundant': False, 'sayinig': False, 'winning': False, 'maestro': False, 'eszterhas': False, 'elias': False, 'drek': False, 'rhinoceros': False, 'night': False, 'beah': False, 'rebuttal': False, 'dougray': False, 'simplest': False, 'disprove': False, 'hinds': False, 'frustrates': False, 'pores': False, 'havoc': False, 'cum': False, 'airline': False, 'squander': False, 'armrest': False, 'redeeming': False, 'renewal': False, 'sanctuary': False, 'argo': False, 'silences': False, 'crowe': False, 'investing': False, 'schandling': False, 'klass': False, 'laughers': False, 'vagrant': False, 'initation': False, 'brandis': False, 'pris': False, 'cummin': False, 'assail': False, 'triton': False, 'coney': False, 'speedboat': False, 'fallen': False, 'wga': False, 'gambler': False, 'notice': False, 'sulfuric': False, 'vaulerble': False, 'pursing': False, 'directions': False, 'timing': False, 'batfans': False, 'simplying': False, 'sherrie': False, 'quinland': False, '750': False, 'squemish': False, 'illustration': False, 'inconclusive': False, 'jutting': False, 'knockout': False, 'carry': False, 'newsweek': False, 'implausible': False, 'revitalizing': False, 'gate': False, 'ruined': False, 'stendahl': False, 'railings': False, 'witherspoon': False, 'debris': False, 'reverted': False, 'vamires': False, 'chains': False, 'cartoonishly': False, 'craggy': False, 'unfulfilled': False, 'spinosauraus': False, 'herrier': False, 'downes': False, 'schlictmann': False, 'dussolier': False, 'multimillion': False, 'corona': False, 'arroway': False, 'nominal': False, 'silence': False, 'korshunov': False, 'patiently': False, 'joss': False, 'playboy': False, 'esther': False, 'actosta': False, 'round': False, 'exquisite': False, 'chips': False, 'opt': False, 'y2g': False, 'foreshadow': False, 'title': False, 'shandling': False, 'inhaling': False, 'sleep': False, 'chuck': False, 'implausibilities': False, 'unthinkable': False, 'profile': False, 'dissapointment': False, '1944': False, 'bean': False, 'schulz': False, 'braniff': False, 'snob': False, 'gilled': False, 'floorboards': False, 'ar': False, 'titty': False, 'lyne': False, 'rewatch': False, 'overpopulated': False, 'subtract': False, 'diplomats': False, 'rumored': False, 'cassie': False, 'amorality': False, 'guarantee': False, 'morphings': False, 'rejoins': False, 'muppets': False, 'hickam': False, 'lyle': False, 'respected': False, 'components': False, 'creeping': False, 'reservation': False, 'pianist': False, 'legally': False, 'misrepresentation': False, 'albums': False, 'sock': False, 'crack': False, 'search': False, 'achieving': False, '17': False, 'snails': False, 'fuse': False, 'uncomfortably': False, 'firearms': False, 'abundantly': False, 'suitably': False, 'happiest': False, 'convert': False, 'continual': False, 'eyeball': False, 'beers': False, 'conquest': False, 'quirks': False, 'negotiating': False, 'mulcahy': False, 'pesudo': False, 'pakistani': False, 'redecorating': False, 'cheque': False, 'roddenberry': False, 'dazzle': False, 'believe': False, 'unamusing': False, 'tondo': False, 'brody': False, 'cranked': False, 'inquired': False, 'stomps': False, 'sieber': False, 'unwavering': False, 'goddess': False, 'killings': False, 'orioles': False, 'weapon': False, 'ons': False, 'painstaking': False, 'bunyan': False, 'clerk': False, 'pedestrian': False, 'keg': False, 'retrospective': False, 'ovulating': False, 'sauntering': False, 'seek': False, 'diffused': False, 'bludgeoning': False, 'essay': False, 'spacewalk': False, 'typecast': False, 'urinating': False, 'cheatin': False, 'shoots': False, 'psychologist': False, 'moritz': False, 'runner': False, 'obeys': False, 'lovett': False, 'curing': False, 'bragg': False, 'exemplifies': False, 'gigs': False, 'relinquishes': False, 'outclass': False, 'striker': False, 'ingmar': False, '1990s': False, 'freddy': False, 'jarman': False, 'ascaride': False, 'interligator': False, 'explores': False, 'conciseness': False, 'maven': False, 'casanova': False, '_more_': False, '_matewan_': False, 'attending': False, 'writeup': False, 'slurpy': False, 'faldwell': False, 'quicksilver': False, 'connecticut': False, 'riddle': False, 'pledge': False, 'upbringing': False, 'misirables': False, 'uploaded': False, 'sinewy': False, 'slugfest': False, 'scholarship': False, 'disaffected': False, 'sunniness': False, 'aykroyd': False, 'shaker': False, 'arraki': False, 'embarks': False, 'lindo': False, 'harrowingly': False, 'crushes': False, 'slyly': False, 'knutt': False, 'hugs': False, 'pinnochio': False, 'shohan': False, 'platter': False, 'cards': False, 'werner': False, 'lacombe': False, 'mcallister': False, 'crichton': False, 'eckhart': False, 'spa': False, 'individualism': False, 'emphasizes': False, 'lupone': False, 'amberlike': False, 'drawling': False, 'minimizing': False, 'academia': False, 'result': False, 'subverts': False, 'foil': False, 'depletion': False, 'thames': False, 'simultaneous': False, 'intellectualizing': False, 'forefront': False, 'doings': False, 'lamberto': False, 'leaned': False, 'architectural': False, 'tearjerker': False, 'bureaucracy': False, 'upwardly': False, 'scathing': False, 'startle': False, 'boxes': False, 'longish': False, 'frisch': False, 'unparallelled': False, 'improper': False, 'hironobu': False, 'regimen': False, 'monarch': False, 'gridlock': False, 'editorializing': False, 'electronics': False, 'farren': False, 'expands': False, 'hoblit': False, 'introductory': False, 'massironi': False, 'hobel': False, '_cliffhanger_': False, 'sabo': False, 'underachieves': False, 'electing': False, 'modelling': False, 'dialogueless': False, 'haywire': False, 'condemns': False, 'dentist': False, 'controller': False, 'horks': False, 'pigeons': False, 'thereafter': False, 'underplaying': False, 'cherbourg': False, 'representing': False, 'fundamentalist': False, 'electrically': False, 'arduous': False, 'betrothed': False, 'videos': False, 'shea': False, 'subtely': False, 'strocker': False, 'isolationist': False, 'rural': False, 'jonesy': False, 'shun': False, 'howlingly': False, 'underwater': False, 'weendigo': False, 'beefed': False, 'risen': False, 'phelps': False, 'paragons': False, 'endora': False, 'gaming': False, 'predetermine': False, 'frock': False, 'seagulls': False, 'agency': False, 'poppins': False, 'cornfield': False, 'abhorrence': False, 'existentialists': False, 'leathers': False, 'delight': False, 'dostoevsky': False, 'lez': False, 'klugman': False, 'fortinbras': False, 'expense': False, 'unnoticeable': False, 'authoritive': False, 'tonite': False, 'peeks': False, 'goonies': False, 'vulnerability': False, 'repaint': False, 'supplant': False, 'nicknames': False, 'married': False, 'porno': False, 'sufi': False, 'mcgaw': False, 'structuring': False, 'hilary': False, 'retreads': False, 'compound': False, 'suave': False, 'red': False, 'stephie': False, 'eschewed': False, 'shelled': False, 'interrogates': False, 'donato': False, 'revels': False, 'suggested': False, 'melodramatic': False, 'fistfights': False, 'forgettable': False, 'acception': False, 'sponsor': False, 'marred': False, 'spiked': False, 'fibe': False, 'beggars': False, 'paolo': False, 'crusade': False, 'proposing': False, 'harada': False, 'wheezing': False, 'gunned': False, 'cyncial': False, 'dispassionate': False, 'simpletons': False, 'shoeless': False, 'unimpeachable': False, 'punxsutawney': False, 'perpetuate': False, 'licked': False, 'cottrell': False, 'jerks': False, 'sympathies': False, 'mahoney': False, 'underbids': False, 'aide': False, 'luchini': False, 'titta': False, 'anachronisms': False, 'summon': False, 'confidential': False, 'snipes': False, 'destroyers': False, 'deciple': False, 'meteors': False, 'babysit': False, 'horizontal': False, 'instrumental': False, 'royalists': False, 'booboos': False, 'knocks': False, '701': False, 'binks': False, 'sherri': False, 'bumps': False, '_basquiat_': False, 'specimens': False, 'duckling': False, 'descending': False, 'wino': False, 'tuptim': False, 'wilmer': False, 'mcbain': False, 'detractors': False, 'commanded': False, 'desklamps': False, 'mistaking': False, 'venus': False, 'equaled': False, 'cooder': False, 'yeehawing': False, '89': False, 'naseeruddin': False, 'salvador': False, 'homies': False, 'malko': False, 'poetical': False, 'tafkap': False}\n"
     ]
    }
   ],
   "source": [
    "print(features)"
   ]
  },
  {
   "cell_type": "code",
   "execution_count": 94,
   "metadata": {},
   "outputs": [],
   "source": [
    "# for all documents\n",
    "featuresets = [(find_features(rev), category) for (rev, category) in documents]\n"
   ]
  },
  {
   "cell_type": "code",
   "execution_count": 95,
   "metadata": {},
   "outputs": [],
   "source": [
    "# train-test split of featureset using sklearn\n",
    "from sklearn import model_selection\n",
    "# define a seed for reproducibility\n",
    "seed = 1\n",
    "\n",
    "# spliting dataset\n",
    "train, test = model_selection.train_test_split(featuresets, test_size = 0.4, random_state=seed)"
   ]
  },
  {
   "cell_type": "code",
   "execution_count": 96,
   "metadata": {},
   "outputs": [
    {
     "name": "stdout",
     "output_type": "stream",
     "text": [
      "1200\n",
      "800\n"
     ]
    }
   ],
   "source": [
    "print(len(train))\n",
    "print(len(test))"
   ]
  },
  {
   "cell_type": "code",
   "execution_count": 97,
   "metadata": {},
   "outputs": [],
   "source": [
    "# using sklearn algorithms in NLTK\n",
    "from nltk.classify.scikitlearn import  SklearnClassifier\n",
    "from sklearn.svm import SVC"
   ]
  },
  {
   "cell_type": "code",
   "execution_count": 98,
   "metadata": {},
   "outputs": [],
   "source": [
    "model = SklearnClassifier(SVC(kernel = 'linear'))"
   ]
  },
  {
   "cell_type": "code",
   "execution_count": 99,
   "metadata": {},
   "outputs": [
    {
     "data": {
      "text/plain": [
       "<SklearnClassifier(SVC(C=1.0, cache_size=200, class_weight=None, coef0=0.0,\n",
       "  decision_function_shape='ovr', degree=3, gamma='auto_deprecated',\n",
       "  kernel='linear', max_iter=-1, probability=False, random_state=None,\n",
       "  shrinking=True, tol=0.001, verbose=False))>"
      ]
     },
     "execution_count": 99,
     "metadata": {},
     "output_type": "execute_result"
    }
   ],
   "source": [
    "# training \n",
    "model.train(train)"
   ]
  },
  {
   "cell_type": "code",
   "execution_count": 100,
   "metadata": {},
   "outputs": [
    {
     "name": "stdout",
     "output_type": "stream",
     "text": [
      "SVC Accuracy: 0.62625\n"
     ]
    }
   ],
   "source": [
    "# testing \n",
    "accuracy = nltk.classify.accuracy(model, test)\n",
    "print('SVC Accuracy: {}'.format(accuracy))"
   ]
  },
  {
   "cell_type": "code",
   "execution_count": null,
   "metadata": {},
   "outputs": [],
   "source": []
  }
 ],
 "metadata": {
  "kernelspec": {
   "display_name": "Python 3",
   "language": "python",
   "name": "python3"
  },
  "language_info": {
   "codemirror_mode": {
    "name": "ipython",
    "version": 3
   },
   "file_extension": ".py",
   "mimetype": "text/x-python",
   "name": "python",
   "nbconvert_exporter": "python",
   "pygments_lexer": "ipython3",
   "version": "3.5.6"
  }
 },
 "nbformat": 4,
 "nbformat_minor": 2
}
